{
 "cells": [
  {
   "cell_type": "markdown",
   "metadata": {
    "slideshow": {
     "slide_type": "slide"
    }
   },
   "source": [
    "<center>\n",
    "    <h1>Teoría de la Computación</h1>\n",
    "    <h1>Gramáticas de Contexto Libre</h1>\n",
    "    <h1></h1>\n",
    "    <h5>Prof. Wladimir Rodriguez</h5>\n",
    "    <h5>wladimir.rodriguez@outlook.com</h5>\n",
    "    <h5>Departamento de Computación</h5>\n",
    "</center>"
   ]
  },
  {
   "cell_type": "markdown",
   "metadata": {
    "slideshow": {
     "slide_type": "slide"
    }
   },
   "source": [
    "## Contenido\n",
    "\n",
    "- Árbol de derivación.\n",
    "- Ambigüedad.\n",
    "- Algoritmos de Simplificación de Gramáticas:\n",
    "- Eliminación de Símbolos y Producciones Inútiles.\n",
    "- Eliminación de Producciones Nulas.\n",
    "- Eliminación de Producciones Unitarias.\n",
    "- Formas Normales:\n",
    "    - Forma Normal de Chomsky.\n",
    "    - Forma Normal de Greibach."
   ]
  },
  {
   "cell_type": "markdown",
   "metadata": {
    "slideshow": {
     "slide_type": "slide"
    }
   },
   "source": [
    "## Gramáticas de Contexto Libre\n",
    "\n",
    "- Una gramática $G = (V, T, P, S)$ se dice que es de contexto libre o de tipo $2$ si y solo si todas las producciones tienen la forma:\n",
    "\n",
    "$$A \\to \\alpha$$\n",
    "\n",
    "donde  $A \\in V$ y $\\alpha \\in (V \\cup T)^*$.\n",
    "\n",
    "- Los lenguajes generados por estas gramáticas se llaman también de contexto libre o de tipo $2$."
   ]
  },
  {
   "cell_type": "markdown",
   "metadata": {
    "slideshow": {
     "slide_type": "slide"
    }
   },
   "source": [
    "## Arbol de Derivación\n",
    "\n",
    "- $S \\to a⎮b⎮c$\n",
    "- $S \\to (S + S)$\n",
    "- $S \\to (S ∗ S)$\n",
    "- Esta es una gramática libre de contexto: En la parte izquierda de las producciones solo aparece una variable. Al lenguage generado por esta gramática pertenece la palabra $((a + b) ∗ c$). Solo hay que aplicar la siguiente cadena de producciones\n",
    "$$ S \\Rightarrow (S ∗ S) \\Rightarrow ((S + S) ∗ S) \\Rightarrow ((a + S) ∗ S) \\Rightarrow \\\\\n",
    "    ((a + b) ∗ S) \\Rightarrow ((a + b) ∗ c)$$"
   ]
  },
  {
   "cell_type": "markdown",
   "metadata": {
    "slideshow": {
     "slide_type": "subslide"
    }
   },
   "source": [
    "### Derivación:\n",
    "\n",
    "$$ S \\Rightarrow (S ∗ S) \\Rightarrow ((S + S) ∗ S) \\Rightarrow ((a + S) ∗ S) \\Rightarrow \\\\\n",
    "    ((a + b) ∗ S) \\Rightarrow ((a + b) ∗ c)$$\n",
    "    \n",
    "### Árbol:\n",
    "\n",
    "![](../figuras/arbol_derivacion_1.png)"
   ]
  },
  {
   "cell_type": "markdown",
   "metadata": {
    "slideshow": {
     "slide_type": "slide"
    }
   },
   "source": [
    "## Construcción\n",
    "\n",
    "- Cada nodo del árbol va a contener un símbolo.\n",
    "- En el nodo raíz se pone el símbolo inicial $S$.\n",
    "- Se efectúa una ramificación del árbol por cada producción que se aplique: Si a la variable de un nodo, $A$, se le aplica una determinada regla $A \\to \\alpha$, entonces para cada símbolo que aparezca en $\\alpha$ se añade un hijo con el símbolo correspondiente, situados en el orden de izquierda a derecha.\n",
    "- Este proceso se repite para todo paso de la derivación.\n",
    "- Si la parte derecha es una cadena vacía, entonces se añade un solo hijo, etiquetado con $\\epsilon$.\n",
    "- En cada momento, leyendo los nodos de izquierda a derecha se lee la palabra generada."
   ]
  },
  {
   "cell_type": "markdown",
   "metadata": {
    "slideshow": {
     "slide_type": "subslide"
    }
   },
   "source": [
    "## Ejemplo\n",
    "\n",
    "$$S \\to aAS,  \\hspace{1cm}  S \\to a, \\hspace{1cm}   A \\to SbA,  \\hspace{1cm}  A \\to SS,  \\hspace{1cm}  A \\to ba$$\n",
    "\n",
    "- La palabra $aabbaa$ tiene asociado el árbol:\n",
    "\n",
    "![](../figuras/arbol_derivacion_2.png)"
   ]
  },
  {
   "cell_type": "markdown",
   "metadata": {
    "slideshow": {
     "slide_type": "slide"
    }
   },
   "source": [
    "## Árboles y Derivaciones\n",
    "\n",
    "- Un árbol de derivación puede proceder de dos cadenas de derivación distintas.\n",
    "    - Se llama derivación **por la izquierda** asociada a un árbol a aquella en la que siempre se deriva primero la primera variable (más a la izquierda) que aparece en la palabra.\n",
    "    - Se llama derivación **por la derecha** asociada a un árbol a aquella en la que siempre se deriva primero la última variable (más a la derecha) que aparece en la palabra."
   ]
  },
  {
   "cell_type": "markdown",
   "metadata": {
    "slideshow": {
     "slide_type": "subslide"
    }
   },
   "source": [
    "## Ejemplo\n",
    "\n",
    "- Dado el árbol de la palabra $aabbaa$\n",
    "![](../figuras/arbol_derivacion_2.png)\n",
    "- Derivación por la izquierda:\n",
    "$$S \\Rightarrow aAS \\Rightarrow aSbAS \\Rightarrow aabAS \\Rightarrow aabbaS \\Rightarrow aabbaa$$\n",
    "- Derivación por la derecha\n",
    "$$S \\Rightarrow aAS \\Rightarrow aAa \\Rightarrow aSbAa \\Rightarrow aSbbaa \\Rightarrow aabbaa$$"
   ]
  },
  {
   "cell_type": "markdown",
   "metadata": {
    "slideshow": {
     "slide_type": "slide"
    }
   },
   "source": [
    "## Gramática Ambigua\n",
    "\n",
    "- Una gramática se dice ambigua si existe una palabra con dos árboles de derivación distintos.\n",
    "- Ejemplo: La gramática $S \\to AA,  A \\to aSa,  A \\to a$ es ambigua, ya que la palabra $aaaaa$ tiene los dos arboles de derivación siguientes:\n",
    "![](../figuras/arbol_derivacion_3.png)"
   ]
  },
  {
   "cell_type": "markdown",
   "metadata": {
    "slideshow": {
     "slide_type": "slide"
    }
   },
   "source": [
    "## Lenguaje Inherentemente Ambiguo\n",
    "\n",
    "- Un lenguaje de tipo $2$ es inherentemente ambiguo si toda gramática que lo genera es ambigua.\n",
    "- Ejemplo: El lenguaje generado por la gramática anterior  $S \\to AA,  A \\to aSa,  A \\to a$, no es inherentemente ambiguo. \n",
    "- Este lenguaje es $\\{ a^{2+3i} : i ≥ 0\\}$ y puede ser generado por la gramática: $S \\to aa, S \\to aaU, U \\to aaaU, U \\to aaa$, que no es ambigua.\n"
   ]
  },
  {
   "cell_type": "markdown",
   "metadata": {
    "slideshow": {
     "slide_type": "subslide"
    }
   },
   "source": [
    "- Unico árbol para $a^5$:\n",
    "\n",
    "![](../figuras/arbol_derivacion_4.png)"
   ]
  },
  {
   "cell_type": "markdown",
   "metadata": {
    "slideshow": {
     "slide_type": "slide"
    }
   },
   "source": [
    "## Ejemplo 1\n",
    "\n",
    "- $E \\to I,     E \\to I - E,     E \\to E - I,     I \\to a⎮b⎮c⎮d$ es ambigua, ya que la palabra $a - b - c$ admite dos árboles de derivación distintos:\n",
    "\n",
    "![](../figuras/arbol_derivacion_5.png)\n",
    "\n",
    "- Eliminando la producción $E \\to I − E$ la gramática deja de ser ambigua."
   ]
  },
  {
   "cell_type": "markdown",
   "metadata": {
    "slideshow": {
     "slide_type": "slide"
    }
   },
   "source": [
    "## Ejemplo 2\n",
    "\n",
    "- Lenguaje:\n",
    "$$L = \\{a^nb^nc^md^m : n \\ge 1, m \\ge 1\\} \\cup \\{a^nb^mc^md^n : n \\ge 1, m \\ge 1\\}$$\n",
    "- Gramática:\n",
    "$$S \\to AB,    A \\to ab,   A \\to aAb,   B \\to cd,   B \\to cBd, S \\to aCd, \\\\  C \\to aCd,   C \\to bDc,  C \\to bc,  D \\to bDc,   D \\to b$$\n",
    "- La palabra $aabbccdd$ tiene dos árboles de derivación distintos:"
   ]
  },
  {
   "cell_type": "markdown",
   "metadata": {
    "slideshow": {
     "slide_type": "slide"
    }
   },
   "source": [
    "![](../figuras/arbol_derivacion_6.png)"
   ]
  },
  {
   "cell_type": "markdown",
   "metadata": {
    "slideshow": {
     "slide_type": "slide"
    }
   },
   "source": [
    "## Símbolos y Producciones Inútiles\n",
    "\n",
    "- Un símbolo $X \\in (V \\cup T) se dice útil si y solo si existe una cadena de derivaciones en G tal que\n",
    "\n",
    "$$S \\Rightarrow^* αXβ \\Rightarrow^* w \\in T^*$$\n",
    "\n",
    "- Una producción se dice útil si y solo si todos sus símbolos son útiles. Esto es equivalente a que pueda usarse en la derivación de alguna palabra del lenguaje asociado a la gramática.\n",
    "- Eliminando todos los símbolos y producciones inútiles el lenguaje generado por la gramática no cambia."
   ]
  },
  {
   "cell_type": "markdown",
   "metadata": {
    "slideshow": {
     "slide_type": "slide"
    }
   },
   "source": [
    "## Algoritmo\n",
    "\n",
    "- El algoritmo para eliminar los símbolos y producciones inútiles consta de dos pasos:\n",
    "    1. Eliminar las variables desde las que no se puede llegar a una palabra de $T$ y las producciones en las que aparezcan.\n",
    "    2. Eliminar aquellos símbolos que no sean alcanzables desde el símbolo inicial, $S$, y las producciones en las que estos aparezcan."
   ]
  },
  {
   "cell_type": "markdown",
   "metadata": {
    "slideshow": {
     "slide_type": "slide"
    }
   },
   "source": [
    "## Orden de los Algoritmos\n",
    "\n",
    "- Es importante aplicar los algoritmos anteriores en el orden especificado. \n",
    "\n",
    "$$S \\to AB, \\hspace{1 cm}   S \\to a,  \\hspace{1 cm}   A \\to a$$\n",
    "\n",
    "- En el primer paso se elimina $B$ y la producción $S \\to AB$.\n",
    "- Entonces en el segundo se elimina la variable $A$ y la producción $A \\to a$."
   ]
  },
  {
   "cell_type": "markdown",
   "metadata": {
    "slideshow": {
     "slide_type": "subslide"
    }
   },
   "source": [
    "- Si aplicamos primero el segundo algoritmo, entonces no se elimina nada.\n",
    "- Al aplicar después el primero de los algoritmos se elimina B y la producción $S \\to AB$.\n",
    "- Donde todavía nos queda la variable inútil $A$.\n",
    "\n",
    "$$S \\to a, \\hspace{1 cm}   A \\to a$$"
   ]
  },
  {
   "cell_type": "markdown",
   "metadata": {
    "slideshow": {
     "slide_type": "slide"
    }
   },
   "source": [
    "## Primera Parte\n",
    "\n",
    "- Se diseña un algoritmo calculando $V_t$ , conjunto de variables que se pueden subtituir por símbolos terminales.\n",
    "- **Condición Básica**:   Si  $A \\to u$,  y   $u \\in T^*$, entonces $A \\in V_t$\n",
    "- **Condición Recursiva**: Si $A \\to \\beta_1 \\cdots \\beta_k$ y cada $\\beta_j$ está en $T \\cup V_t$, entonces $A \\in V_t$."
   ]
  },
  {
   "cell_type": "markdown",
   "metadata": {
    "slideshow": {
     "slide_type": "subslide"
    }
   },
   "source": [
    "1. $Vt = 0$\n",
    "2. Para cada producción de la forma $A \\to w$, $A$ se introduce en $V_t$.\n",
    "3. Mientras $V_t$ cambie\n",
    "    1. Para cada producción $B \\to \\alpha$\n",
    "        1. Si todas las variables de $\\alpha$ pertenecen a $V_t$\n",
    "            1. $B$ se introduce en $V_t$\n",
    "4. Eliminar las variables que esten en $V$ y no en $V_t$\n",
    "5. Eliminar todas las producciones donde aparezca una variable de las eliminadas en el paso anterior\n"
   ]
  },
  {
   "cell_type": "markdown",
   "metadata": {
    "slideshow": {
     "slide_type": "slide"
    }
   },
   "source": [
    "## Ejemplo\n",
    "\n",
    "![](../figuras/inutiles_1.png)\n",
    "\n",
    "- $V_t = \\{\\}$"
   ]
  },
  {
   "cell_type": "markdown",
   "metadata": {
    "slideshow": {
     "slide_type": "slide"
    }
   },
   "source": [
    "![](../figuras/inutiles_2.png)\n",
    "\n",
    "- $V_t=\\{\\}$"
   ]
  },
  {
   "cell_type": "markdown",
   "metadata": {
    "slideshow": {
     "slide_type": "slide"
    }
   },
   "source": [
    "![](../figuras/inutiles_3.png)\n",
    "\n",
    "- $V_t=\\{B,\\}$"
   ]
  },
  {
   "cell_type": "markdown",
   "metadata": {
    "slideshow": {
     "slide_type": "slide"
    }
   },
   "source": [
    "![](../figuras/inutiles_4.png)\n",
    "\n",
    "- $V_t=\\{B,\\}$"
   ]
  },
  {
   "cell_type": "markdown",
   "metadata": {
    "slideshow": {
     "slide_type": "slide"
    }
   },
   "source": [
    "![](../figuras/inutiles_5.png)\n",
    "\n",
    "- $V_t=\\{B,C\\}$"
   ]
  },
  {
   "cell_type": "markdown",
   "metadata": {
    "slideshow": {
     "slide_type": "slide"
    }
   },
   "source": [
    "![](../figuras/inutiles_6.png)\n",
    "\n",
    "- $V_t=\\{B,C\\}$"
   ]
  },
  {
   "cell_type": "markdown",
   "metadata": {
    "slideshow": {
     "slide_type": "slide"
    }
   },
   "source": [
    "![](../figuras/inutiles_7.png)\n",
    "\n",
    "- $V_t=\\{B,C,D\\}$"
   ]
  },
  {
   "cell_type": "markdown",
   "metadata": {
    "slideshow": {
     "slide_type": "slide"
    }
   },
   "source": [
    "![](../figuras/inutiles_8.png)\n",
    "\n",
    "- $V_t=\\{B,C,D\\}$"
   ]
  },
  {
   "cell_type": "markdown",
   "metadata": {
    "slideshow": {
     "slide_type": "slide"
    }
   },
   "source": [
    "![](../figuras/inutiles_9.png)\n",
    "\n",
    "- $V_t=\\{B,C,D,W\\}$"
   ]
  },
  {
   "cell_type": "markdown",
   "metadata": {
    "slideshow": {
     "slide_type": "slide"
    }
   },
   "source": [
    "![](../figuras/inutiles_10.png)\n",
    "\n",
    "- $V_t=\\{B,C,D,W\\}$"
   ]
  },
  {
   "cell_type": "markdown",
   "metadata": {
    "slideshow": {
     "slide_type": "slide"
    }
   },
   "source": [
    "![](../figuras/inutiles_11.png)\n",
    "\n",
    "- $V_t=\\{B,C,D,W\\}$"
   ]
  },
  {
   "cell_type": "markdown",
   "metadata": {
    "slideshow": {
     "slide_type": "slide"
    }
   },
   "source": [
    "![](../figuras/inutiles_12.png)\n",
    "\n",
    "- $V_t=\\{B,C,D,W\\}$"
   ]
  },
  {
   "cell_type": "markdown",
   "metadata": {
    "slideshow": {
     "slide_type": "slide"
    }
   },
   "source": [
    "![](../figuras/inutiles_13.png)\n",
    "\n",
    "- $V_t=\\{B,C,D,W\\}$"
   ]
  },
  {
   "cell_type": "markdown",
   "metadata": {
    "slideshow": {
     "slide_type": "slide"
    }
   },
   "source": [
    "![](../figuras/inutiles_14.png)\n",
    "\n",
    "- $V_t=\\{B,C,D,W\\}$"
   ]
  },
  {
   "cell_type": "markdown",
   "metadata": {
    "slideshow": {
     "slide_type": "slide"
    }
   },
   "source": [
    "![](../figuras/inutiles_15.png)\n",
    "\n",
    "- $V_t=\\{B,C,D,W,A\\}$"
   ]
  },
  {
   "cell_type": "markdown",
   "metadata": {
    "slideshow": {
     "slide_type": "slide"
    }
   },
   "source": [
    "![](../figuras/inutiles_16.png)\n",
    "\n",
    "- $V_t=\\{B,C,D,W,A\\}$"
   ]
  },
  {
   "cell_type": "markdown",
   "metadata": {
    "slideshow": {
     "slide_type": "slide"
    }
   },
   "source": [
    "![](../figuras/inutiles_17.png)\n",
    "\n",
    "- $V_t=\\{B,C,D,W,A,U\\}$"
   ]
  },
  {
   "cell_type": "markdown",
   "metadata": {
    "slideshow": {
     "slide_type": "slide"
    }
   },
   "source": [
    "![](../figuras/inutiles_18.png)\n",
    "\n",
    "- $V_t=\\{B,C,D,W,A,U\\}$"
   ]
  },
  {
   "cell_type": "markdown",
   "metadata": {
    "slideshow": {
     "slide_type": "slide"
    }
   },
   "source": [
    "![](../figuras/inutiles_19.png)\n",
    "\n",
    "- $V_t=\\{B,C,D,W,A,U\\}$"
   ]
  },
  {
   "cell_type": "markdown",
   "metadata": {
    "slideshow": {
     "slide_type": "slide"
    }
   },
   "source": [
    "![](../figuras/inutiles_20.png)\n",
    "\n",
    "- $V_t=\\{B,C,D,W,A,U\\}$"
   ]
  },
  {
   "cell_type": "markdown",
   "metadata": {
    "slideshow": {
     "slide_type": "slide"
    }
   },
   "source": [
    "![](../figuras/inutiles_21.png)\n",
    "\n",
    "- $V_t=\\{B,C,D,W,A,U\\}$"
   ]
  },
  {
   "cell_type": "markdown",
   "metadata": {
    "slideshow": {
     "slide_type": "slide"
    }
   },
   "source": [
    "![](../figuras/inutiles_22.png)\n",
    "\n",
    "- $V_t=\\{B,C,D,W,A,U\\}$"
   ]
  },
  {
   "cell_type": "markdown",
   "metadata": {
    "slideshow": {
     "slide_type": "slide"
    }
   },
   "source": [
    "![](../figuras/inutiles_23.png)\n",
    "\n",
    "- $V_t=\\{B,C,D,W,A,S\\}$"
   ]
  },
  {
   "cell_type": "markdown",
   "metadata": {
    "slideshow": {
     "slide_type": "slide"
    }
   },
   "source": [
    "![](../figuras/inutiles_24.png)\n",
    "\n",
    "- $V_t=\\{B,C,D,W,A,S\\}$"
   ]
  },
  {
   "cell_type": "markdown",
   "metadata": {
    "slideshow": {
     "slide_type": "slide"
    }
   },
   "source": [
    "![](../figuras/inutiles_25.png)\n",
    "\n",
    "- $V_t=\\{B,C,D,W,A,S\\}$"
   ]
  },
  {
   "cell_type": "markdown",
   "metadata": {
    "slideshow": {
     "slide_type": "slide"
    }
   },
   "source": [
    "![](../figuras/inutiles_26.png)\n",
    "\n",
    "- $V_t=\\{B,C,D,W,A,S\\}$"
   ]
  },
  {
   "cell_type": "markdown",
   "metadata": {
    "slideshow": {
     "slide_type": "slide"
    }
   },
   "source": [
    "![](../figuras/inutiles_23.png)\n",
    "\n",
    "- $V_t=\\{B,C,D,W,A,S\\}$"
   ]
  },
  {
   "cell_type": "markdown",
   "metadata": {
    "slideshow": {
     "slide_type": "slide"
    }
   },
   "source": [
    "![](../figuras/inutiles_24.png)\n",
    "\n",
    "- $V_t=\\{B,C,D,W,A,S\\}$"
   ]
  },
  {
   "cell_type": "markdown",
   "metadata": {
    "slideshow": {
     "slide_type": "slide"
    }
   },
   "source": [
    "![](../figuras/inutiles_25.png)\n",
    "\n",
    "- $V_t=\\{B,C,D,W,A,S\\}$"
   ]
  },
  {
   "cell_type": "markdown",
   "metadata": {
    "slideshow": {
     "slide_type": "slide"
    }
   },
   "source": [
    "![](../figuras/inutiles_26.png)\n",
    "\n",
    "- $V_t=\\{B,C,D,W,A,S\\}$"
   ]
  },
  {
   "cell_type": "markdown",
   "metadata": {
    "slideshow": {
     "slide_type": "slide"
    }
   },
   "source": [
    "![](../figuras/inutiles_27.png)\n",
    "\n",
    "- $V_t=\\{B,C,D,W,A,S\\} \\hspace{1 cm} V-V_t=\\{V,X,Y\\}$"
   ]
  },
  {
   "cell_type": "markdown",
   "metadata": {
    "slideshow": {
     "slide_type": "slide"
    }
   },
   "source": [
    "![](../figuras/inutiles_28.png)"
   ]
  },
  {
   "cell_type": "markdown",
   "metadata": {
    "slideshow": {
     "slide_type": "slide"
    }
   },
   "source": [
    "## Segunda Parte\n",
    "\n",
    "- Realizamos una búsqueda recursiva a partir del símbolo inicial $S$ de todos los símbolos que se pueden alcanzar a partir de el.\n",
    "\n",
    "$$S \\to aAd, \\hspace{1 cm}   S \\to fX,  \\hspace{1 cm}  A \\to b,  \\hspace{1 cm}  A \\to CEd,  \\hspace{1 cm}  \\cdots$$\n",
    "\n",
    "- $V_S = \\text{conjunto de variables obtenidas}$\n",
    "- $T_S = \\text{conjunto símbolos terminales obtenidos}$\n",
    "- $J = \\text{conjunto variables por analizar}$"
   ]
  },
  {
   "cell_type": "markdown",
   "metadata": {
    "slideshow": {
     "slide_type": "subslide"
    }
   },
   "source": [
    "1. $J = \\{S\\}, V_S = \\{S\\}, T_S = \\emptyset$\n",
    "2. Mientras $J \\neq \\emptyset$\n",
    "    1. Extraer un elemento de $J : A, (J = J - \\{A\\})$.\n",
    "    2. Para cada produccion de la forma $A \\to \\alpha$\n",
    "        1. Para cada variable $B$ en $\\alpha$\n",
    "            1. Si $B$ no está en $V_S$ añadir $B$ a $J$ y a $V_S$\n",
    "        2. Poner todos los símbolos terminales de $\\alpha$ en $T_S$\n",
    "3. Eliminar todas las variables que no estén en $V_S$ y todos los símbolos terminales que no estén en $T_S$.\n",
    "4. Eliminar todas las producciones donde aparezca un símbolo o variable de los eliminados en el paso anterior."
   ]
  },
  {
   "cell_type": "markdown",
   "metadata": {
    "slideshow": {
     "slide_type": "slide"
    }
   },
   "source": [
    "![](../figuras/inutiles_28.png)\n",
    "\n",
    "$$V_s = \\{S\\} \\\\\n",
    "J = \\{S\\} \\\\\n",
    "T_s = \\{\\} \\\\\n",
    "\\text{Variable analizada: }$$"
   ]
  },
  {
   "cell_type": "markdown",
   "metadata": {
    "slideshow": {
     "slide_type": "slide"
    }
   },
   "source": [
    "![](../figuras/inutiles_29.png)\n",
    "\n",
    "$$V_s = \\{S\\} \\\\\n",
    "J = \\{\\} \\\\\n",
    "T_s = \\{\\} \\\\\n",
    "\\text{Variable analizada: }S$$"
   ]
  },
  {
   "cell_type": "markdown",
   "metadata": {
    "slideshow": {
     "slide_type": "slide"
    }
   },
   "source": [
    "![](../figuras/inutiles_28.png)\n",
    "\n",
    "$$V_s = \\{S,A\\} \\\\\n",
    "J = \\{A\\} \\\\\n",
    "T_s = \\{g,e\\} \\\\\n",
    "\\text{Variable analizada: }$$"
   ]
  },
  {
   "cell_type": "markdown",
   "metadata": {
    "slideshow": {
     "slide_type": "slide"
    }
   },
   "source": [
    "![](../figuras/inutiles_30.png)\n",
    "\n",
    "$$V_s = \\{S,A\\} \\\\\n",
    "J = \\{\\} \\\\\n",
    "T_s = \\{g,e\\} \\\\\n",
    "\\text{Variable analizada: }A$$"
   ]
  },
  {
   "cell_type": "markdown",
   "metadata": {
    "slideshow": {
     "slide_type": "slide"
    }
   },
   "source": [
    "![](../figuras/inutiles_28.png)\n",
    "\n",
    "$$V_s = \\{S,A,C\\} \\\\\n",
    "J = \\{C\\} \\\\\n",
    "T_s = \\{g,e,o\\} \\\\\n",
    "\\text{Variable analizada: }$$"
   ]
  },
  {
   "cell_type": "markdown",
   "metadata": {
    "slideshow": {
     "slide_type": "slide"
    }
   },
   "source": [
    "![](../figuras/inutiles_31.png)\n",
    "\n",
    "$$V_s = \\{S,A,C\\} \\\\\n",
    "J = \\{\\} \\\\\n",
    "T_s = \\{g,e,o\\} \\\\\n",
    "\\text{Variable analizada: }C$$"
   ]
  },
  {
   "cell_type": "markdown",
   "metadata": {
    "slideshow": {
     "slide_type": "slide"
    }
   },
   "source": [
    "![](../figuras/inutiles_32.png)\n",
    "\n",
    "$$V_s = \\{S,A,C\\} \\\\\n",
    "J = \\{\\} \\\\\n",
    "T_s = \\{g,e,o,i\\} \\\\\n",
    "\\text{Variable analizada: }$$"
   ]
  },
  {
   "cell_type": "markdown",
   "metadata": {
    "slideshow": {
     "slide_type": "slide"
    }
   },
   "source": [
    "- Unica posible derivación:  $S \\Rightarrow gAe \\Rightarrow gooCe \\Rightarrow googie$\n",
    "- Lenguaje generado: $\\{ googie\\}$\n"
   ]
  },
  {
   "cell_type": "markdown",
   "metadata": {
    "slideshow": {
     "slide_type": "slide"
    }
   },
   "source": [
    "## Lenguaje Vacío\n",
    "\n",
    "- Si el lenguaje generado por una gramática es vacío, esto se detecta en que la variable $S$ resulta inútil en el primer algoritmo. En ese caso se pueden eliminar directamente todas las producciones, pero no el símbolo $S$.\n",
    "- Ejemplo:\n",
    "$$S \\to aSb, \\hspace{1 cm}   S \\to bcD,  \\hspace{1 cm}  S \\to cSE,$$\n",
    "$$E \\to aDb,  \\hspace{1 cm}  F \\to abc,  \\hspace{1 cm}  E \\to abF$$\n",
    "- $V_t = \\{F, E\\},    \\hspace{1 cm}   L(G) = \\emptyset$"
   ]
  },
  {
   "cell_type": "markdown",
   "metadata": {
    "slideshow": {
     "slide_type": "slide"
    }
   },
   "source": [
    "## Formas Normales\n",
    "\n",
    "- Definen unas características que deben de verificar todas las producciones de una gramática.\n",
    "    - Producciones nulas\n",
    "    - Producciones unitarias\n",
    "    - Forma normal de Chomsky\n",
    "    - Forma normal de Greibach"
   ]
  },
  {
   "cell_type": "markdown",
   "metadata": {
    "slideshow": {
     "slide_type": "slide"
    }
   },
   "source": [
    "## Motivación: El problema de la Pertenencia\n",
    "\n",
    "- **Problema**: Dada una gramática independiente del contexto $G$ y una palabra $u$, ¿pertenece $u$ a $L(G)$?\n",
    "\n",
    "![](../figuras/profundidad.png)\n",
    "\n",
    "- Si la palabra es generada, nos sale en esta búsqueda. Si la palabra no es generada, ¿hasta qué profundidad tenemos que generar para convencernos de que no se puede?\n"
   ]
  },
  {
   "cell_type": "markdown",
   "metadata": {
    "slideshow": {
     "slide_type": "slide"
    }
   },
   "source": [
    "## Producciones Nulas\n",
    "\n",
    "- $A \\to \\epsilon$\n",
    "- Algoritmo que dada una gramática $G$, construye una gramática $G_n$ sin producciones nulas y tal que $L(G_n) = L(G) - \\{\\epsilon\\}$.\n",
    "- Si tenemos,    \n",
    "$$A \\to \\epsilon, \\hspace{1 cm}   D \\to aABc \\\\\n",
    "D \\Rightarrow aABc \\Rightarrow aBc$$\n",
    "- Añadimos   $D \\to aBc$\n",
    "- Si también $B \\to \\epsilon$, entonces habría que añadir\n",
    "$$D \\to aBc,  \\hspace{1 cm}  D \\to aAc,  \\hspace{1 cm}  D \\to ac$$"
   ]
  },
  {
   "cell_type": "markdown",
   "metadata": {
    "slideshow": {
     "slide_type": "slide"
    }
   },
   "source": [
    "## Variables Anulables\n",
    "\n",
    "- Si tenemos $C \\to AB$,   $A \\to \\epsilon$,   $B \\to \\epsilon$, habría que añadir, al quitar las producciones nulas:\n",
    "$$C \\to A, \\hspace{1 cm}  C \\to B, \\hspace{1 cm}  C \\to \\epsilon$$\n",
    "- Y después habría que eliminar $C \\to \\epsilon$\n",
    "- Nosotros vamos a calcular desde el principio todas las variables, $E$, tales que en algún momento aparece $E \\to \\epsilon$. Estas variables se dicen anulables. Son variables tales que $E \\Rightarrow^* ζ$\n",
    "- Después vamos a eliminar todas las producciones nulas y a añadir las producciones que compensen esta eliminación."
   ]
  },
  {
   "cell_type": "markdown",
   "metadata": {
    "slideshow": {
     "slide_type": "slide"
    }
   },
   "source": [
    "## Algoritmo (1)\n",
    "\n",
    "- $H$ es el conjunto de las variables anulables\n",
    "- Cálculo de Variables Anulables:\n",
    "\n",
    "    1. $H = ∅$\n",
    "    2. Para cada produccion $A \\to \\epsilon$, se hace $H = H \\cup \\{A\\}$\n",
    "    3. Mientras $H$ cambie\n",
    "        1. Para cada produccion $B \\to A_1A_2 \\cdots A_n$,  \n",
    "        donde $A_i \\in H$ para todo $i = 1, \\cdots, n$, se hace $H =   H \\cup \\{B\\}$"
   ]
  },
  {
   "cell_type": "markdown",
   "metadata": {
    "slideshow": {
     "slide_type": "slide"
    }
   },
   "source": [
    "## Algoritmo (2)\n",
    "\n",
    "- Eliminar y Añadir:\n",
    "\n",
    "    1. Se eliminan todas las producciones nulas de la gramática\n",
    "    2. Para cada produccion de la gramática de la forma $A \\to \\alpha_1, \\cdots \\alpha_n$,  donde $\\alpha_i \\in V \\cup T$.\n",
    "        1. Se añaden todas las producciones de la forma  \n",
    "        $A \\to \\beta_1, \\cdots \\beta_n$, donde $\\beta_i = \\alpha_i$ si $\\alpha_i \\in H$ y $(\\beta_i = \\alpha_i) \\lor (\\beta_i = \\epsilon)$  si $\\alpha \\in H$  \n",
    "        y no todos los $\\beta_i$ puedan ser nulos al mismo tiempo"
   ]
  },
  {
   "cell_type": "markdown",
   "metadata": {
    "slideshow": {
     "slide_type": "slide"
    }
   },
   "source": [
    "## Palabra Vacía\n",
    "\n",
    "- Si $G$ generaba inicialmente la palabra nula, entonces la nueva gramática no la genera.\n",
    "- Se puede saber si se pierde la palabra vacía comprobando si $S \\in H$.\n",
    "- Si tenemos una gramática $G$, podemos construir una gramática $G_v$ con una sola producción nula y que genera el mismo lenguaje que $G$ más la palabra vacía. Para ello se añade una nueva variable, $S_v$, que pasa a ser el símbolo inicial de la nueva gramática, $G_v$. También se añaden dos producciones:\n",
    "\n",
    "$$S_v \\to S, \\hspace{1 cm} S_v \\to \\epsilon$$\n"
   ]
  },
  {
   "cell_type": "markdown",
   "metadata": {
    "slideshow": {
     "slide_type": "slide"
    }
   },
   "source": [
    "## Ejemplo\n",
    "\n",
    "- Eliminar las producciones nulas de la siguiente gramática:\n",
    "\n",
    "![](../figuras/producciones_nulas_1.png)\n",
    "\n",
    "- Cálculo de $H = \\{\\}$"
   ]
  },
  {
   "cell_type": "markdown",
   "metadata": {
    "slideshow": {
     "slide_type": "slide"
    }
   },
   "source": [
    "\n",
    "![](../figuras/producciones_nulas_2.png)\n",
    "\n",
    "- Cálculo de $H = \\{A, B\\}$"
   ]
  },
  {
   "cell_type": "markdown",
   "metadata": {
    "slideshow": {
     "slide_type": "slide"
    }
   },
   "source": [
    "\n",
    "![](../figuras/producciones_nulas_3.png)\n",
    "\n",
    "- Cálculo de $H = \\{A, B, C\\}$"
   ]
  },
  {
   "cell_type": "markdown",
   "metadata": {
    "slideshow": {
     "slide_type": "slide"
    }
   },
   "source": [
    "![](../figuras/producciones_nulas_4.png)\n",
    "\n",
    "- Cálculo de $H = \\{A, B, C, S\\}$"
   ]
  },
  {
   "cell_type": "markdown",
   "metadata": {
    "slideshow": {
     "slide_type": "slide"
    }
   },
   "source": [
    "![](../figuras/producciones_nulas_5.png)\n",
    "\n",
    "- Cálculo de $H = \\{A, B, C, S\\}$\n",
    "- Al ser $S$ anulable la palabra vacía puede generarse mediante esta gramática."
   ]
  },
  {
   "cell_type": "markdown",
   "metadata": {
    "slideshow": {
     "slide_type": "slide"
    }
   },
   "source": [
    "## Ejemplo: Segunda Parte\n",
    "\n",
    "![](../figuras/producciones_nulas_6.png)\n",
    "\n",
    "$$H = \\{A, B, C, S\\}$$"
   ]
  },
  {
   "cell_type": "markdown",
   "metadata": {
    "slideshow": {
     "slide_type": "slide"
    }
   },
   "source": [
    "![](../figuras/producciones_nulas_7.png)\n",
    "\n",
    "$$H = \\{A, B, C, S\\}$$"
   ]
  },
  {
   "cell_type": "markdown",
   "metadata": {
    "slideshow": {
     "slide_type": "slide"
    }
   },
   "source": [
    "![](../figuras/producciones_nulas_8.png)\n",
    "\n",
    "$$H = \\{A, B, C, S\\}$$"
   ]
  },
  {
   "cell_type": "markdown",
   "metadata": {
    "slideshow": {
     "slide_type": "slide"
    }
   },
   "source": [
    "![](../figuras/producciones_nulas_9.png)\n",
    "\n",
    "$$H = \\{A, B, C, S\\}$$"
   ]
  },
  {
   "cell_type": "markdown",
   "metadata": {
    "slideshow": {
     "slide_type": "slide"
    }
   },
   "source": [
    "![](../figuras/producciones_nulas_10.png)\n",
    "\n",
    "$$H = \\{A, B, C, S\\}$$"
   ]
  },
  {
   "cell_type": "markdown",
   "metadata": {
    "slideshow": {
     "slide_type": "slide"
    }
   },
   "source": [
    "![](../figuras/producciones_nulas_11.png)\n",
    "\n",
    "$$H = \\{A, B, C, S\\}$$"
   ]
  },
  {
   "cell_type": "markdown",
   "metadata": {
    "slideshow": {
     "slide_type": "slide"
    }
   },
   "source": [
    "![](../figuras/producciones_nulas_12.png)\n",
    "\n",
    "$$H = \\{A, B, C, S\\}$$"
   ]
  },
  {
   "cell_type": "markdown",
   "metadata": {
    "slideshow": {
     "slide_type": "slide"
    }
   },
   "source": [
    "![](../figuras/producciones_nulas_13.png)\n",
    "\n",
    "$$H = \\{A, B, C, S\\}$$"
   ]
  },
  {
   "cell_type": "markdown",
   "metadata": {
    "slideshow": {
     "slide_type": "slide"
    }
   },
   "source": [
    "## Producciones Unitarias\n",
    "\n",
    "$$A \\to B, \\hspace{1 cm}   A, B \\in V$$\n",
    "- Si queremos eliminar $A \\to B$, perdemos la posibilidad de\n",
    "$$A \\Rightarrow B \\Rightarrow \\alpha$$\n",
    "- Para eliminar  $A \\to B$, añadimos todas las producciones $A \\to \\alpha$ donde $B \\to \\alpha$ es una producción\n",
    "- Si tenemos $B \\to C$ introduciríamos una unitaria que habría que eliminar después. Para poder eliminar todas de una vez calculamos, $H:$ conjunto de parejas $(A, B)$ tales que $B$ derivable a partir de $A$."
   ]
  },
  {
   "cell_type": "markdown",
   "metadata": {
    "slideshow": {
     "slide_type": "slide"
    }
   },
   "source": [
    "## Algoritmo\n",
    "\n",
    "1. $H = ∅$\n",
    "2. Para toda producción de la forma $A \\to B$, la pareja $(A, B)$ se introduce en $H$.\n",
    "3. Mientras $H$ cambie\n",
    "    1. Para cada dos parejas $(A, B), (B, C) \\in H$\n",
    "        1. Si la pareja $(A, C) \\notin H$  \n",
    "        $(A, C)$ se introduce en $H$\n",
    "4.  Se eliminan las producciones unitarias\n",
    "5.  Para cada pareja $(B, A) \\in H$\n",
    "    1. Para cada producción $A \\in \\alpha$\n",
    "        1. Se añade una producción $B \\in \\alpha$"
   ]
  },
  {
   "cell_type": "markdown",
   "metadata": {
    "slideshow": {
     "slide_type": "slide"
    }
   },
   "source": [
    "## Ejemplo \n",
    "\n",
    "![](../figuras/producciones_unitarias_1.png)\n",
    "\n",
    "- Cálculo de $H = \\{\\}$"
   ]
  },
  {
   "cell_type": "markdown",
   "metadata": {
    "slideshow": {
     "slide_type": "slide"
    }
   },
   "source": [
    "![](../figuras/producciones_unitarias_2.png)\n",
    "\n",
    "- Cálculo de $H = \\{ (S, A), (A, B)\\}$"
   ]
  },
  {
   "cell_type": "markdown",
   "metadata": {
    "slideshow": {
     "slide_type": "slide"
    }
   },
   "source": [
    "![](../figuras/producciones_unitarias_1.png)\n",
    "\n",
    "- Cálculo de $H = \\{ (S, A), (A, B), (S, B)\\}$"
   ]
  },
  {
   "cell_type": "markdown",
   "metadata": {
    "slideshow": {
     "slide_type": "slide"
    }
   },
   "source": [
    "![](../figuras/producciones_unitarias_3.png)\n",
    "\n",
    "- Cálculo de $H = \\{ (S, A), (A, B), (S, B)\\}$"
   ]
  },
  {
   "cell_type": "markdown",
   "metadata": {
    "slideshow": {
     "slide_type": "slide"
    }
   },
   "source": [
    "![](../figuras/producciones_unitarias_4.png)\n",
    "\n",
    "- Cálculo de $H = \\{ (S, A), (A, B), (S, B\\}$"
   ]
  },
  {
   "cell_type": "markdown",
   "metadata": {
    "slideshow": {
     "slide_type": "slide"
    }
   },
   "source": [
    "![](../figuras/producciones_unitarias_5.png)\n",
    "\n",
    "- Cálculo de $H = \\{ (S, A), (A, B), (S, B)\\}$"
   ]
  },
  {
   "cell_type": "markdown",
   "metadata": {
    "slideshow": {
     "slide_type": "slide"
    }
   },
   "source": [
    "![](../figuras/producciones_unitarias_6.png)\n",
    "\n",
    "- Cálculo de $H = \\{ (S, A), (A, B), (S, B)\\}$"
   ]
  },
  {
   "cell_type": "markdown",
   "metadata": {
    "slideshow": {
     "slide_type": "slide"
    }
   },
   "source": [
    "![](../figuras/producciones_unitarias_7.png)\n",
    "\n",
    "- Cálculo de $H = \\{ (S, A), (A, B), (S, B)\\}$"
   ]
  },
  {
   "cell_type": "markdown",
   "metadata": {
    "slideshow": {
     "slide_type": "slide"
    }
   },
   "source": [
    "- Esta es la gramática resultante:\n",
    "    \n",
    "![](../figuras/producciones_unitarias_8.png)\n",
    "\n",
    "- Cálculo de $H = \\{ (S, A), (A, B), (S, B)\\}$"
   ]
  },
  {
   "cell_type": "markdown",
   "metadata": {
    "slideshow": {
     "slide_type": "slide"
    }
   },
   "source": [
    "##  El problema de la Pertenencia\n",
    "\n",
    "- **Problema**: Dada una gramática independiente del contexto $G$ y una palabra $u$, ¿pertenece $u$ a $L(G)$?\n",
    "\n",
    "![](../figuras/profundidad.png)\n",
    "\n",
    "- Si la palabra es generada, nos sale en esta búsqueda. Si la palabra no es generada, ¿hasta qué profundidad tenemos que generar para convencernos de que no se puede?\n",
    "\n"
   ]
  },
  {
   "cell_type": "markdown",
   "metadata": {
    "slideshow": {
     "slide_type": "subslide"
    }
   },
   "source": [
    "- $2n - 1$ (en cada paso o sacamos al menos un nuevo símbolo terminal $(n)$ o aumenta al menos en $1$ la longitud $(n - 1)$)"
   ]
  },
  {
   "cell_type": "markdown",
   "metadata": {
    "slideshow": {
     "slide_type": "slide"
    }
   },
   "source": [
    "## Forma Normal de Chomsky\n",
    "\n",
    "- Todas las producciones tienen la forma\n",
    "$$A \\to BC, \\hspace{1 cm}   A \\to a,$$  \n",
    "donde $A, B, C \\in V, a \\in T$.\n",
    "- El algoritmo se aplica a gramáticas sin producciones nulas ni unitarias\n",
    "- Hay dos operaciones básicas:\n",
    "- Eliminar terminales en producciones que no sean $A \\to a$\n",
    "- Eliminar producciones con una longitud en la parte derecha mayor de $2$"
   ]
  },
  {
   "cell_type": "markdown",
   "metadata": {
    "slideshow": {
     "slide_type": "slide"
    }
   },
   "source": [
    "- **Paso 1**: Eliminar terminales en producciones que no sean $A \\to a$:\n",
    "\n",
    "![](../figuras/fnc_1.png)"
   ]
  },
  {
   "cell_type": "markdown",
   "metadata": {
    "slideshow": {
     "slide_type": "slide"
    }
   },
   "source": [
    "- **Paso 2**: Eliminar producciones con una longitud en la parte derecha mayor de $2$:\n",
    "\n",
    "![](../figuras/fnc_2.png)"
   ]
  },
  {
   "cell_type": "markdown",
   "metadata": {
    "slideshow": {
     "slide_type": "slide"
    }
   },
   "source": [
    "## Algoritmo\n",
    "\n",
    "1. Para cada producción $A \\to \\alpha_1 \\cdots \\alpha_n,\\hspace{0.25 cm} \\alpha_i \\in (V ∪ T), \\hspace{0.25 cm} n \\ge 2$\n",
    "    1. Para cada $\\alpha_i$, si $\\alpha_i$ es terminal: $\\alpha_i = a \\in T$\n",
    "        1. Se añade la producción $C_a \\to a$\n",
    "        2. Se cambia $\\alpha_i$ por $C_a$ en $A \\to \\alpha_1 \\cdots \\alpha_n$\n",
    "2. Para cada producción de la forma $A \\to B_1 \\cdots B_m, \\hspace{0.25 cm} m \\ge 3$\n",
    "    1. Se añaden $(m - 2)$ variables $D_1, D_2, \\cdots , D_{m - 2}$  \n",
    "    (distintas para cada producción)\n",
    "    2. La producción $A \\to B_1 \\cdots B_m$ se reemplaza por\n",
    "    $$A \\to B_1D_1,  \\hspace{0.25 cm} D_1 \\to B_2D_2,  \\hspace{0.25 cm} \\cdots, \\hspace{0.25 cm}  D_{m - 2} \\to B_{m - 1}B_m$$"
   ]
  },
  {
   "cell_type": "markdown",
   "metadata": {
    "slideshow": {
     "slide_type": "slide"
    }
   },
   "source": [
    "## Ejemplo\n",
    "\n",
    "![](../figuras/fnc_3.png)"
   ]
  },
  {
   "cell_type": "markdown",
   "metadata": {
    "slideshow": {
     "slide_type": "slide"
    }
   },
   "source": [
    "![](../figuras/fnc_4.png)"
   ]
  },
  {
   "cell_type": "markdown",
   "metadata": {
    "slideshow": {
     "slide_type": "slide"
    }
   },
   "source": [
    "![](../figuras/fnc_5.png)"
   ]
  },
  {
   "cell_type": "markdown",
   "metadata": {
    "slideshow": {
     "slide_type": "slide"
    }
   },
   "source": [
    "![](../figuras/fnc_6.png)"
   ]
  },
  {
   "cell_type": "markdown",
   "metadata": {
    "slideshow": {
     "slide_type": "slide"
    }
   },
   "source": [
    "- Resultado:\n",
    "\n",
    "![](../figuras/fnc_7.png)"
   ]
  }
 ],
 "metadata": {
  "celltoolbar": "Slideshow",
  "kernelspec": {
   "display_name": "Python 3",
   "language": "python",
   "name": "python3"
  },
  "language_info": {
   "codemirror_mode": {
    "name": "ipython",
    "version": 3
   },
   "file_extension": ".py",
   "mimetype": "text/x-python",
   "name": "python",
   "nbconvert_exporter": "python",
   "pygments_lexer": "ipython3",
   "version": "3.7.6"
  }
 },
 "nbformat": 4,
 "nbformat_minor": 2
}
