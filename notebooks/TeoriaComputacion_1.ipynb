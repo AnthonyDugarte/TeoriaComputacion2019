{
 "cells": [
  {
   "cell_type": "markdown",
   "metadata": {
    "slideshow": {
     "slide_type": "slide"
    }
   },
   "source": [
    "<center>\n",
    "    <h1>Teoría de la Computación</h1>\n",
    "    <h1>Introducción</h1>\n",
    "    <h1></h1>\n",
    "    <h5>Prof. Wladimir Rodriguez</h5>\n",
    "    <h5>wladimir.rodriguez@outlook.com</h5>\n",
    "    <h5>Departamento de Computación</h5>\n",
    "</center>"
   ]
  },
  {
   "cell_type": "markdown",
   "metadata": {
    "slideshow": {
     "slide_type": "slide"
    }
   },
   "source": [
    "## Objetivo General\n",
    "\n",
    "- El estudio de los conceptos fundamentales de la teoría de autómatas y lenguajes formales. Conocer la jerarquía de modelos de máquinas computacionales y su funcionamiento, la jerarquía de las gramáticas formales y de los lenguajes correspondientes. Conocer la correspondencia entre máquinas, gramáticas y lenguajes."
   ]
  },
  {
   "cell_type": "markdown",
   "metadata": {
    "slideshow": {
     "slide_type": "slide"
    }
   },
   "source": [
    "# Objetivos Específicos\n",
    "\n",
    "- Conocer los conceptos fundamentales de la teoría de autómatas y lenguajes formales.\n",
    "- Conocer la jerarquía de modelos de máquinas computacionales.\n",
    "- Comprender el funcionamiento y estructura de cada una de las máquinas computacionales.\n",
    "- Conocer y comprender la jerarquía de gramáticas formales y de los lenguajes correspondientes.\n",
    "- Conocer la relación existente entre máquinas computacionales, gramáticas y lenguajes."
   ]
  },
  {
   "cell_type": "markdown",
   "metadata": {
    "slideshow": {
     "slide_type": "slide"
    }
   },
   "source": [
    "# Programa"
   ]
  },
  {
   "cell_type": "markdown",
   "metadata": {
    "slideshow": {
     "slide_type": "subslide"
    }
   },
   "source": [
    "1. Introducción y Preliminares \n",
    "2. Automatas de estados finitos\n",
    "    1. Autómatas finitos.\n",
    "    2. Expresiones regulares.\n",
    "    3. Conjuntos regulares.\n",
    "3. Gramáticas de Libre Contexto\n",
    "    1. Definición y propiedades\n",
    "    2. Arboles de derivación y formas normales"
   ]
  },
  {
   "cell_type": "markdown",
   "metadata": {
    "slideshow": {
     "slide_type": "subslide"
    }
   },
   "source": [
    "4. Lenguajes de Contexto Libre\n",
    "    1. Autómatas a Pila.\n",
    "    2. Propiedades de los Lenguajes de Libre Contexto.\n",
    "5. Máquinas de Turing\n",
    "    1. Modelo, Lenguajes y Funciones Computables\n",
    "    2. Técnicas para la Construcción de Máquinas de Turing"
   ]
  },
  {
   "cell_type": "markdown",
   "metadata": {
    "slideshow": {
     "slide_type": "slide"
    }
   },
   "source": [
    "# Evaluación\n",
    "\n",
    "- Tareas: Una tarea cada semana (25%)\n",
    "- Tres exámenes parciales:\n",
    "    - Primer Parcial: Temas 1 y 2 (Preliminares y autómatas finitos) (25%)\n",
    "    - Segundo Parcial: Tema 3 (Gramáticas de libre contexto) y Tema 4 (Autómatas a Pilas) (25%)\n",
    "    - Tercer Parcial: Tema 5 (Máquinas de Turing) (25%)"
   ]
  },
  {
   "cell_type": "markdown",
   "metadata": {
    "slideshow": {
     "slide_type": "slide"
    }
   },
   "source": [
    "# Recursos\n",
    "\n",
    "- Repositorio en GitHub: https://github.com/wladrod/TeoriaComputacion2019.git\n",
    "- Software JFLAP versión 7.1: http://www.jflap.org/jflaptmp/\n",
    "- Jove: Jupyter Notebooks for Automata and Computability. https://github.com/ganeshutah/Jove"
   ]
  },
  {
   "cell_type": "markdown",
   "metadata": {
    "slideshow": {
     "slide_type": "slide"
    }
   },
   "source": [
    "# Repositorio en GitHub\n",
    "\n",
    "<img src='../figuras/RepositorioGitHub.png' width=\"75%\"/>"
   ]
  },
  {
   "cell_type": "markdown",
   "metadata": {
    "slideshow": {
     "slide_type": "slide"
    }
   },
   "source": [
    "# JFLAP\n",
    "\n",
    "JFLAP es un software para experimentar con temas de lenguajes formales que incluyen autómatas finitos no deterministas, autómatas a pila, Máquinas Turing.\n",
    "\n",
    "<img src='../figuras/JFlap_automata.png'/>"
   ]
  },
  {
   "cell_type": "markdown",
   "metadata": {
    "slideshow": {
     "slide_type": "slide"
    }
   },
   "source": [
    "# Jove\n",
    "\n",
    "Jove es la colección de notebooks de Jupyter creada por Ganesh Gopalakrishnan para enseñar Modelos de Computación.\n",
    "\n",
    "<img src='../figuras/Jove_automata.png'/>"
   ]
  },
  {
   "cell_type": "markdown",
   "metadata": {
    "slideshow": {
     "slide_type": "slide"
    }
   },
   "source": [
    "# Bibliografía\n",
    "\n",
    "- Autómatas y Lenguajes. Ramón Brena, Tecnológico de Monterrey, 2003.\n",
    "- Lenguajes, Gramáticas y Autómatas. Juan M. Cueva, Segunda Edición, Oviedo, 2001.\n",
    "- Notas del Curso CCO-500 lenguajesFormales y Autómatas, José Palacios, Universidad Autónoma de Puebla. 2002.\n",
    "- Teoría de Autómatas y Lenguajes Formales. Serafín Moral, Granada, 2001.\n",
    "- Introduction to the Theory of Computation. Michael Sipser, Third Edition, 2013.\n",
    "- Automata and Computability. Ganesh Gopalakrishnan, 2019."
   ]
  },
  {
   "cell_type": "markdown",
   "metadata": {
    "slideshow": {
     "slide_type": "slide"
    }
   },
   "source": [
    "# Introducción\n",
    "\n",
    "- Ciencias de la Computación:\n",
    "    - Fundamentos de las Matemáticas (Teoría de la Computabilidad)\n",
    "        - Trata del estudio de la computabilidad y de la complejidad.\n",
    "- Teoría de Máquinas (Teoría de Autómatas)\n",
    "    - Trata del estudio de máquinas de computación abstractas.\n",
    "- Lingüística (Teoría de Lenguajes y las Gramáticas)\n",
    "    - Trata del estudio y formalización de los lenguaje"
   ]
  },
  {
   "cell_type": "markdown",
   "metadata": {
    "slideshow": {
     "slide_type": "slide"
    }
   },
   "source": [
    "# Teoría de la Computación\n",
    "\n",
    "- En 1928, el matemático alemán David Hillbert, presenta a sus colegas como reto demostrar tres proposiciones de gran generalidad sobre su ciencia: \n",
    "    - ¿Son completas las matemáticas, en el sentido de que pueda probarse o no cada aseveración matemática?\n",
    "    - ¿Son las matemáticas consistentes, en el sentido de que no pueda probarse simultaneamente una aseveración y su negación?\n",
    "    - ¿Son las matemáticas son decidibles, en el sentido de que exista un método definido que se pueda aplicar a qualquier aseveración matemática, y que determine que dicha aseveración es cierta?"
   ]
  },
  {
   "cell_type": "markdown",
   "metadata": {
    "slideshow": {
     "slide_type": "subslide"
    }
   },
   "source": [
    "- En 1928, el matemático Ackermann presenta también el problema de la decisión en un estudio sobre la lógica de primer orden.\n",
    "- En 1930, el matemático checo Kurt Gödel prueba que las matemáticas no pueden ser completas y consistentes al mismo tiempo.\n",
    "- En 1936, el matemático americano Alonzo Church responde negativamente en un artículo al tercer problema propuesto por Hillbert, el problema decisorio.\n",
    "- En ese mismo año, el matemático inglés Alan Turing da una respuesta también negativa a esa tercera cuestión, sus resultados son más consistentes que los obtenidos por Church."
   ]
  },
  {
   "cell_type": "markdown",
   "metadata": {
    "slideshow": {
     "slide_type": "subslide"
    }
   },
   "source": [
    "- La demostración de Turing se basa en principios completamente básicos y elementales.\n",
    "- Turing enuncia el problema de decisión de la siguiente forma: \n",
    "    - *Buscar un algoritmo para determinar si una conclusión particular puede derivarse de ciertas premisas con el uso de reglas de prueba*\n",
    "- Da una noción precisa del concepto de algoritmo, como aquello que pueda ser realizado por una máquina abstracta → Máquina de Turing."
   ]
  },
  {
   "cell_type": "markdown",
   "metadata": {
    "slideshow": {
     "slide_type": "subslide"
    }
   },
   "source": [
    "- La máquina abstracta, Máquina de Turing se convierte en la herramienta de Turing para el estudio de la computabilidad.\n",
    "- Estas máquinas tienen una capacidad muy especial, que es la capacidad de imitar cualquier otra máquina → Máquina Universal de Turing.\n",
    "- Demostrando que existen problemas para los que se puede construir una Máquina de Turing pero esta no da solución, no se detiene."
   ]
  },
  {
   "cell_type": "markdown",
   "metadata": {
    "slideshow": {
     "slide_type": "subslide"
    }
   },
   "source": [
    "- De este modo, Alan Turing con su máquina universal capaz de realizar el trabajo de cualquier otra máquina, mediante la lectura de su descripción en una cinta, delinea el diseño de un computador. \n",
    "- En 1969, S. Cook extiende el estudio de Turing. Cook separa aquellos problemas que pueden ser solucionados de aquellos que en principio pueden ser solucionados pero que en la práctica toman demasiados recursos.\n",
    "- La Máquina de Turing ayuda a comprender que es lo que podemos esperar de nuestro software."
   ]
  },
  {
   "cell_type": "markdown",
   "metadata": {
    "slideshow": {
     "slide_type": "slide"
    }
   },
   "source": [
    "# Ramas de la Computación\n",
    "\n",
    "- En el campo de la computación se distinguen dos ramas, que estudian dos problemas:\n",
    "    - *Computabilidad*, estudian aquellos problemas que pueden ser resueltos por medio de un computador.\n",
    "    - *Complejidad*, estudian la complejidad de aquellos problemas que pueden ser resueltos por un computador."
   ]
  },
  {
   "cell_type": "markdown",
   "metadata": {
    "slideshow": {
     "slide_type": "slide"
    }
   },
   "source": [
    "# Teoría de Máquinas o Autómatas\n",
    "\n",
    "- En 1937, Claude Shannon presenta su tesis de licenciatura en el MIT, estableciendo el paralelismo entre la lógica de Boole y los circuitos de transmisión.\n",
    "- Las ideas de esta tesis se desarrollan notablemente dando lugar a la formalización de la teoría de las máquinas secuenciales y de los autómatas finitos.\n",
    "- Todo sistema que acepta señales del medio que le rodea y, como resultado, cambia de estado y transmite otras señales al medio, puede considerarse un autómata."
   ]
  },
  {
   "cell_type": "markdown",
   "metadata": {
    "slideshow": {
     "slide_type": "subslide"
    }
   },
   "source": [
    "- En 1943, McCulloch-Pitts desarrolla unas máquinas simples, en cuanto su funcionamiento, que fueron conocidas como autómatas finitos de actividad nerviosa, para modelar el funcionamiento de una neurona biológica.\n",
    "- En 1956, Moore publica el primer estudio riguroso sobre autómatas. Con anterioridad, debido al desarrollo de los primeros ordenadores, se habían estudiado diversos métodos para la síntesis de circuitos secuenciales (Huffman, 1954 y Mealy, 1955)."
   ]
  },
  {
   "cell_type": "markdown",
   "metadata": {
    "slideshow": {
     "slide_type": "subslide"
    }
   },
   "source": [
    "- En los años 60 es donde se realizan la mayor parte de trabajos sobre teoría de autómatas finitos\n",
    "- La teoría de máquinas o autómatas, trata de la invención y estudio de autómatas, incluyendo el estudio de las capacidades y limitaciones en el proceso de computo, la manera en la que los sistemas reciben entradas, las procesan y producen salidas y las relaciones entre las teorías de la conducta y la operación y uso de mecanismos automáticos. "
   ]
  },
  {
   "cell_type": "markdown",
   "metadata": {
    "slideshow": {
     "slide_type": "slide"
    }
   },
   "source": [
    "# Campos de Aplicación de los Autómatas\n",
    "\n",
    "- Teoría de la comunicación.\n",
    "- Teoría de control.\n",
    "- Lógica de los Circuitos Secuenciales.\n",
    "- Reconocimiento de patrones.\n",
    "- Computadoras.\n",
    "- Lógica de los sistemas evolutivos y autoreproductivos.\n",
    "- Traducción de lenguajes.\n",
    "- Redes conmutadoras y codificadoras."
   ]
  },
  {
   "cell_type": "markdown",
   "metadata": {
    "slideshow": {
     "slide_type": "slide"
    }
   },
   "source": [
    "# Lingüística\n",
    "\n",
    "- En 1956, N. Chomsky comienza el estudio formal de las gramáticas (como generadoras de lenguajes).\n",
    "- Formaliza matemáticamente los conceptos de gramática generativa o reglas para la construcción las frases de un lenguaje.\n",
    "- Enuncia la teoría sobre el origen y la naturaleza de los lenguajes naturales.\n",
    "- Estas herramientas fueron empleadas para la formalización de los lenguajes de ordenador, Teoría de los Lenguaje Formales.\n",
    "- A finales de los años 50 se relacionan los autómatas con los lenguajes."
   ]
  },
  {
   "cell_type": "markdown",
   "metadata": {
    "slideshow": {
     "slide_type": "slide"
    }
   },
   "source": [
    "# Utilidad de la Asignatura\n",
    "\n",
    "- Las Máquinas de Turing son esenciales para el estudio de los límites de la computación:\n",
    "    - ¿Qué puede hacer un computador? Problema de la decibilidad.\n",
    "    - ¿Qué puede hacer un computador eficientemente? Problema de la tratabilidad."
   ]
  },
  {
   "cell_type": "markdown",
   "metadata": {
    "slideshow": {
     "slide_type": "subslide"
    }
   },
   "source": [
    "- Los Autómatas son modelos útiles para muchos elementos hardware y software (Diseñar y chequear la conducta de circuitos digitales, Reconocimiento de patrones,…).\n",
    "- Los lenguajes permiten la comunicación con la máquina, lo que puede hacer la máquina depende del poder descriptivo del lenguaje."
   ]
  },
  {
   "cell_type": "markdown",
   "metadata": {
    "slideshow": {
     "slide_type": "slide"
    }
   },
   "source": [
    "# Máquinas Abstractas\n",
    "\n",
    "- Es una máquina que no existe físicamente, pero que ejecuta instrucciones sobre una entrada y produce una salida, habitualmente se han empleado en el estudio de la computabilidad. "
   ]
  },
  {
   "cell_type": "markdown",
   "metadata": {
    "slideshow": {
     "slide_type": "slide"
    }
   },
   "source": [
    "# Ejemplos de Máquinas Abstractas\n",
    "\n",
    "- Autómatas Finitos.\n",
    "- Autómatas a Pila.\n",
    "- Autómatas linealmente acotados.\n",
    "- Máquina de Turing."
   ]
  },
  {
   "cell_type": "markdown",
   "metadata": {
    "slideshow": {
     "slide_type": "slide"
    }
   },
   "source": [
    "# Autómata Finito\n",
    "\n",
    "- Son sistemas que en todo momento se encuentran en un estado de entre un conjunto finito de estados.\n",
    "- El propósito de un estado es recordar la historia del sistema.\n",
    "- Puesto que el número de estados es finito, el sistema debe ser diseñado para recordar aquello que es importante y olvidar lo que no.\n",
    "- La ventaja de tener un número finito de estados es que el sistema podrá ser implementado con un conjunto fijo de recursos. "
   ]
  },
  {
   "cell_type": "markdown",
   "metadata": {
    "slideshow": {
     "slide_type": "slide"
    }
   },
   "source": [
    "# Preliminares"
   ]
  },
  {
   "cell_type": "markdown",
   "metadata": {
    "slideshow": {
     "slide_type": "slide"
    }
   },
   "source": [
    "# Conjuntos\n",
    "\n",
    "- **Definición**: Un conjunto es una colección no ordenada de objetos o elementos.\n",
    "    - Los conjuntos se escriben con llaves {}.\n",
    "    - Los elementos en el conjunto se escriben entre las llaves\n",
    "- **Definition**:\n",
    "    - Para cualquier conjunto $S$, \"$x ∈ S$\" denota que $x$ es un elemento del conjunto $S$.\n",
    "    - Además, \"$y ∉ S$\" denota que $y$ no es un elemento del conjunto $S$."
   ]
  },
  {
   "cell_type": "markdown",
   "metadata": {
    "slideshow": {
     "slide_type": "subslide"
    }
   },
   "source": [
    "**Observación**: a menudo especificamos un conjunto utilizando la notación de conjunto, por ejemplo, \n",
    "$$\\{x | x ∈ \\mathbb{R}, x^2 - 4 = 0\\}$$\n",
    "- $\\mathbb{R}$ denota el conjunto de números reales.\n",
    "- $|$ Significa \"tal que\"\n",
    "- Coma significa \"y\""
   ]
  },
  {
   "cell_type": "markdown",
   "metadata": {
    "slideshow": {
     "slide_type": "slide"
    }
   },
   "source": [
    "# Ejemplos de conjuntos\n",
    "\n",
    "- El conjunto $\\{a, b, c\\}$ tiene elementos $a$, $b$ y $c$.\n",
    "- Los conjuntos $\\{a, b, c\\}$ y $\\{b, c, b, a, a\\}$ son iguales\n",
    "    - El orden y la redundancia no importan en un conjunto\n",
    "- El conjunto $\\{a\\}$ tiene el elemento $a$.\n",
    "    - $\\{a\\}$ y $a$ son cosas diferentes.\n",
    "    - $\\{a\\}$ es un conjunto con un elemento $a$."
   ]
  },
  {
   "cell_type": "markdown",
   "metadata": {
    "slideshow": {
     "slide_type": "subslide"
    }
   },
   "source": [
    "- El conjunto $\\mathbb{Z}$ de **enteros** es \n",
    "$$\\{..., - 2, −1,0,1,2, ...\\}$$\n",
    "- El conjunto $\\mathbb{Z}_+$ de enteros no negativos es \n",
    "$$\\{0,1,2,3, ...\\}$$\n",
    "- El conjunto de números pares es\n",
    "$$\\{0,2,4,6,8,10,12, ...\\}$$, \n",
    "que también podemos escribir como \n",
    "$$\\{2n | n = 0,1,2, ...\\}$$"
   ]
  },
  {
   "cell_type": "markdown",
   "metadata": {
    "slideshow": {
     "slide_type": "subslide"
    }
   },
   "source": [
    "- El conjunto de números impares\n",
    "$$\\{1,3,5,7,9,11,13, ...\\}$$\n",
    "también se puede escribir como \n",
    "$$\\{2n + 1 | n = 1,3,5, ...\\}$$\n",
    "**Ejemplo**: si $A$ es el conjunto $\\{2n | n = 0,1,2, ...\\}$,\n",
    "entonces $4 ∈ A$, pero $5 ∉ A$."
   ]
  },
  {
   "cell_type": "markdown",
   "metadata": {
    "slideshow": {
     "slide_type": "slide"
    }
   },
   "source": [
    "# Alfabetos\n",
    "\n",
    "Un alfabeto es un conjunto finito de unidades fundamentales (llamadas letras o\n",
    "símbolos).\n",
    "\n",
    "**Observación**: normalmente denotamos un alfabeto con una letra griega mayúscula\n",
    "- por ejemplo, $\\Sigma$ o $\\Gamma$ (es decir, Sigma o Gamma)\n",
    "\n",
    "**Ejemplos**\n",
    "- El alfabeto de las 26 letras romanas en minúscula es\n",
    "$$\\Sigma = \\{a, b, c, ..., z\\}$$"
   ]
  },
  {
   "cell_type": "markdown",
   "metadata": {
    "slideshow": {
     "slide_type": "subslide"
    }
   },
   "source": [
    "- El alfabeto de las 26 letras romanas mayúsculas es\n",
    "$$Γ = \\{A, B, C, ..., Z\\}$$\n",
    "- El alfabeto de los 10 números arábigos es\n",
    "$$Σ = \\{0,1,2, ..., 9\\}$$\n",
    "- En esta clase usaremos a menudo los alfabetos\n",
    "$$Σ = {a, b}$$\n",
    "$$Σ = {0,1}$$"
   ]
  },
  {
   "cell_type": "markdown",
   "metadata": {
    "slideshow": {
     "slide_type": "slide"
    }
   },
   "source": [
    "# Secuencias y cadenas\n",
    "\n",
    "**Definición**: La secuencia de objetos es una lista de estos objetos en algún orden.\n",
    "- El orden y la redundancia importan en una secuencia, a diferencia de un conjunto.\n",
    "- $a$, $b$, $c$ y $b$, $c$, $b$, $a$, $a$ son secuencias diferentes.\n",
    "- $\\{a, b, c\\}$ y $\\{b, c, b, a, a\\}$ son el mismo conjunto.\n",
    "\n",
    "**Definición**: una cadena sobre un alfabeto es una secuencia finita de\n",
    "símbolos del alfabeto (escritos sin comas o espacios entre\n",
    "los símbolos)"
   ]
  },
  {
   "cell_type": "markdown",
   "metadata": {
    "slideshow": {
     "slide_type": "slide"
    }
   },
   "source": [
    "# Ejemplos\n",
    "\n",
    "- $x$, $trolulent$, $amzixxen$ y $qwertyuio$ cadenas sobre el alfabeto\n",
    "$$Σ = \\{a, b, c, ..., z\\}$$\n",
    "- 0131 es una cadena sobre el alfabeto\n",
    "$$Σ = \\{0,1,2, ..., 9\\}$$"
   ]
  },
  {
   "cell_type": "markdown",
   "metadata": {
    "slideshow": {
     "slide_type": "slide"
    }
   },
   "source": [
    "# Longitud de una cadena\n",
    "\n",
    "**Definición**: La longitud de una cadena $w$ es el número de símbolos en $w$.\n",
    "- Algunas veces se denota la longitud de $w$ con longitud$(w)$ o $|w|$.\n",
    "\n",
    "**Ejemplo**: longitud$(casa)$ = $|casa|$ = 4\n",
    "\n",
    "**Definición**: La cadena vacía o cadena nula, denotada por $ε$ (es decir, épsilon), es la cadena que no consta de símbolos, es decir,\n",
    "$$| ε | = 0$$"
   ]
  },
  {
   "cell_type": "markdown",
   "metadata": {
    "slideshow": {
     "slide_type": "slide"
    }
   },
   "source": [
    "# Estrella de Kleene\n",
    "\n",
    "**Definición**: para un alfabeto dado $Σ$, deje que $Σ^∗$ denote el conjunto de todas las cadenas posibles (incluyendo $ε$) sobre $Σ$.\n",
    "\n",
    "**Ejemplo**: si $Σ = \\{a, b\\}$, entonces\n",
    "$$Σ^∗ = \\{ε, a, b, aa, ab, ba, bb, aaa, aab, aba, abb,. . .\\}$$"
   ]
  },
  {
   "cell_type": "markdown",
   "metadata": {
    "slideshow": {
     "slide_type": "slide"
    }
   },
   "source": [
    "# Ordenamiento de Cadenas\n",
    "\n",
    "**Definición**: una lista de cadenas $w_1$, $w_2$, ... sobre un alfabeto $Σ$ está en orden de cadena (también llamado orden lexicográfico) si\n",
    "1. las cadenas más cortas siempre aparecen antes que las cadenas más largas, y\n",
    "2. las cadenas de la misma longitud aparecen en orden alfabético.\n",
    "\n",
    "**Ejemplo**: si $Σ = \\{0,1\\}$, el orden de las cadenas en $Σ^∗$ es\n",
    "$$ε, 0,1,00,01,10,11,000,001,010,011, ...$$"
   ]
  },
  {
   "cell_type": "markdown",
   "metadata": {
    "slideshow": {
     "slide_type": "slide"
    }
   },
   "source": [
    "# Concatenación\n",
    "\n",
    "**Definición**: La concatenación de las cadenas $x$ e $y$ es la cadena $xy$.\n",
    "\n",
    "**Ejemplos**:\n",
    "- Si $x = luna$ e $y = sol$, entonces $xy = lunasol$ e $yx = solluna$.\n",
    "- Si $x = ε$ e $y = ab$, entonces $xy = ab = yx$.\n",
    "- Si $x = ε$ e $y = ε$, entonces $xy = ε = yx$; es decir, $εε = ε$."
   ]
  },
  {
   "cell_type": "markdown",
   "metadata": {
    "slideshow": {
     "slide_type": "subslide"
    }
   },
   "source": [
    "**Definición**: para la cadena $w$, definimos $w^n$ para $n≥0$ inductivamente como\n",
    "- $w^0 = ε$;\n",
    "- $w^n = w^{n − 1}w$ para cualquier $n≥1$.\n",
    "\n",
    "**Ejemplo**:\n",
    "si $w = casa$, entonces\n",
    "$$w^0 = ε,\\\\\n",
    "w^1 = w^0w = εcasa \\\\\n",
    "w^2 = w^1w = casacasa\\\\\n",
    "w^3 = w^2w = casacasacasa\\\\\n",
    "...$$"
   ]
  },
  {
   "cell_type": "markdown",
   "metadata": {
    "slideshow": {
     "slide_type": "subslide"
    }
   },
   "source": [
    "**Ejemplo**: también se puede aplicar esto a un solo símbolo\n",
    "\n",
    "- $a^3=aaa$\n",
    "- $a^0=ε$"
   ]
  },
  {
   "cell_type": "markdown",
   "metadata": {
    "slideshow": {
     "slide_type": "slide"
    }
   },
   "source": [
    "# Subcadenas\n",
    "\n",
    "**Definición**: Una subcadena de una cadena $w$ es cualquier parte contigua de $w$.\n",
    "- es decir, $y$ es una subcadena de $w$ si existen cadenas $x$ y $z$ (una o ambas posiblemente vacío) tal que $w = xyz$.\n",
    "\n",
    "**Ejemplos**:\n",
    "- $y = 47$ es una subcadena de $w = 472$ ya que permite que $x = ε$ y $z = 2$ da $w = xyz$.\n",
    "- La cadena $472$ tiene subcadenas $ε, 4,7,2,47,72$ y $472$.\n",
    "- $42$ no es una subcadena de $472$."
   ]
  }
 ],
 "metadata": {
  "celltoolbar": "Slideshow",
  "kernelspec": {
   "display_name": "Python 3",
   "language": "python",
   "name": "python3"
  },
  "language_info": {
   "codemirror_mode": {
    "name": "ipython",
    "version": 3
   },
   "file_extension": ".py",
   "mimetype": "text/x-python",
   "name": "python",
   "nbconvert_exporter": "python",
   "pygments_lexer": "ipython3",
   "version": "3.6.9"
  }
 },
 "nbformat": 4,
 "nbformat_minor": 2
}
