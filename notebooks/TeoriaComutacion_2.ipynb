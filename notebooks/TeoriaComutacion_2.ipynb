{
 "cells": [
  {
   "cell_type": "markdown",
   "metadata": {
    "slideshow": {
     "slide_type": "slide"
    }
   },
   "source": [
    "<center>\n",
    "    <h1>Teoría de la Computacion</h1>\n",
    "    <h1>Lenguajes y Gramáticas</h1>\n",
    "    <h1></h1>\n",
    "    <h5>Prof. Wladimir Rodriguez</h5>\n",
    "    <h5>wladimir.rodriguez@outlook.com</h5>\n",
    "    <h5>Departamento de Computación</h5>\n",
    "</center>"
   ]
  },
  {
   "cell_type": "markdown",
   "metadata": {
    "slideshow": {
     "slide_type": "slide"
    }
   },
   "source": [
    "# Contenido\n",
    "\n",
    "- Definiciones: palabras y lenguajes\n",
    "- Operaciones con palabras y lenguajes\n",
    "- Gramáticas\n",
    "- Jerarquía de Chomsky"
   ]
  },
  {
   "cell_type": "markdown",
   "metadata": {
    "slideshow": {
     "slide_type": "slide"
    }
   },
   "source": [
    "# Alfabetos\n",
    "\n",
    "- Un alfabeto es un conjunto finito A. Sus elementos se llamarán símbolos o letras.\n",
    "Notación:\n",
    "- Alfabetos: $A, B, C, ...$\n",
    "- Símbolos: $a, b, c, ...$ o números\n",
    "- Ejemplos:\n",
    "    - $A = \\{0, 1\\}$\n",
    "    - $B = \\{<0,0>, <0,1>, <1,0>, <1,1>\\}$"
   ]
  },
  {
   "cell_type": "markdown",
   "metadata": {
    "slideshow": {
     "slide_type": "slide"
    }
   },
   "source": [
    "# Palabras\n",
    "\n",
    "- Una palabra sobre el alfabeto $A$ es una sucesión finita de elementos de $A$.\n",
    "\n",
    "$$u = a_1 . . . a_n$$\n",
    "\n",
    "- donde $a_i ∈ A, ∀i = 1, . . . , n$.\n",
    "\n",
    "- Si $A = \\{0,1\\}$ entonces $0111$ es una palabra sobre este alfabeto"
   ]
  },
  {
   "cell_type": "markdown",
   "metadata": {
    "slideshow": {
     "slide_type": "subslide"
    }
   },
   "source": [
    "- El conjunto de todas las palabras sobre un alfabeto $A$ se nota como A*.\n",
    "- Notación:\n",
    "    - Palabras: $u, v, x, y, z, . . .$\n",
    "- Si $u ∈ A^*$, entonces la longitud de la palabra $u$ es el número de símbolos de $A$ que contiene.\n",
    "- Notación: $⎮u⎮$"
   ]
  },
  {
   "cell_type": "markdown",
   "metadata": {
    "slideshow": {
     "slide_type": "subslide"
    }
   },
   "source": [
    "- La palabra vacía es la palabra de longitud cero.\n",
    "- Notación: $ε$\n",
    "- Notación: El conjunto de cadenas sobre un alfabeto $A$ excluyendo la cadena vacía se nota como $A^+$."
   ]
  },
  {
   "cell_type": "markdown",
   "metadata": {
    "slideshow": {
     "slide_type": "slide"
    }
   },
   "source": [
    "# Operaciones: Concatenación\n",
    "\n",
    "- Si $u, v ∈ A^*$, $u = a_1 . . . a_n$, $v = b_1 . . . b_m$, se llama concatenación de $u$ y $v$ a la cadena $u.v$ (o simplemente $uv$) dada por $a_1 . . . a_nb_1 . . . b_m$.\n",
    "- Ejemplo:\n",
    "    - Si $u = 011$, $v = 1010$, entonces $uv = 0111010$"
   ]
  },
  {
   "cell_type": "markdown",
   "metadata": {
    "slideshow": {
     "slide_type": "subslide"
    }
   },
   "source": [
    "- Propiedades:\n",
    "    1. $⎮u.v⎮ = ⎮u⎮ + ⎮v⎮$,   $∀u,v ∈ A^*$\n",
    "    2. Asociativa: $u.(v.w) = (u.v).w$,   $∀u,v,w ∈ A^*$\n",
    "    3. Elemento Neutro: $u.ε = ε.u = u$,   $∀u ∈ A^*$\n",
    "- Estructura de monoide"
   ]
  },
  {
   "cell_type": "markdown",
   "metadata": {
    "slideshow": {
     "slide_type": "slide"
    }
   },
   "source": [
    "# Iteración\n",
    "\n",
    "- La Iteración n-esima de una cadena ($u^n$) es la concatenación con ella misma $n$ veces.\n",
    "- Si $u ∈ A^*$ entonces\n",
    "    - $u^0 = ε$\n",
    "    - $u^{i+1} = u^i.u$,   $∀i ≥ 0$\n",
    "- Ejemplo:\n",
    "    - Si $u = 010$, entonces $u^3 = 010010010$."
   ]
  },
  {
   "cell_type": "markdown",
   "metadata": {
    "slideshow": {
     "slide_type": "slide"
    }
   },
   "source": [
    "# Cadena Inversa\n",
    "\n",
    "- Si $u = a_1 . . . a_n ∈ A^*$, entonces la cadena inversa de $u$ es la cadena $u^{-1} = a_n . . . a_1 ∈ A^*$.\n",
    "- Ejemplo:\n",
    "    - Si $u = 011$, entonces $u^{-1} = 110$."
   ]
  },
  {
   "cell_type": "markdown",
   "metadata": {
    "slideshow": {
     "slide_type": "slide"
    }
   },
   "source": [
    "# Lenguajes\n",
    "\n",
    "- Un lenguaje sobre el alfabeto $A$ es un subconjunto del conjunto de las cadenas sobre $A: L ⊆ A^*$.\n",
    "- Notación:\n",
    "    - Lenguajes: $L, M, N, . . .$\n",
    "- Ejemplos:\n",
    "    - $L_1 = \\{a, b, ε\\}$\n",
    "    - $L_2 = \\{a^ib^i ⎮ i = 0, 1, 2, . . . \\}$\n",
    "    - $L_3 = \\{uu^{-1} ⎮ u ∈ A^*\\}$\n",
    "    - $L_4 = \\{a^{n^2} ⎮ n = 1, 2, 3, . . .\\}$"
   ]
  },
  {
   "cell_type": "markdown",
   "metadata": {
    "slideshow": {
     "slide_type": "slide"
    }
   },
   "source": [
    "# Operaciones: Concatenación\n",
    "\n",
    "- Aparte de las operaciones de unión e intersección de lenguajes, dada su condición de conjuntos existe la operación de concatenación.\n",
    "- Si $L_1$, $L_2$ son dos lenguajes sobre el alfabeto $A$, la concatenación de estos dos lenguajes se define como\n",
    "\n",
    "$$L_1L_2 = \\{u_1u_2 ⎮ u_1 ∈ L_1, u_2 ∈ L_2\\}$$"
   ]
  },
  {
   "cell_type": "markdown",
   "metadata": {
    "slideshow": {
     "slide_type": "subslide"
    }
   },
   "source": [
    "- Propiedades:\n",
    "    - $L\\Phi = \\Phi L = L$\n",
    "    - Elemento Neutro: $\\{ε\\}L = L\\{ε\\} = L$\n",
    "    - Asociativa: $L_1(L_2L_3) = (L_1L_2)L_3$"
   ]
  },
  {
   "cell_type": "markdown",
   "metadata": {
    "slideshow": {
     "slide_type": "slide"
    }
   },
   "source": [
    "# Operaciones: Iteración\n",
    "\n",
    "- La iteración de lenguajes se define de forma recursiva:\n",
    "$$L^0 = \\{ε\\},$$\n",
    "$$L^{i+1} = L^iL$$\n",
    "- Si L es un lenguaje sobre el alfabeto A, la clausura de Kleene de L es:\n",
    "$$L^* = \\cup_{i≥0}L^i$$\n",
    "$$L^+ = ∪_{i≥1}L^i$$"
   ]
  },
  {
   "cell_type": "markdown",
   "metadata": {
    "slideshow": {
     "slide_type": "subslide"
    }
   },
   "source": [
    "- Propiedades:\n",
    "    - $L^+ = L^*$ si $ε ∈ L$\n",
    "    - $L^+ = L^* - {ε}$ si $ε ∉ L$\n",
    "- El lenguaje inverso de L es el lenguaje dado por:\n",
    "    - $L^{-1} = \\{u ⎮ u^{-1} ∈ L\\}$"
   ]
  },
  {
   "cell_type": "markdown",
   "metadata": {
    "slideshow": {
     "slide_type": "slide"
    }
   },
   "source": [
    "# Ejemplos\n",
    "\n",
    "- Si $L_1 = \\{0^i1^i : i ≥ 0\\}$,   $L_2 = \\{1^i0^i : i ≥ 0\\}$ entonces,\n",
    "- $L_1L_2$ ? "
   ]
  },
  {
   "cell_type": "markdown",
   "metadata": {
    "slideshow": {
     "slide_type": "fragment"
    }
   },
   "source": [
    "- $L_1L_2 = \\{0^i1^i1^j0^j : i, j ≥ 0\\}$"
   ]
  },
  {
   "cell_type": "markdown",
   "metadata": {
    "slideshow": {
     "slide_type": "fragment"
    }
   },
   "source": [
    "- Si $L = \\{0, 01\\}$, entonces\n",
    "- $L^*$ = Conjunto de palabras sobre $\\{0,1\\}$ en las que un uno va siempre precedido de un cero, incluyendo la palabra vacía\n",
    "- $L^+$ = Conjunto de palabras sobre $\\{0,1\\}$ en las que un uno va siempre precedido de un cero y sin incluir la palabra vacía"
   ]
  },
  {
   "cell_type": "markdown",
   "metadata": {
    "slideshow": {
     "slide_type": "slide"
    }
   },
   "source": [
    "# Operaciones: Cabecera\n",
    "\n",
    "- La cabecera de L es el lenguaje dado por\n",
    "$$CAB(L) = \\{u ⎮ u ∈ A^* \\hspace{2 mm}y \\hspace{2 mm}∃v ∈ A^*\\hspace{2 mm} tal\\hspace{1 mm}que \\hspace{2 mm}uv ∈ L\\}$$\n"
   ]
  },
  {
   "cell_type": "markdown",
   "metadata": {
    "slideshow": {
     "slide_type": "slide"
    }
   },
   "source": [
    "# Operaciones Homomorfismo\n",
    "\n",
    "- Si $A_1$ y $A_2$ son dos alfabetos, una aplicación\n",
    "$$h : A_1^* → A_2^*$$\n",
    "- se dice que es un homomorfismo si y solo si\n",
    "$$h(uv) = h(u)h(v)$$\n",
    "- Consecuencias:\n",
    "$$h(ε) = ε$$\n",
    "$$h(a_1 . . . a_n) = h(a_1) . . . h(a_n)$$"
   ]
  },
  {
   "cell_type": "markdown",
   "metadata": {
    "slideshow": {
     "slide_type": "subslide"
    }
   },
   "source": [
    "- Si $A_1 = \\{0, 1, 2, 3, 4, 5, 6, 7, 8, 9\\},  A_2 = \\{0, 1\\}$\n",
    "\n",
    "$$h(0) = 0000,   \\hspace{2 mm}h(1) = 0001,   \\hspace{2 mm}h(2) = 0010,   \\hspace{2 mm}h(3) =0011$$\n",
    "$$h(4) = 0100,  \\hspace{2 mm} h(5) = 0101,  \\hspace{2 mm} h(6) = 0110,  \\hspace{2 mm} h(7) =0111$$\n",
    "$$h(8) = 1000,  \\hspace{2 mm} h(9) = 1001$$\n",
    "\n",
    "$$h(034) = 000000110100,    \\hspace{2 mm}h(ε) = ε$$"
   ]
  },
  {
   "cell_type": "markdown",
   "metadata": {
    "slideshow": {
     "slide_type": "slide"
    }
   },
   "source": [
    "# Gramáticas Generativas\n",
    "\n",
    "- Una gramática generativa es una cuádrupla $(V, T, P, S)$ en la que\n",
    "    - $V$ es un alfabeto, llamado de variables o símbolos no terminales. Sus elementos se suelen representar con letras mayúsculas.\n",
    "    - $T$ es un alfabeto, llamado de símbolos terminales. Sus elementos se suelen representar con letras minúsculas.\n",
    "    - $P$ es un conjunto de pares $(α, β)$, llamados reglas de producción, donde $α, β ∈ (V ∪ T)^*$ y $α$ contiene, al menos un símbolo de $V$. El par $(α, β)$ se suele representar como $α → β$\n",
    "    - $S$ es un elemento de $V$, llamado símbolo de inicio."
   ]
  },
  {
   "cell_type": "markdown",
   "metadata": {
    "slideshow": {
     "slide_type": "slide"
    }
   },
   "source": [
    "# Gramática\n",
    "\n",
    "- $G = (V, T, P, S)$\n",
    "    - $V = \\{E\\}$\n",
    "    - $T = \\{+, *, (, ), a, b, c\\}$\n",
    "    - $P$ está compuesto por las siguientes reglas de producción\n",
    "$$E → E + E, \\hspace{5 mm}   E → E * E, \\hspace{5 mm}   E → (E)$$\n",
    "$$E → a,    \\hspace{5 mm}       E → b,    \\hspace{5 mm}       E → c$$\n",
    "\n",
    "    - $S = E$"
   ]
  },
  {
   "cell_type": "markdown",
   "metadata": {
    "slideshow": {
     "slide_type": "slide"
    }
   },
   "source": [
    "# Lenguaje Generado: idea intuitiva\n",
    "\n",
    "- Una gramática sirve para determinar un lenguaje\n",
    "$$E → E + E, \\hspace{5 mm}   E → E * E, \\hspace{5 mm}   E → (E)$$\n",
    "$$E → a,    \\hspace{5 mm}       E → b,    \\hspace{5 mm}       E → c$$\n",
    "- Las palabras son las $T^*$ que se obtienen a partir del símbolo inicial efectuando pasos de derivación. Cada paso consiste en elegir una parte de la palabra que coincide con la parte izquierda de una producción y sustituir esa parte por la derecha de la misma producción."
   ]
  },
  {
   "cell_type": "markdown",
   "metadata": {
    "slideshow": {
     "slide_type": "subslide"
    }
   },
   "source": [
    "- $E$"
   ]
  },
  {
   "cell_type": "markdown",
   "metadata": {
    "slideshow": {
     "slide_type": "fragment"
    }
   },
   "source": [
    "- $E ⇒ E * E$"
   ]
  },
  {
   "cell_type": "markdown",
   "metadata": {
    "slideshow": {
     "slide_type": "fragment"
    }
   },
   "source": [
    "- $E * E ⇒ (E) * E$"
   ]
  },
  {
   "cell_type": "markdown",
   "metadata": {
    "slideshow": {
     "slide_type": "fragment"
    }
   },
   "source": [
    "- $(E) * E ⇒ (E + E) * E$"
   ]
  },
  {
   "cell_type": "markdown",
   "metadata": {
    "slideshow": {
     "slide_type": "fragment"
    }
   },
   "source": [
    "- $(E + E) * E ⇒ (a + E) * E$"
   ]
  },
  {
   "cell_type": "markdown",
   "metadata": {
    "slideshow": {
     "slide_type": "fragment"
    }
   },
   "source": [
    "- $(a + E) * E ⇒ (a + b) * E$"
   ]
  },
  {
   "cell_type": "markdown",
   "metadata": {
    "slideshow": {
     "slide_type": "fragment"
    }
   },
   "source": [
    "- $(a + b) * E ⇒ (a + b) * b$"
   ]
  },
  {
   "cell_type": "markdown",
   "metadata": {
    "slideshow": {
     "slide_type": "fragment"
    }
   },
   "source": [
    "- $(a + b) * b\\hspace{3 mm}$            Palabra Generada"
   ]
  },
  {
   "cell_type": "markdown",
   "metadata": {
    "slideshow": {
     "slide_type": "slide"
    }
   },
   "source": [
    "# Paso de Derivación\n",
    "\n",
    "- Gramática $G = (V, T, P, S)$ y dos palabras $α, β ∈ (V ∪ T)^*$ $β$ es derivable a partir de $α$ en un paso $(α ⇒ β)$ si y solo si\n",
    "  - existen palabras $δ_1,\\hspace{1 mm} δ_2 ∈ (V ∪ T)^*$ \n",
    "  - y una producción  $γ → \\varphi$ tales que\n",
    "$$α = δ_1γδ_2, \\hspace{2 mm}        β = δ_1\\varphiδ_2$$"
   ]
  },
  {
   "cell_type": "markdown",
   "metadata": {
    "slideshow": {
     "slide_type": "slide"
    }
   },
   "source": [
    "# Secuencia de Derivación\n",
    "\n",
    "- $β$ es derivable de $α \\hspace{2 mm}(α ⇒^* β)$ si y solo si existe una sucesión de palabras $γ_1, . . ., γ_n ( n ≥ 1)$ tales que\n",
    "\n",
    "$$α = γ_1⇒ γ_2⇒ . . . ⇒ γ_n = β$$"
   ]
  },
  {
   "cell_type": "markdown",
   "metadata": {
    "slideshow": {
     "slide_type": "slide"
    }
   },
   "source": [
    "# Lenguaje Generado\n",
    "\n",
    "- Se define como lenguaje generado por una gramática $G = (V, T, P, S)$ al conjunto de cadenas formadas por símbolos terminales y que son derivables a partir del símbolo de partida.\n",
    "- Es decir,\n",
    "$$L(G) = \\{ u ∈ T^* ⎮ S ⇒^* u\\}$$"
   ]
  },
  {
   "cell_type": "markdown",
   "metadata": {
    "slideshow": {
     "slide_type": "slide"
    }
   },
   "source": [
    "# Ejemplo\n",
    "\n",
    "- $G = (V, T, P, S)$, donde $V = \\{S, A, B\\}$, $T = \\{a, b\\}$. el símbolo de partida es $S$ y las reglas son:\n",
    "$$S → aB,  \\hspace{3 mm}  S → bA,  \\hspace{3 mm}  A → a,  \\hspace{3 mm}  A → aS$$\n",
    "$$A → bAA, \\hspace{3 mm}   B → b,  \\hspace{3 mm}  B → bS, \\hspace{3 mm}   B → aBB$$"
   ]
  },
  {
   "cell_type": "markdown",
   "metadata": {
    "slideshow": {
     "slide_type": "fragment"
    }
   },
   "source": [
    "- Esta gramática genera el lenguaje\n",
    "$$L(G) = \\{u ⎮ u ∈ \\{a, b\\}^+ \\hspace{1 mm} y \\hspace{1 mm} Na(u) = Nb(u)\\}$$\n",
    "- donde $Na(u)$ y $Nb(u)$ son el número de apariciones de símbolos $a$ y $b$, en $u$, respectivamente"
   ]
  },
  {
   "cell_type": "markdown",
   "metadata": {
    "slideshow": {
     "slide_type": "slide"
    }
   },
   "source": [
    "# Demostración\n",
    "\n",
    "- Esto es fácil de ser interpretando\n",
    "    - $A$ palabra con una $a$ de más\n",
    "    - $B$ palabra con una $b$ de más\n",
    "    - $S$ palabra con igual número de $a$ que de $b$.\n",
    "- Hay que demostrar dos cosas:\n",
    "    - Todas las palabras generadas por la gramática tienen el mismo número de $a$ que de $b$.\n",
    "    - Cualquier palabra con el mismo número de $a$ que de $b$ es generada"
   ]
  },
  {
   "cell_type": "markdown",
   "metadata": {
    "slideshow": {
     "slide_type": "subslide"
    }
   },
   "source": [
    "- Para lo primero, podemos considerar $N_{a,A}(u)$ (número de $a$ + número de $A$) y $N_{b,B}(u)$ (número de $b$ + número de $B$) y tener en cuenta lo siguiente para una generación $S ⇒^* u$:\n",
    "    - Al principio de la generación tenemos:\n",
    "$$N_{a,A}(S) = N_{b,B}(S) = 0$$\n",
    "    - Al aplicar cualquier regla $u_1 ⇒ u_2$, si\n",
    "$$N_{a,A}(u_1) = N_{b,B}(u_1), \\hspace{2 mm} entonces \\hspace{2 mm} N_{a,A}(u_2) = N_{b,B}(u_2)$$\n",
    "- Luego la final $N_{a,A}(u) = N_{b,B}(u)$, y como $u$ no contiene variables, $N_a(u) =N_b(u)$, como se quería demostrar"
   ]
  },
  {
   "cell_type": "markdown",
   "metadata": {
    "slideshow": {
     "slide_type": "slide"
    }
   },
   "source": [
    "# Algoritmo de Generación\n",
    "\n",
    "- Generación por la izquierda, un símbolo a la vez.\n",
    "- Para generar una a\n",
    "    - Si a último símbolo de la palabra, aplicar $A→ a$\n",
    "    - Si no es el último símbolo\n",
    "        - Si la primera variable es $S$ aplica $S → aB$\n",
    "        - Si la primera variable es $B$ aplicar $B → aBB$\n",
    "        - Si la primera variable es $A$, aplicar $A → a$ si hay mas variables, si no hay más variables aplicar $A → aS$"
   ]
  },
  {
   "cell_type": "markdown",
   "metadata": {
    "slideshow": {
     "slide_type": "subslide"
    }
   },
   "source": [
    "- Generación por la izquierda, un símbolo a la vez.\n",
    "- Para generar una b\n",
    "    - Si $b$ último símbolo de la palabra, aplicar $B→ b$\n",
    "    - Si no es el último símbolo\n",
    "        - Si la primera variable es $S$ aplica $S → bA$\n",
    "        - Si la primera variable es $A$ aplicar $A → bAA$\n",
    "        - Si la primera variable es $B$, aplicar $B → b$ si hay mas variables, si no hay más variables aplicar $B → bS$"
   ]
  },
  {
   "cell_type": "markdown",
   "metadata": {
    "slideshow": {
     "slide_type": "slide"
    }
   },
   "source": [
    "# Condiciones de Garantía\n",
    "\n",
    "- Las palabras generadas tienen primero símbolos terminales y después variables.\n",
    "- Se genera un símbolo de la palabra en cada paso de derivación\n",
    "- Las variables que aparecen en la palabra pueden ser:\n",
    "    - Una cadena de $A$ (si hemos generado más $b$ que $a$)\n",
    "    - Una cadena de $B$ (si hemos generado más $a$ que $b$)\n",
    "    - Una $S$ si hemos generado las mismas $a$ que $b$"
   ]
  },
  {
   "cell_type": "markdown",
   "metadata": {
    "slideshow": {
     "slide_type": "subslide"
    }
   },
   "source": [
    "- Antes de generar el último símbolo tendremos como variables:\n",
    "    - Una $A$ si tenemos que generar $a$\n",
    "    - Una $B$ si tenemos que generar $b$\n",
    "- Entonces aplicamos la primera opción para generar los símbolos y la palabra queda generada."
   ]
  },
  {
   "cell_type": "markdown",
   "metadata": {
    "slideshow": {
     "slide_type": "slide"
    }
   },
   "source": [
    "# Ejemplo:\n",
    "\n",
    "- Sea $G = (\\{S, X, Y\\}, \\{a, b, c\\}, P, S)$ donde $P$ tiene las reglas, \n",
    "$$S → abc  \\hspace{5 mm}  S → aXbc  \\hspace{5 mm}  Xb → bX \\hspace{5 mm}   Xc → Ybcc$$\n",
    "$$bY → Yb  \\hspace{5 mm}  aY → aaX  \\hspace{5 mm}  aY → aa$$"
   ]
  },
  {
   "cell_type": "markdown",
   "metadata": {
    "slideshow": {
     "slide_type": "slide"
    }
   },
   "source": [
    "# Lenguaje Generado\n",
    "\n",
    "- Esta gramática genera el lenguaje: $\\{a^nb^nc^n ⎮ n = 1, 2, . . . \\}.$\n",
    "$$aXbc ⇒ abXc ⇒ abYbcc ⇒ aYbbcc$$\n",
    "- En este momento podemos aplicar dos reglas:\n",
    "    - $aY → aa$, en cuyo caso producimos\n",
    "$$aabbcc = a^2b^2c^2 ∈ L(G)$$\n",
    "    - $aY → aaX$, en cuyo caso producimos $aaXbbcc$"
   ]
  },
  {
   "cell_type": "markdown",
   "metadata": {
    "slideshow": {
     "slide_type": "slide"
    }
   },
   "source": [
    "# Jerarquía de Chomsky\n",
    "\n",
    "- Tipo 0: *Cualquier gramática*. Sin restricciones. Lenguajes recursivos\n",
    "- Tipo 1: *Lenguajes dependientes del contexto*. Si todas las producciones tienen la forma\n",
    "\n",
    "$$α_1Aα_2 → α_1βα_2$$\n",
    "\n",
    "- donde $α_1$, $α_2$, $β ∈ (V ∪ T)^*, A ∈ V$, y $β ≠ ε$, excepto posiblemente la regla $S → ε$, en cuyo caso $S$ no aparece a la derecha de las reglas."
   ]
  },
  {
   "cell_type": "markdown",
   "metadata": {
    "slideshow": {
     "slide_type": "subslide"
    }
   },
   "source": [
    "- Tipo 2: *Lenguajes independientes del contexto*. Si cualquier producción tiene la forma\n",
    "\n",
    "$$A → α$$\n",
    "\n",
    "- donde $A ∈ V$, $α ∈ (V ∪ T)^*$. \n",
    "- Tipo 3: *Conjuntos regulares*. Si toda regla tiene la forma\n",
    "\n",
    "$$A → uB \\hspace{5 mm} ó \\hspace{5 mm}  A → u$$\n",
    "\n",
    "- donde \n",
    "$$u ∈ T^* \\hspace{5 mm} y \\hspace{5 mm} A, B ∈ V$$. "
   ]
  },
  {
   "cell_type": "markdown",
   "metadata": {
    "slideshow": {
     "slide_type": "slide"
    }
   },
   "source": [
    "# Clases de Lenguajes\n",
    "\n",
    "- Un lenguaje se dice que es de tipo $i (i = 0, 1, 2, 3)$ si y solo si es generado por una gramática de tipo $i$.\n",
    "- La clase o familia de lenguaje de tipo $i$ se denota por $L_i$.\n",
    "- Propiedad \n",
    "$$L_3 ⊆ L_2 ⊆ L_1 ⊆ L_0$$"
   ]
  },
  {
   "cell_type": "markdown",
   "metadata": {
    "slideshow": {
     "slide_type": "slide"
    }
   },
   "source": [
    "# Ejemplo 1\n",
    "\n",
    "- Demostrar que la gramática\n",
    "$$G = (\\{S\\}, \\{a, b\\}, \\{S → ε, S → aSb\\}, S)$$\n",
    "- genera el lenguaje $L = \\{a^ib^i ⎮ i = 0, 1, 2, . . .\\}$"
   ]
  },
  {
   "cell_type": "markdown",
   "metadata": {
    "slideshow": {
     "slide_type": "fragment"
    }
   },
   "source": [
    "- Inicialmente tenemos dos opciones:\n",
    "$$S ⇒ ε,    \\hspace{5 mm}         S ⇒ aSb$$"
   ]
  },
  {
   "cell_type": "markdown",
   "metadata": {
    "slideshow": {
     "slide_type": "fragment"
    }
   },
   "source": [
    "- Con eso generamos la palabra vacía, o continuamos generando. Otra vez hay dos opciones:\n",
    "$$S ⇒ S ⇒ aSb ⇒ ab,  \\hspace{5 mm}    S ⇒ aSb ⇒ aSb ⇒ aaSbb$$"
   ]
  },
  {
   "cell_type": "markdown",
   "metadata": {
    "slideshow": {
     "slide_type": "slide"
    }
   },
   "source": [
    "- Si seguimos este procedimiento, nos encontramos que podemos ir generando todas las palabras de la forma $a^ib^i$, y siempre nos queda $a^iSb^i$ para seguir generando las palabras de mayor longitud\n",
    "- Por otra parte, estas son las únicas palabras que se pueden generar."
   ]
  },
  {
   "cell_type": "markdown",
   "metadata": {
    "slideshow": {
     "slide_type": "slide"
    }
   },
   "source": [
    "# Ejemplo 2\n",
    "\n",
    "- Encontrar el lenguaje generado por la siguiente gramática $G = (\\{S, A, B\\}, \\{a, b\\}, P, S)$ donde $P$ contiene las siguientes producciones:\n",
    "$$S → aAB  \\hspace{5 mm}  bB → a  \\hspace{5 mm}  Ab → SBb$$\n",
    "$$Aa → SaB \\hspace{5 mm}   B → SA  \\hspace{5 mm}  B → ab$$"
   ]
  },
  {
   "cell_type": "markdown",
   "metadata": {
    "slideshow": {
     "slide_type": "fragment"
    }
   },
   "source": [
    "- El resultado es el Lenguaje vacío: nunca se puede llegar a generar una palabra con símbolos terminales. Siempre que se sustituye $S$ aparece $A$, y siempre que se sustituye $A$ aparece $B$."
   ]
  },
  {
   "cell_type": "markdown",
   "metadata": {
    "slideshow": {
     "slide_type": "slide"
    }
   },
   "source": [
    "# Ejercicios\n",
    "\n",
    "- Encontrar una gramática de libre contexto para generar cada uno de los siguientes lenguajes\n",
    "    1. $L = \\{a^ib^j ⎮ i, j ∈ N, i ≤ j\\}$\n",
    "    2. $L = \\{a^ib^ja^jb^i ⎮ i, j ∈ N\\}$\n",
    "    3. $L = \\{a^ib^ia^jb^j ⎮ i, j ∈ N\\}$\n",
    "    4. $L = \\{a^ib^i ⎮ i ∈ N\\} ∪ \\{b^ia^i ⎮ i ∈ N\\}$\n",
    "    5. $L = \\{uu^{-1} ⎮ u ∈ \\{a, b\\}^*\\}$\n",
    "    6. $L = \\{a^ib^jc^{i+j} ⎮ i, j ∈ N\\}$\n",
    "- donde N es el conjunto de los números naturales incluyendo el 0."
   ]
  },
  {
   "cell_type": "markdown",
   "metadata": {
    "slideshow": {
     "slide_type": "slide"
    }
   },
   "source": [
    "# $L = \\{a^ib^j ⎮ i, j ∈ N, i ≤ j\\}$\n",
    "\n"
   ]
  },
  {
   "cell_type": "markdown",
   "metadata": {
    "slideshow": {
     "slide_type": "fragment"
    }
   },
   "source": [
    "- Este lenguaje es generado por la siguiente gramática:\n",
    "\n",
    "$$S → aSb$$\n",
    "\n",
    "$$S → ε$$\n",
    "\n",
    "$$S → Sb$$"
   ]
  },
  {
   "cell_type": "markdown",
   "metadata": {
    "slideshow": {
     "slide_type": "slide"
    }
   },
   "source": [
    "# $L = \\{a^ib^ja^jb^i ⎮ i, j ∈ N\\}$"
   ]
  },
  {
   "cell_type": "markdown",
   "metadata": {
    "slideshow": {
     "slide_type": "fragment"
    }
   },
   "source": [
    "- Este lenguaje es generado por la siguiente gramática:\n",
    "\n",
    "$$S → aSb$$\n",
    "\n",
    "$$S → B$$\n",
    "\n",
    "$$B → bBa$$\n",
    "\n",
    "$$B → ε$$"
   ]
  },
  {
   "cell_type": "markdown",
   "metadata": {
    "slideshow": {
     "slide_type": "slide"
    }
   },
   "source": [
    "# $L = \\{a^ib^ia^jb^j ⎮ i, j ∈ N\\}$"
   ]
  },
  {
   "cell_type": "markdown",
   "metadata": {
    "slideshow": {
     "slide_type": "fragment"
    }
   },
   "source": [
    "- Podemos generar $\\{a^ib^i ⎮ i ∈ N\\}$ con:\n",
    "\n",
    "$$S_1 → aS_1b,  \\hspace{5 mm}  S_1 → ε$$\n",
    "\n",
    "- El lenguaje $L$ se puede generar añadiendo:\n",
    "\n",
    "$$S → S_1S_1$$\n",
    "\n",
    "- Siendo $S$ el símbolo inicial."
   ]
  },
  {
   "cell_type": "markdown",
   "metadata": {
    "slideshow": {
     "slide_type": "slide"
    }
   },
   "source": [
    "# $L = \\{a^ib^i ⎮ i ∈ N\\}∪\\{b^ia^i ⎮ i ∈ N\\}$"
   ]
  },
  {
   "cell_type": "markdown",
   "metadata": {
    "slideshow": {
     "slide_type": "fragment"
    }
   },
   "source": [
    "- Podemos generar $\\{a^ib^i ⎮ i ∈ N\\}$ con:\n",
    "$$S_1 → aS_1b, \\hspace{5 mm}   S_1 → ε$$\n",
    "- y $\\{b^ia^i ⎮ i ∈ N\\}$ con:\n",
    "$$S_2 → bS_2a, \\hspace{5 mm}   S_2 → ε$$\n",
    "- El lenguaje $L$ se puede generar añadiendo:\n",
    "$$S → S_1,    \\hspace{5 mm}  S → S_2$$\n",
    "- siendo $S$ el símbolo inicial"
   ]
  },
  {
   "cell_type": "markdown",
   "metadata": {
    "slideshow": {
     "slide_type": "slide"
    }
   },
   "source": [
    "# $L = \\{uu^{-1} ⎮ u ∈ \\{a, b\\}^*\\}$"
   ]
  },
  {
   "cell_type": "markdown",
   "metadata": {
    "slideshow": {
     "slide_type": "fragment"
    }
   },
   "source": [
    "- Este lenguaje se genera con la gramática:\n",
    "\n",
    "$$S → aSa$$\n",
    "\n",
    "$$S → bSb$$\n",
    "\n",
    "$$S → ε$$"
   ]
  },
  {
   "cell_type": "markdown",
   "metadata": {
    "slideshow": {
     "slide_type": "slide"
    }
   },
   "source": [
    "# $L = \\{a^ib^jc^{i+j} ⎮ i, j ∈ N\\}$"
   ]
  },
  {
   "cell_type": "markdown",
   "metadata": {
    "slideshow": {
     "slide_type": "fragment"
    }
   },
   "source": [
    "- Este lenguaje se genera con la gramática:\n",
    "\n",
    "$$S → aSc$$\n",
    "\n",
    "$$S → B$$\n",
    "\n",
    "$$B → bBc$$\n",
    "\n",
    "$$B → ε$$"
   ]
  },
  {
   "cell_type": "markdown",
   "metadata": {
    "slideshow": {
     "slide_type": "slide"
    }
   },
   "source": [
    "# Ejercicio\n",
    "\n",
    "- Determinar si la gramática $G = (\\{S, A, B\\}, \\{a, b, c, d\\}, P, S)$ donde $P$ es el conjunto de reglas de producción:\n",
    "$$S → AB   \\hspace{5 mm}   A → Ab  \\hspace{5 mm}    A → a$$\n",
    "$$B → cB   \\hspace{5 mm}   B → d$$\n",
    "- genera un lenguaje de tipo 3.\n"
   ]
  },
  {
   "cell_type": "markdown",
   "metadata": {
    "slideshow": {
     "slide_type": "fragment"
    }
   },
   "source": [
    "- Esta gramática genera el lenguaje: $\\{ab^ic^jd : i,j ∈ N\\}$\n",
    "- Y este lenguaje se puede generar mediante la gramática de tipo 3\n",
    "$$S → aB, \\hspace{5 mm}  B → bB, \\hspace{5 mm}  B → C,\\hspace{5 mm}   C → cC, \\hspace{5 mm}  C → d$$"
   ]
  }
 ],
 "metadata": {
  "celltoolbar": "Slideshow",
  "kernelspec": {
   "display_name": "Python 3",
   "language": "python",
   "name": "python3"
  },
  "language_info": {
   "codemirror_mode": {
    "name": "ipython",
    "version": 3
   },
   "file_extension": ".py",
   "mimetype": "text/x-python",
   "name": "python",
   "nbconvert_exporter": "python",
   "pygments_lexer": "ipython3",
   "version": "3.7.4"
  }
 },
 "nbformat": 4,
 "nbformat_minor": 2
}
