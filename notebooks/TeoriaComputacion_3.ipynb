{
 "cells": [
  {
   "cell_type": "markdown",
   "metadata": {
    "slideshow": {
     "slide_type": "slide"
    }
   },
   "source": [
    "<center>\n",
    "    <h1>Teoría de la Computación</h1>\n",
    "    <h1>Autómatas Finitos Deterministas</h1>\n",
    "    <h1></h1>\n",
    "    <h5>Prof. Wladimir Rodriguez</h5>\n",
    "    <h5>wladimir.rodriguez@outlook.com</h5>\n",
    "    <h5>Departamento de Computación</h5>\n",
    "</center>"
   ]
  },
  {
   "cell_type": "markdown",
   "metadata": {
    "slideshow": {
     "slide_type": "slide"
    }
   },
   "source": [
    "# Agenda\n",
    "\n",
    "- Autómata Finito Determinista\n",
    "- Diagramas de Transición\n",
    "- Cálculo Asociado\n",
    "- Proceso de Cálculo\n",
    "- Ejemplos\n",
    "- Ejercicios"
   ]
  },
  {
   "cell_type": "markdown",
   "metadata": {
    "slideshow": {
     "slide_type": "slide"
    }
   },
   "source": [
    "# Autómata Finito Determinista\n",
    "\n",
    "- Un Autómata Finito es una quíntupla $M = (Q, A, \\delta, q_0, F)$ donde\n",
    "- $Q$ es un conjunto finito llamado conjunto de estados\n",
    "- $A$ es un alfabeto llamado alfabeto de entrada\n",
    "- $\\delta$ es una aplicación llamada función de transición\n",
    "$$\\delta : Q × A → Q$$\n",
    "- $q_0$ es un elemento de $Q$ llamado estado inicial\n",
    "- $F$ es un subconjunto de $Q$, llamado conjunto de estados finales"
   ]
  },
  {
   "cell_type": "markdown",
   "metadata": {
    "slideshow": {
     "slide_type": "subslide"
    }
   },
   "source": [
    "# Ejemplo:\n",
    "\n",
    "- Sea el autómata $M = (Q, A, \\delta, q_0, F)$, donde\n",
    "- $Q = \\{q_0, q_1, q_2\\}$\n",
    "- $A = \\{a, b\\}$\n",
    "- La función de transición viene dada por:\n",
    "$$\\delta(q_0, a) = q_1, \\hspace{6 mm}   \\delta(q_0, b) = q_2,$$\n",
    "$$\\delta(q_1, a) = q_1,  \\hspace{6 mm}  \\delta(q_1, b) = q_2,$$\n",
    "$$\\delta(q_2, a) = q_1,  \\hspace{6 mm}  \\delta(q_2, b) = q_0,$$\n",
    "- $F = \\{q_1\\}$"
   ]
  },
  {
   "cell_type": "markdown",
   "metadata": {},
   "source": [
    "# Diagrama de Transición\n",
    "\n",
    "- Es un grafo en el que:\n",
    "    - Hay un nodo por cada estado\n",
    "    - Por  cada transición $\\delta(q, a) = p$ hay un arco de $q$ a $p$ con la etiqueta $a$.\n",
    "    - El estado inicial está indicado con una flecha entrante. Los estados finales están indicados con una doble circunferencia."
   ]
  },
  {
   "cell_type": "markdown",
   "metadata": {
    "slideshow": {
     "slide_type": "slide"
    }
   },
   "source": [
    "![](../figuras/automata_1.png)"
   ]
  },
  {
   "cell_type": "markdown",
   "metadata": {
    "slideshow": {
     "slide_type": "slide"
    }
   },
   "source": [
    "# Cálculo Asociado. Traza\n",
    "\n",
    "![](../figuras/automata_2.png)"
   ]
  },
  {
   "cell_type": "markdown",
   "metadata": {
    "slideshow": {
     "slide_type": "slide"
    }
   },
   "source": [
    "# Proceso de Cálculo\n",
    "\n",
    "- Autómata $M = (Q, A, \\delta, q_0, F)$\n",
    "    - Descripción Instantánea o Configuración:\n",
    "    - Un elemento de $Q × A^*: (q, u)$.\n",
    "    - Configuración Inicial para $u ∈ A^*: (q_0, u)$\n",
    "    - Relación paso de cálculo entre dos configuraciones\n",
    "$$((q, u) \\vdash (p, v)) \\iff ((u = av) \\hspace{3 mm} \\text{y} \\hspace{3 mm} \\delta(q, a) = p)$$\n",
    "    - De una configuración sólo se puede pasar a lo máximo a una configuración en un paso de cálculo."
   ]
  },
  {
   "cell_type": "markdown",
   "metadata": {
    "slideshow": {
     "slide_type": "subslide"
    }
   },
   "source": [
    "- Relación de cálculo entre dos configuraciones:\n",
    "- $((q, u) \\vdash^* (p, v))$ si y sólo si existe una sucesión de configuraciones $C_0, \\cdots , C_n$ tales que\n",
    "- $C_0 = (q, u), C_n = (p,v)\\hspace{3 mm} \\text{y} \\hspace{3 mm} \\forall{i} \\leq n - 1, C_i \\vdash C_{i+1}$ \n",
    "\n",
    "- Lenguaje Aceptado por un Autómata Finito\n",
    "\n",
    "$$L(M) = \\{u \\in A^* : (q_0, u) \\vdash^* (q, \\epsilon), q \\in F\\}$$\n",
    "\n",
    "- Las palabras de L(M) se dicen aceptadas por el autómata"
   ]
  },
  {
   "cell_type": "markdown",
   "metadata": {
    "slideshow": {
     "slide_type": "slide"
    }
   },
   "source": [
    "# Ejemplos: \n",
    "\n",
    "![](../figuras/automata_3.png)"
   ]
  },
  {
   "cell_type": "markdown",
   "metadata": {
    "slideshow": {
     "slide_type": "slide"
    }
   },
   "source": [
    "# Constantes Reales\n",
    "\n",
    "- Gramática $G = (V, T, P, S)$, donde\n",
    "- $T = \\{+, -, E, 0, 1, 2, 3, 4, 5, 6, 7, 8, 9, .\\}$\n",
    "- $V = \\{<Signo>,<Digito>,<Natural>,<Entero>,<Real>\\}$\n",
    "- $S = <Real>$\n",
    "- P contiene las siguientes producciones\n",
    "    - $<Signo> \\to +⎮−$\n",
    "    - $<Digito> \\to 0⎮1⎮2⎮3⎮4⎮5⎮6⎮7⎮8⎮9$\n",
    "    - $<Natural> \\to <Digito> ⎮<Digito><Natural>$\n",
    "    - $<Entero> \\to <Natural>⎮<Signo><Natural>$\n",
    "    - $<Real> \\to <Entero>⎮<Entero>.$\n",
    "    - $<Real> \\to <Entero>.<Natural>$\n",
    "    - $<Real> \\to <Entero>.<Natural>E<Entero>$"
   ]
  },
  {
   "cell_type": "markdown",
   "metadata": {
    "slideshow": {
     "slide_type": "subslide"
    }
   },
   "source": [
    "![](../figuras/automata_reales.pdf)"
   ]
  },
  {
   "cell_type": "markdown",
   "metadata": {
    "slideshow": {
     "slide_type": "slide"
    }
   },
   "source": [
    "# Ejercicios\n",
    "\n",
    "- Dibujar autómatas finitos deterministas que reconozcan los siguientes conjuntos de cadenas construidas sobre el alfabeto $A = \\{0, 1\\}$\n",
    "    1. cadenas acabadas en $00$\n",
    "    2. cadenas con dos unos consecutivos\n",
    "    3. cadenas que no contengan dos unos consecutivos\n",
    "    4. cadenas con dos ceros consecutivos o dos unos consecutivos\n",
    "    5. cadenas con dos ceros consecutivos y dos unos consecutivos\n",
    "    6. cadenas acabadas en $00$ o $11$\n",
    "    7. cadenas con un $1$ en la penúltima posición\n",
    "    8. cadenas de longitud $4$"
   ]
  },
  {
   "cell_type": "markdown",
   "metadata": {},
   "source": [
    "# 1. Cadenas acabadas en $00$\n",
    "\n",
    "![](../figuras/cadena_fin_00.png)"
   ]
  },
  {
   "cell_type": "markdown",
   "metadata": {},
   "source": [
    "# 2. Cadenas con dos unos consecutivos\n",
    "\n",
    "![](../figuras/cadena_dos_unos_consecutivos.png)"
   ]
  },
  {
   "cell_type": "markdown",
   "metadata": {},
   "source": [
    "# 3. Cadenas que no contengan dos unos consecutivos\n",
    "\n",
    "![](../figuras/cadena_no_dos_unos_consecutivos.png)"
   ]
  },
  {
   "cell_type": "markdown",
   "metadata": {},
   "source": [
    "# 4. Cadenas con dos ceros consecutivos o dos unos consecutivos\n",
    "\n",
    "![](../figuras/cadena_dos_0_o_dos_1.png)"
   ]
  },
  {
   "cell_type": "markdown",
   "metadata": {},
   "source": [
    "# 5. Cadenas con dos ceros consecutivos y dos unos consecutivos\n",
    "\n",
    "![](../figuras/cadena_dos_0_y_dos_1.png)"
   ]
  },
  {
   "cell_type": "markdown",
   "metadata": {},
   "source": [
    "# 6. Cadenas acabadas en $00$ o $11$\n",
    "\n",
    "![](../figuras/cadena_fin_dos_0_o_dos_1.png)"
   ]
  },
  {
   "cell_type": "markdown",
   "metadata": {},
   "source": [
    "# 7. Cadenas con un $1$ en la penúltima posición\n",
    "\n",
    "![](../figuras/cadena_1_penultima_pos.png)"
   ]
  },
  {
   "cell_type": "markdown",
   "metadata": {},
   "source": [
    "# 8. Cadenas de longitud $4$\n",
    "\n",
    "![](../figuras/cadena_longitud_4.png)"
   ]
  }
 ],
 "metadata": {
  "celltoolbar": "Slideshow",
  "kernelspec": {
   "display_name": "Python 3",
   "language": "python",
   "name": "python3"
  },
  "language_info": {
   "codemirror_mode": {
    "name": "ipython",
    "version": 3
   },
   "file_extension": ".py",
   "mimetype": "text/x-python",
   "name": "python",
   "nbconvert_exporter": "python",
   "pygments_lexer": "ipython3",
   "version": "3.7.5"
  }
 },
 "nbformat": 4,
 "nbformat_minor": 4
}
