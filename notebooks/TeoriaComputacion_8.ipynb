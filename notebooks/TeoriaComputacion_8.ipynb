{
 "cells": [
  {
   "cell_type": "markdown",
   "metadata": {
    "slideshow": {
     "slide_type": "slide"
    }
   },
   "source": [
    "<center>\n",
    "    <h1>Teoría de la Computación</h1>\n",
    "    <h1>Máquinas de Turing</h1>\n",
    "    <h1></h1>\n",
    "    <h5>Prof. Wladimir Rodriguez</h5>\n",
    "    <h5>wladimir.rodriguez@outlook.com</h5>\n",
    "    <h5>Departamento de Computación</h5>\n",
    "</center>"
   ]
  },
  {
   "cell_type": "markdown",
   "metadata": {
    "slideshow": {
     "slide_type": "slide"
    }
   },
   "source": [
    "## Introducción\n",
    "\n",
    "### Alan Turing (1912 - 1954)\n",
    "\n",
    "- Una pregunta acechaba a Turing, y era el hecho de que: ¿Debe existir al menos en principio algún método definido, o proceso mediante el cual toda cuestión matemática pueda ser demostrada? (entscheidugsproblem)\n",
    "\n",
    "- Para contestar a esta pregunta necesitaba una definición del concepto método, y para ello analizó que era lo que hacía una persona para transformar un proceso metódico, y buscar una forma de hacer esto mecánicamente. Expresó el analisis en términos de una máquina teórica que sería capaz de transformar con precisión operaciones elementales previamente definidas en símbolos en una cinta de papel. En Agosto de 1936 presenta el concepto final de la Maquina de Turing en su artículo \"*On computable numbers, with an application to the Entscheidungsproblems*\" (1936). \n",
    "\n",
    "- En este artículo determinó la naturaleza y las limitaciones teóricas de las máquinas lógicas antes de que se construyera siquiera una sencilla computadora por completo programable\n",
    "\n",
    "- En Princeton, desarrolló una máquina de cifrado, y estudió sobre este campo debido a la utilidad de ello en la Guerra con Alemania. "
   ]
  },
  {
   "cell_type": "markdown",
   "metadata": {
    "slideshow": {
     "slide_type": "slide"
    }
   },
   "source": [
    "- Trabajando secretamente para el Colegio de Cifrado y Código Gubernamental o también llamado Departamento de Criptoanálisis. Turing fue reclutado por Inglaterra, en Bletchley Park, para descifrar los mensajes que componía la máquina alemana Enigma, y, como consecuencia, los aliados construyeron la máquina Colossus. \n",
    "\n",
    "- Es en este periodo cuando toma contacto con la más avanzada tecnología electrónica de la época y planea la Máquina de Turing Universal en su forma electrónica, de hecho había inventado las computadoras digitales. \n",
    "\n",
    "- En 1950, Turing publica el artículo *Computing Machinery and Intelligence* en la revista Mind, en el que introducía el célebre Test de Turing. Este artículo estimuló a los pensadores sobre la filosofía e investigación en el campo de la Inteligencia Artificial.\n",
    "\n",
    "- Turing tuvo la visión de una computadora con memoria que implementaría las funciones aritméticas mediante programación en vez de con componentes electrónicos, y que podría desempeñar todo tipo de tareas (por ejemplo, manejo de archivos, álgebra, jugar ajedrez, encriptamiento, etc.) Hacia 1947, concibió la idea de las redes de cómputo y el concepto de subrutina y biblioteca de software.\n",
    "\n",
    "- En vez de publicar los principios fundamentales de cómputo que había descubierto, se dedicó a estudiar fisiología y neurología, y en un reporte interno del NLP (Laboratorio Nacional de Física, Inglaterra) de esa época, describe las ideas básicas de lo que hoy se conoce como una red neuronal."
   ]
  },
  {
   "cell_type": "markdown",
   "metadata": {
    "slideshow": {
     "slide_type": "slide"
    }
   },
   "source": [
    "### ¿Qué es computabilidad?\n",
    "\n",
    "- Consiste en ser capaz de encontrar la representación adecuada para la descripción de un problema o fenómeno.\n",
    "\n",
    "- Para tal representación es necesario:\n",
    "    - Un conjunto finito de símbolos.\n",
    "    - Hacer asociaciones entre conceptos y elementos del lenguaje (de símbolos)\n",
    "    - Encontrar las combinaciones adecuadas de símbolos para evitar ambigüedad.\n",
    "    - Definir una manera de confirmar tal descripción para que terceros puedan reproducirla y llegar a los mismos resultados.\n"
   ]
  },
  {
   "cell_type": "markdown",
   "metadata": {
    "slideshow": {
     "slide_type": "slide"
    }
   },
   "source": [
    "## La máquina de Turing\n",
    "\n",
    "- En el artículo On Computable Numbers, Turing construyó un modelo formal de computador, la Máquina de Turing, (con esto resolvió el  entscheidungsproblem (planteado por, David Hilbert) y demostró que había problemas tales que una máquina no podía resolver. La máquina de Turing es el primer modelo teórico de lo que luego sería un computador programable. Con el tiempo a este tipo de máquina se la conoció como máquina de estado finito, debido a que en cada etapa de un cálculo, la siguiente acción de la máquina se contrastaba con una lista finita de instrucciones de estado posibles. "
   ]
  },
  {
   "cell_type": "markdown",
   "metadata": {
    "slideshow": {
     "slide_type": "slide"
    }
   },
   "source": [
    "## Definición \n",
    "\n",
    "- La Máquina de Turing consiste en una colección de celdas de almacenamiento que se extiende infinitamente en ambas direcciones, almacenando un símbolo en cada celda. Dicha colección no tiene una celda primera ni última, por lo que posee una capacidad de almacenamiento ilimitada.\n",
    "\n",
    "- Una máquina de Turing (MT) tiene tres componentes:\n",
    "    - Una cinta infinita dividida en celdas. Cada celda contiene un símbolo.\n",
    "    - Un cabezal que accede a una celda a la vez, y que puede leer y escribir en la cinta, y puede moverse tanto hacia la izquierda como hacia la derecha.\n",
    "    - El control es casi el mismo que en los Autómatas Finitos: el conjunto de estados y transiciones entre estados."
   ]
  },
  {
   "cell_type": "markdown",
   "metadata": {
    "slideshow": {
     "slide_type": "slide"
    }
   },
   "source": [
    "## Definición Formal\n",
    "\n",
    "- Una Máquina de Turing se define como una septupla $(Q, A, C, \\delta, q_0, \\beta, F)$ en la que\n",
    "    - $Q$ es un conjunto finito de estados\n",
    "    - $A$ es el alfabeto de entrada\n",
    "    - $C$ es el alfabeto de la cinta\n",
    "    - $\\delta$ es la función de transición\n",
    "$$\\delta : Q \\times C \\to Q \\times C \\times (R, L)$$\n",
    "    - $q_0$ es el estado inicial\n",
    "    - $\\beta$ es el símbolo blanco $(\\beta \\in C$ y $\\beta \\notin A)$\n",
    "    - $F$ es el conjunto de estados finales"
   ]
  },
  {
   "cell_type": "markdown",
   "metadata": {
    "slideshow": {
     "slide_type": "slide"
    }
   },
   "source": [
    "### Video de una implementación de la Máquina de Turing"
   ]
  },
  {
   "cell_type": "code",
   "execution_count": 7,
   "metadata": {
    "slideshow": {
     "slide_type": "fragment"
    }
   },
   "outputs": [
    {
     "data": {
      "image/jpeg": "[encoded data removed]",
      "text/html": [
       "\n",
       "        <iframe\n",
       "            width=\"400\"\n",
       "            height=\"300\"\n",
       "            src=\"https://www.youtube.com/embed/E3keLeMwfHY\"\n",
       "            frameborder=\"0\"\n",
       "            allowfullscreen\n",
       "        ></iframe>\n",
       "        "
      ],
      "text/plain": [
       "<IPython.lib.display.YouTubeVideo at 0x1193758d0>"
      ]
     },
     "execution_count": 7,
     "metadata": {},
     "output_type": "execute_result"
    }
   ],
   "source": [
    "from IPython.lib.display import YouTubeVideo\n",
    "YouTubeVideo('E3keLeMwfHY')"
   ]
  },
  {
   "cell_type": "markdown",
   "metadata": {
    "slideshow": {
     "slide_type": "slide"
    }
   },
   "source": [
    "### La Cinta\n",
    "\n",
    "- Asumimos una cinta infinita bidireccional que se extiende hasta el infinito en ambas direcciones.\n",
    "- $\\Delta$ denota una celda vacía o en blanco.\n",
    "- La entrada comienza en la cinta rodeada por $\\Delta$ con el cabezal en el símbolo del extremo izquierdo. (Si la entrada es $\\epsilon$, la cinta está vacía y el cabezal apunta a la celda vacía).\n",
    "\n",
    "![](../figuras/mt_1.png)"
   ]
  },
  {
   "cell_type": "markdown",
   "metadata": {
    "slideshow": {
     "slide_type": "slide"
    }
   },
   "source": [
    "### El programa\n",
    "\n",
    "- El programa de una *Máquina de Turing* es una función de transición; Dependiendo del símbolo debajo del cabezal y el estado, la *Máquina de Turing*:\n",
    "    - escribe un símbolo\n",
    "    - se mueve hacia la izquierda o hacia la derecha o permanece en su lugar, y\n",
    "    - actualiza su estado\n",
    "- El lenguaje de una *Máquina de Turing* es el conjunto de cadenas que acepta.\n",
    "- Al igual que los *Autómatas a Pila*, una vez que una *Máquina de Turing* entra en un estado de aceptación, se detiene y termina de manera anormal si no hay transición."
   ]
  },
  {
   "cell_type": "markdown",
   "metadata": {
    "slideshow": {
     "slide_type": "slide"
    }
   },
   "source": [
    "### El Diagrama\n",
    "\n",
    "- La *Máquina de Turing* se representa como un diagrama, como para *Autómata Finito*, excepto que cada flecha está etiquetada con un tripleta:\n",
    "\n",
    "$$simboloActual \\hspace{0.2 cm} ; \\hspace{0.2 cm} simboloNuevo \\hspace{0.2 cm} , \\hspace{0.2 cm} dirMover$$\n",
    "\n",
    "- donde \"dirMover\" es uno de $I$ (mover hacia la izquierda una celda), $D$ (mover hacia la derecha una celda) y $S$ (permanecer en su lugar).\n",
    "- Por ejemplo, triple $01I$ significa \"si lee un $0$, escriba un $1$ y mueva el cabezal hacia la izquierda\"."
   ]
  },
  {
   "cell_type": "markdown",
   "metadata": {
    "slideshow": {
     "slide_type": "slide"
    }
   },
   "source": [
    "### Ejemplo 1: Rconocer la subcadena $101$\n",
    "\n",
    "- Aquí hay una *Máquina de Turing* simple que imita un *Autómata Finito* para el lenguaje de todas las cadenas binarias que contienen la subcadena 101.\n",
    "\n",
    "![](../figuras/mt_2.png)"
   ]
  },
  {
   "cell_type": "markdown",
   "metadata": {
    "slideshow": {
     "slide_type": "slide"
    }
   },
   "source": [
    "### Ejemplo 2: Reconocer el Lenguaje $0^n1^n$\n",
    "\n",
    "- Para una *Máquina de Turing* que acepta $\\{0^n1^n\\}$, empareje los $0$ y $1$, borre repetidamente el primer $0$ y el último $1$ hasta alcanzar $\\epsilon$. En pseudocódigo:\n",
    "```\n",
    "    1. Si SimboloCabezal = 0, entonces Escribir  de lo contrario Rechazar.\n",
    "    2. Mueva el cabezal hacia la derecha hasta SimboloCabezal = Δ.\n",
    "    3. Mueva el cabezal hacia la izquierda.\n",
    "    4. Si SimboloCabezal = 1, entonces Escribir Δ de lo contrario Rechazar.\n",
    "    5. Mueva el cabezal hacia la izquierda hasta SimboloCabezal = Δ.\n",
    "    6. Mueva el cabeza hacia la derecha.\n",
    "    7. Si SimboloCabezal = Δ, entonces Aceptar.\n",
    "    8. Ir a 1.\n",
    "    ```"
   ]
  },
  {
   "cell_type": "markdown",
   "metadata": {
    "slideshow": {
     "slide_type": "slide"
    }
   },
   "source": [
    "### Diagrama\n",
    "\n",
    "![](../figuras/mt_3.png)"
   ]
  },
  {
   "cell_type": "markdown",
   "metadata": {
    "slideshow": {
     "slide_type": "slide"
    }
   },
   "source": [
    "### Ejemplo 3: Reconocer Paréntesis Balanceados\n",
    "\n",
    "- Una *Máquina de Turing* para paréntesis balanceados, una idea es encontrar el par de paréntesis más interno, borrarlos y repetir el proceso. Usamos # para indicar un paréntesis borrado.\n",
    "\n",
    "![](../figuras/mt_4.png)"
   ]
  },
  {
   "cell_type": "markdown",
   "metadata": {
    "slideshow": {
     "slide_type": "slide"
    }
   },
   "source": [
    "### Ejemplo 4: Palíndromes\n",
    "\n",
    "Para palíndromos de longitud par, combinamos el primer y el último símbolo y borramos; luego repetimos. Si se alcanza $\\epsilon$ sin discordancia, entonces la cadena era un palíndromo.\n",
    "\n",
    "![](../figuras/mt_5.png)"
   ]
  },
  {
   "cell_type": "markdown",
   "metadata": {
    "slideshow": {
     "slide_type": "slide"
    }
   },
   "source": [
    "## Máquinas de Turing como aceptadores de lenguajes\n",
    "\n",
    "- Sea $M = (Q, A, C, \\delta, q_0, \\beta, F)$ una Máquina de Turing.\n",
    "- El lenguaje aceptado por $M$ se define como:\n",
    "\n",
    "$$L(M) = \\{w \\in A^* | (q_0, az(=w)) \\to^* (p, xby), \\\\\n",
    "para \\hspace{0.25 cm} p \\in F, \\hspace{0.25 cm} x,y,z \\in C^*\\}$$\n",
    "\n",
    "- Diremos, por tanto, que $w$ es aceptada por la Máquina de Turing $M$, si después de una secuencia de movimientos, la máquina de Turing llega a un estado final y para."
   ]
  },
  {
   "cell_type": "markdown",
   "metadata": {
    "slideshow": {
     "slide_type": "slide"
    }
   },
   "source": [
    "## Cálculos con una Máquina de Turing \n",
    "\n",
    "- Las máquinas de Turing también se pueden usar para calcular valores\n",
    "    - Como cálculos aritméticos\n",
    "    - Por ejemplo, suma, resta, multiplicación, etc."
   ]
  },
  {
   "cell_type": "markdown",
   "metadata": {
    "slideshow": {
     "slide_type": "slide"
    }
   },
   "source": [
    "### Ejemplo 5: Calcular Bit de Paridad\n",
    "\n",
    "![](../figuras/bit_paridad.png)"
   ]
  },
  {
   "cell_type": "markdown",
   "metadata": {
    "slideshow": {
     "slide_type": "slide"
    }
   },
   "source": [
    "### Ejemplo 6: Sumar números\n",
    "\n",
    "- Un número se representa en formato binario, por ejemplo 5 se representa como (101), pero en caso de  las máquinas de Turing se utiliza un formato unario. En formato unario, un número está representado por todos unos o todos ceros. Por ejemplo, 5 estará representado por una secuencia de cinco ceros o cinco unos. $5 = 1 1 1 1 1$ o $ 0 0 0 0 0$. Vamos a usar ceros para la representación.\n",
    "\n",
    "- Para sumar 2 números usando una máquina de Turing, estos dos números se dan como entrada a la máquina de Turing separados por una \"$c$\"."
   ]
  },
  {
   "cell_type": "markdown",
   "metadata": {
    "slideshow": {
     "slide_type": "slide"
    }
   },
   "source": [
    "```\n",
    "Entrada  :  0 0 c 0 0 0      // 2 + 3\n",
    "Salida   :  0 0 0 0 0        // 5\n",
    " \n",
    "Entrada  :  0 0 0 0 c 0 0 0  // 4 + 3\n",
    "Salida   :  0 0 0 0 0 0 0    // 7\n",
    "```"
   ]
  },
  {
   "cell_type": "markdown",
   "metadata": {
    "slideshow": {
     "slide_type": "slide"
    }
   },
   "source": [
    "![](../figuras/suma_unaria.png)"
   ]
  },
  {
   "cell_type": "markdown",
   "metadata": {
    "slideshow": {
     "slide_type": "slide"
    }
   },
   "source": [
    "## Funciones computables de Turing\n",
    "\n",
    "- Una función $f$ que convierte cadenas en cadenas es Turing-computable si alguna máquina de Turing $M$ la calcula.\n",
    "- Es decir, $M$ siempre se detiene, y para la entrada $w$, $M$ se detiene con $f (w)$ en su cinta."
   ]
  },
  {
   "cell_type": "markdown",
   "metadata": {
    "slideshow": {
     "slide_type": "slide"
    }
   },
   "source": [
    "## Variaciones de las Máquinas de Turing\n",
    "\n",
    "- La definición de una máquina de Turing es robusta: muchas variaciones no alteran su potencia.\n",
    "- La idea general es: si se agrega capacidad, entonces demuestre que la Máquina de Turing estándar puede simularla; si se elimina la capacidad, demuestre que la Máquina de Turing resultante puede simular una estándar."
   ]
  },
  {
   "cell_type": "markdown",
   "metadata": {
    "slideshow": {
     "slide_type": "subslide"
    }
   },
   "source": [
    "- Máquinas de Turing con almacenamiento\n",
    "- Máquinas de Turing multipista\n",
    "- Máquinas de Turing multi-cinta\n",
    "- Máquinas de Turing no deterministas"
   ]
  },
  {
   "cell_type": "markdown",
   "metadata": {
    "slideshow": {
     "slide_type": "slide"
    }
   },
   "source": [
    "## Máquina de Turing no Determinista\n",
    "\n",
    "- El no determinismo significa que la Máquina de Turing puede tener más de una opción de acción. Como de costumbre, una Máquina de Turing no determinista (o NMT) acepta una cadena si alguna elección de acciones conduce al estado de aceptación.\n",
    "- **Teorema**. Una Máquina de Turing no determinista tiene el mismo poder que una Máquina de Turing estándar."
   ]
  },
  {
   "cell_type": "markdown",
   "metadata": {
    "slideshow": {
     "slide_type": "slide"
    }
   },
   "source": [
    "## Tesis de Church-Turing\n",
    "\n",
    "- Se han propuesto varios modelos de computación a lo largo de los años, pero tienen exactamente el mismo poder que un Máquina de Turing como reconocedores:\n",
    "- La \"tesis\" de Church-Turing es la creencia/afirmación de que el modelo es apropiado y tiene todo el poder de cualquier computadora que podamos construir.\n",
    "- **Tesis de Church-Turing**. Hay un \"*procedimiento efectivo*\" para un problema si y solo si hay una máquina de Turing para el problema."
   ]
  },
  {
   "cell_type": "markdown",
   "metadata": {
    "slideshow": {
     "slide_type": "subslide"
    }
   },
   "source": [
    "- Cualquier cálculo mecánico puede ser realizado por una máquina de Turing\n",
    "- Hay una máquina de Turing correspondiente a cada problema computable\n",
    "- Podemos modelar cualquier computadora mecánica con una máquina de Turing\n",
    "- El conjunto de lenguajes que puede decidir una máquina de Turing es idéntico al conjunto de lenguajes que puede decidir cualquier máquina de computación mecánica.\n",
    "- Si no hay una máquina de Turing que decida el problema $P$, no hay un algoritmo que resuelva el problema $P$."
   ]
  },
  {
   "cell_type": "markdown",
   "metadata": {
    "slideshow": {
     "slide_type": "slide"
    }
   },
   "source": [
    "## Máquina de Turing Universal\n",
    "\n",
    "- Una máquina de Turing universal es una máquina de Turing que toma otra máquina de Turing como entrada. Para esto, uno necesita especificar una codificación de una máquina de Turing. Las máquinas universales de Turing han sido diseñadas con sorprendentemente pocos estados."
   ]
  }
 ],
 "metadata": {
  "celltoolbar": "Slideshow",
  "kernelspec": {
   "display_name": "Python 3",
   "language": "python",
   "name": "python3"
  },
  "language_info": {
   "codemirror_mode": {
    "name": "ipython",
    "version": 3
   },
   "file_extension": ".py",
   "mimetype": "text/x-python",
   "name": "python",
   "nbconvert_exporter": "python",
   "pygments_lexer": "ipython3",
   "version": "3.7.6"
  }
 },
 "nbformat": 4,
 "nbformat_minor": 4
}
