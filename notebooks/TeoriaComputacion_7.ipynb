{
 "cells": [
  {
   "cell_type": "markdown",
   "metadata": {
    "slideshow": {
     "slide_type": "slide"
    }
   },
   "source": [
    "<center>\n",
    "    <h1>Teoría de la Computación</h1>\n",
    "    <h1>Autómatas con Pila</h1>\n",
    "    <h1></h1>\n",
    "    <h5>Prof. Wladimir Rodriguez</h5>\n",
    "    <h5>wladimir.rodriguez@outlook.com</h5>\n",
    "    <h5>Departamento de Computación</h5>\n",
    "</center>"
   ]
  },
  {
   "cell_type": "markdown",
   "metadata": {
    "slideshow": {
     "slide_type": "slide"
    }
   },
   "source": [
    "## Contenido\n",
    "\n",
    "- Autómatas con Pila: definición.\n",
    "- Criterios de aceptación.\n",
    "- Autómatas con pila deterministas.\n",
    "- Lenguajes independientes del contexto deterministas.\n",
    "- Equivalencia de autómatas y gramáticas."
   ]
  },
  {
   "cell_type": "markdown",
   "metadata": {
    "slideshow": {
     "slide_type": "slide"
    }
   },
   "source": [
    "## Autómatas con Pila\n",
    "\n",
    "- Un autómata con pila no determinista (APND) es una septupla $(Q, A, B, \\delta, q_0, Z_0, F)$ en la que\n",
    "    - $Q$ es un conjunto finito de estados\n",
    "    - $A$ es un alfabeto de entrada\n",
    "    - $B$ es un alfabeto para la pila\n",
    "    - $\\delta$ es la función de transición\n",
    "    $$\\delta : Q \\times (A \\cup \\{\\epsilon\\}) \\times B \\to ζ(Q \\times B^*)$$\n",
    "    - $q_0$ es el estado inicial\n",
    "    - $Z_0$ es el símbolo inicial de la pila\n",
    "    - $F$ es el conjunto de estados finales"
   ]
  },
  {
   "cell_type": "markdown",
   "metadata": {
    "slideshow": {
     "slide_type": "slide"
    }
   },
   "source": [
    "## Ejemplo\n",
    "\n",
    "- $M = (\\{q_1, q_2\\}, \\{0, 1, c\\}, \\{R, B, G\\}, \\delta, q_1, R, \\emptyset)$\n",
    "\n",
    "$$\\delta(q_1, 0, R) = \\{(q_1, BR)\\} \\hspace{1 cm} \\delta(q_1, 1, R) = \\{(q_1, GR)\\} \\\\\n",
    "\\delta(q_1, 0, B) = \\{(q_1, BB)\\} \\hspace{1 cm} \\delta(q_1, 1, B) = \\{(q_1, GB)\\} \\\\\n",
    "\\delta(q_1, 0, G) = \\{(q_1, BG)\\} \\hspace{1 cm} \\delta(q_1, 1, G) = \\{(q_1, GG)\\} \\\\\n",
    "\\delta(q_1, c, R) = \\{(q_2, R)\\} \\hspace{1 cm} \\delta(q_1, c, B) = \\{(q_2, B)\\} \\\\\n",
    "\\delta(q_1, c, G) = \\{(q_2, G)\\} \\hspace{1 cm} \\delta(q_2, 0, B) = \\{(q_2, \\epsilon)\\} \\\\\n",
    "\\delta(q_2, 1, G) = \\{(q_2, \\epsilon)\\} \\hspace{1 cm} \\delta(q_2, \\epsilon, R) = \\{(q_2, \\epsilon)\\}$$"
   ]
  },
  {
   "cell_type": "markdown",
   "metadata": {
    "slideshow": {
     "slide_type": "slide"
    }
   },
   "source": [
    "- $M = (\\{q_1, q_2\\}, \\{0, 1, c\\}, \\{R, B, G\\}, \\delta, q_1, R, \\emptyset)$\n",
    "\n",
    "$$\\delta(q_1, 0, R) = \\{(q_1, BR)\\} \\hspace{1 cm} \\delta(q_1, 1, R) = \\{(q_1, GR)\\} \\\\\n",
    "\\delta(q_1, 0, B) = \\{(q_1, BB)\\} \\hspace{1 cm} \\delta(q_1, 1, B) = \\{(q_1, GB)\\} \\\\\n",
    "\\delta(q_1, 0, G) = \\{(q_1, BG)\\} \\hspace{1 cm} \\delta(q_1, 1, G) = \\{(q_1, GG)\\} \\\\\n",
    "\\delta(q_1, c, R) = \\{(q_2, R)\\} \\hspace{1 cm} \\delta(q_1, c, B) = \\{(q_2, B)\\} \\\\\n",
    "\\delta(q_1, c, G) = \\{(q_2, G)\\} \\hspace{1 cm} \\delta(q_2, 0, B) = \\{(q_2, \\epsilon)\\} \\\\\n",
    "\\delta(q_2, 1, G) = \\{(q_2, \\epsilon)\\} \\hspace{1 cm} \\delta(q_2, \\epsilon, R) = \\{(q_2, \\epsilon)\\}$$\n",
    "\n",
    "![](../figuras/automata_pila_1.png)"
   ]
  },
  {
   "cell_type": "markdown",
   "metadata": {
    "slideshow": {
     "slide_type": "slide"
    }
   },
   "source": [
    "- $M = (\\{q_1, q_2\\}, \\{0, 1, c\\}, \\{R, B, G\\}, \\delta, q_1, R, \\emptyset)$\n",
    "\n",
    "$$\\delta(q_1, 0, R) = \\{(q_1, BR)\\} \\hspace{1 cm} \\delta(q_1, 1, R) = \\{(q_1, GR)\\} \\\\\n",
    "\\delta(q_1, 0, B) = \\{(q_1, BB)\\} \\hspace{1 cm} \\delta(q_1, 1, B) = \\{(q_1, GB)\\} \\\\\n",
    "\\delta(q_1, 0, G) = \\{(q_1, BG)\\} \\hspace{1 cm} \\delta(q_1, 1, G) = \\{(q_1, GG)\\} \\\\\n",
    "\\delta(q_1, c, R) = \\{(q_2, R)\\} \\hspace{1 cm} \\delta(q_1, c, B) = \\{(q_2, B)\\} \\\\\n",
    "\\delta(q_1, c, G) = \\{(q_2, G)\\} \\hspace{1 cm} \\delta(q_2, 0, B) = \\{(q_2, \\epsilon)\\} \\\\\n",
    "\\delta(q_2, 1, G) = \\{(q_2, \\epsilon)\\} \\hspace{1 cm} \\delta(q_2, \\epsilon, R) = \\{(q_2, \\epsilon)\\}$$\n",
    "\n",
    "![](../figuras/automata_pila_2.png)"
   ]
  },
  {
   "cell_type": "markdown",
   "metadata": {
    "slideshow": {
     "slide_type": "slide"
    }
   },
   "source": [
    "- $M = (\\{q_1, q_2\\}, \\{0, 1, c\\}, \\{R, B, G\\}, \\delta, q_1, R, \\emptyset)$\n",
    "\n",
    "$$\\delta(q_1, 0, R) = \\{(q_1, BR)\\} \\hspace{1 cm} \\delta(q_1, 1, R) = \\{(q_1, GR)\\} \\\\\n",
    "\\delta(q_1, 0, B) = \\{(q_1, BB)\\} \\hspace{1 cm} \\delta(q_1, 1, B) = \\{(q_1, GB)\\} \\\\\n",
    "\\delta(q_1, 0, G) = \\{(q_1, BG)\\} \\hspace{1 cm} \\delta(q_1, 1, G) = \\{(q_1, GG)\\} \\\\\n",
    "\\delta(q_1, c, R) = \\{(q_2, R)\\} \\hspace{1 cm} \\delta(q_1, c, B) = \\{(q_2, B)\\} \\\\\n",
    "\\delta(q_1, c, G) = \\{(q_2, G)\\} \\hspace{1 cm} \\delta(q_2, 0, B) = \\{(q_2, \\epsilon)\\} \\\\\n",
    "\\delta(q_2, 1, G) = \\{(q_2, \\epsilon)\\} \\hspace{1 cm} \\delta(q_2, \\epsilon, R) = \\{(q_2, \\epsilon)\\}$$\n",
    "\n",
    "![](../figuras/automata_pila_3.png)"
   ]
  },
  {
   "cell_type": "markdown",
   "metadata": {
    "slideshow": {
     "slide_type": "slide"
    }
   },
   "source": [
    "- $M = (\\{q_1, q_2\\}, \\{0, 1, c\\}, \\{R, B, G\\}, \\delta, q_1, R, \\emptyset)$\n",
    "\n",
    "$$\\delta(q_1, 0, R) = \\{(q_1, BR)\\} \\hspace{1 cm} \\delta(q_1, 1, R) = \\{(q_1, GR)\\} \\\\\n",
    "\\delta(q_1, 0, B) = \\{(q_1, BB)\\} \\hspace{1 cm} \\delta(q_1, 1, B) = \\{(q_1, GB)\\} \\\\\n",
    "\\delta(q_1, 0, G) = \\{(q_1, BG)\\} \\hspace{1 cm} \\delta(q_1, 1, G) = \\{(q_1, GG)\\} \\\\\n",
    "\\delta(q_1, c, R) = \\{(q_2, R)\\} \\hspace{1 cm} \\delta(q_1, c, B) = \\{(q_2, B)\\} \\\\\n",
    "\\delta(q_1, c, G) = \\{(q_2, G)\\} \\hspace{1 cm} \\delta(q_2, 0, B) = \\{(q_2, \\epsilon)\\} \\\\\n",
    "\\delta(q_2, 1, G) = \\{(q_2, \\epsilon)\\} \\hspace{1 cm} \\delta(q_2, \\epsilon, R) = \\{(q_2, \\epsilon)\\}$$\n",
    "\n",
    "![](../figuras/automata_pila_4.png)"
   ]
  },
  {
   "cell_type": "markdown",
   "metadata": {
    "slideshow": {
     "slide_type": "slide"
    }
   },
   "source": [
    "- $M = (\\{q_1, q_2\\}, \\{0, 1, c\\}, \\{R, B, G\\}, \\delta, q_1, R, \\emptyset)$\n",
    "\n",
    "$$\\delta(q_1, 0, R) = \\{(q_1, BR)\\} \\hspace{1 cm} \\delta(q_1, 1, R) = \\{(q_1, GR)\\} \\\\\n",
    "\\delta(q_1, 0, B) = \\{(q_1, BB)\\} \\hspace{1 cm} \\delta(q_1, 1, B) = \\{(q_1, GB)\\} \\\\\n",
    "\\delta(q_1, 0, G) = \\{(q_1, BG)\\} \\hspace{1 cm} \\delta(q_1, 1, G) = \\{(q_1, GG)\\} \\\\\n",
    "\\delta(q_1, c, R) = \\{(q_2, R)\\} \\hspace{1 cm} \\delta(q_1, c, B) = \\{(q_2, B)\\} \\\\\n",
    "\\delta(q_1, c, G) = \\{(q_2, G)\\} \\hspace{1 cm} \\delta(q_2, 0, B) = \\{(q_2, \\epsilon)\\} \\\\\n",
    "\\delta(q_2, 1, G) = \\{(q_2, \\epsilon)\\} \\hspace{1 cm} \\delta(q_2, \\epsilon, R) = \\{(q_2, \\epsilon)\\}$$\n",
    "\n",
    "![](../figuras/automata_pila_5.png)"
   ]
  },
  {
   "cell_type": "markdown",
   "metadata": {
    "slideshow": {
     "slide_type": "slide"
    }
   },
   "source": [
    "- $M = (\\{q_1, q_2\\}, \\{0, 1, c\\}, \\{R, B, G\\}, \\delta, q_1, R, \\emptyset)$\n",
    "\n",
    "$$\\delta(q_1, 0, R) = \\{(q_1, BR)\\} \\hspace{1 cm} \\delta(q_1, 1, R) = \\{(q_1, GR)\\} \\\\\n",
    "\\delta(q_1, 0, B) = \\{(q_1, BB)\\} \\hspace{1 cm} \\delta(q_1, 1, B) = \\{(q_1, GB)\\} \\\\\n",
    "\\delta(q_1, 0, G) = \\{(q_1, BG)\\} \\hspace{1 cm} \\delta(q_1, 1, G) = \\{(q_1, GG)\\} \\\\\n",
    "\\delta(q_1, c, R) = \\{(q_2, R)\\} \\hspace{1 cm} \\delta(q_1, c, B) = \\{(q_2, B)\\} \\\\\n",
    "\\delta(q_1, c, G) = \\{(q_2, G)\\} \\hspace{1 cm} \\delta(q_2, 0, B) = \\{(q_2, \\epsilon)\\} \\\\\n",
    "\\delta(q_2, 1, G) = \\{(q_2, \\epsilon)\\} \\hspace{1 cm} \\delta(q_2, \\epsilon, R) = \\{(q_2, \\epsilon)\\}$$\n",
    "\n",
    "![](../figuras/automata_pila_6.png)"
   ]
  },
  {
   "cell_type": "markdown",
   "metadata": {
    "slideshow": {
     "slide_type": "slide"
    }
   },
   "source": [
    "- $M = (\\{q_1, q_2\\}, \\{0, 1, c\\}, \\{R, B, G\\}, \\delta, q_1, R, \\emptyset)$\n",
    "\n",
    "$$\\delta(q_1, 0, R) = \\{(q_1, BR)\\} \\hspace{1 cm} \\delta(q_1, 1, R) = \\{(q_1, GR)\\} \\\\\n",
    "\\delta(q_1, 0, B) = \\{(q_1, BB)\\} \\hspace{1 cm} \\delta(q_1, 1, B) = \\{(q_1, GB)\\} \\\\\n",
    "\\delta(q_1, 0, G) = \\{(q_1, BG)\\} \\hspace{1 cm} \\delta(q_1, 1, G) = \\{(q_1, GG)\\} \\\\\n",
    "\\delta(q_1, c, R) = \\{(q_2, R)\\} \\hspace{1 cm} \\delta(q_1, c, B) = \\{(q_2, B)\\} \\\\\n",
    "\\delta(q_1, c, G) = \\{(q_2, G)\\} \\hspace{1 cm} \\delta(q_2, 0, B) = \\{(q_2, \\epsilon)\\} \\\\\n",
    "\\delta(q_2, 1, G) = \\{(q_2, \\epsilon)\\} \\hspace{1 cm} \\delta(q_2, \\epsilon, R) = \\{(q_2, \\epsilon)\\}$$\n",
    "\n",
    "![](../figuras/automata_pila_7.png)"
   ]
  },
  {
   "cell_type": "markdown",
   "metadata": {
    "slideshow": {
     "slide_type": "slide"
    }
   },
   "source": [
    "- $M = (\\{q_1, q_2\\}, \\{0, 1, c\\}, \\{R, B, G\\}, \\delta, q_1, R, \\emptyset)$\n",
    "\n",
    "$$\\delta(q_1, 0, R) = \\{(q_1, BR)\\} \\hspace{1 cm} \\delta(q_1, 1, R) = \\{(q_1, GR)\\} \\\\\n",
    "\\delta(q_1, 0, B) = \\{(q_1, BB)\\} \\hspace{1 cm} \\delta(q_1, 1, B) = \\{(q_1, GB)\\} \\\\\n",
    "\\delta(q_1, 0, G) = \\{(q_1, BG)\\} \\hspace{1 cm} \\delta(q_1, 1, G) = \\{(q_1, GG)\\} \\\\\n",
    "\\delta(q_1, c, R) = \\{(q_2, R)\\} \\hspace{1 cm} \\delta(q_1, c, B) = \\{(q_2, B)\\} \\\\\n",
    "\\delta(q_1, c, G) = \\{(q_2, G)\\} \\hspace{1 cm} \\delta(q_2, 0, B) = \\{(q_2, \\epsilon)\\} \\\\\n",
    "\\delta(q_2, 1, G) = \\{(q_2, \\epsilon)\\} \\hspace{1 cm} \\delta(q_2, \\epsilon, R) = \\{(q_2, \\epsilon)\\}$$\n",
    "\n",
    "![](../figuras/automata_pila_8.png)"
   ]
  },
  {
   "cell_type": "markdown",
   "metadata": {
    "slideshow": {
     "slide_type": "slide"
    }
   },
   "source": [
    "- $M = (\\{q_1, q_2\\}, \\{0, 1, c\\}, \\{R, B, G\\}, \\delta, q_1, R, \\emptyset)$\n",
    "\n",
    "$$\\delta(q_1, 0, R) = \\{(q_1, BR)\\} \\hspace{1 cm} \\delta(q_1, 1, R) = \\{(q_1, GR)\\} \\\\\n",
    "\\delta(q_1, 0, B) = \\{(q_1, BB)\\} \\hspace{1 cm} \\delta(q_1, 1, B) = \\{(q_1, GB)\\} \\\\\n",
    "\\delta(q_1, 0, G) = \\{(q_1, BG)\\} \\hspace{1 cm} \\delta(q_1, 1, G) = \\{(q_1, GG)\\} \\\\\n",
    "\\delta(q_1, c, R) = \\{(q_2, R)\\} \\hspace{1 cm} \\delta(q_1, c, B) = \\{(q_2, B)\\} \\\\\n",
    "\\delta(q_1, c, G) = \\{(q_2, G)\\} \\hspace{1 cm} \\delta(q_2, 0, B) = \\{(q_2, \\epsilon)\\} \\\\\n",
    "\\delta(q_2, 1, G) = \\{(q_2, \\epsilon)\\} \\hspace{1 cm} \\delta(q_2, \\epsilon, R) = \\{(q_2, \\epsilon)\\}$$\n",
    "\n",
    "![](../figuras/automata_pila_9.png)"
   ]
  },
  {
   "cell_type": "markdown",
   "metadata": {
    "slideshow": {
     "slide_type": "slide"
    }
   },
   "source": [
    "- $M = (\\{q_1, q_2\\}, \\{0, 1, c\\}, \\{R, B, G\\}, \\delta, q_1, R, \\emptyset)$\n",
    "\n",
    "$$\\delta(q_1, 0, R) = \\{(q_1, BR)\\} \\hspace{1 cm} \\delta(q_1, 1, R) = \\{(q_1, GR)\\} \\\\\n",
    "\\delta(q_1, 0, B) = \\{(q_1, BB)\\} \\hspace{1 cm} \\delta(q_1, 1, B) = \\{(q_1, GB)\\} \\\\\n",
    "\\delta(q_1, 0, G) = \\{(q_1, BG)\\} \\hspace{1 cm} \\delta(q_1, 1, G) = \\{(q_1, GG)\\} \\\\\n",
    "\\delta(q_1, c, R) = \\{(q_2, R)\\} \\hspace{1 cm} \\delta(q_1, c, B) = \\{(q_2, B)\\} \\\\\n",
    "\\delta(q_1, c, G) = \\{(q_2, G)\\} \\hspace{1 cm} \\delta(q_2, 0, B) = \\{(q_2, \\epsilon)\\} \\\\\n",
    "\\delta(q_2, 1, G) = \\{(q_2, \\epsilon)\\} \\hspace{1 cm} \\delta(q_2, \\epsilon, R) = \\{(q_2, \\epsilon)\\}$$\n",
    "\n",
    "![](../figuras/automata_pila_10.png)"
   ]
  },
  {
   "cell_type": "markdown",
   "metadata": {
    "slideshow": {
     "slide_type": "slide"
    }
   },
   "source": [
    "- $M = (\\{q_1, q_2\\}, \\{0, 1, c\\}, \\{R, B, G\\}, \\delta, q_1, R, \\emptyset)$\n",
    "\n",
    "$$\\delta(q_1, 0, R) = \\{(q_1, BR)\\} \\hspace{1 cm} \\delta(q_1, 1, R) = \\{(q_1, GR)\\} \\\\\n",
    "\\delta(q_1, 0, B) = \\{(q_1, BB)\\} \\hspace{1 cm} \\delta(q_1, 1, B) = \\{(q_1, GB)\\} \\\\\n",
    "\\delta(q_1, 0, G) = \\{(q_1, BG)\\} \\hspace{1 cm} \\delta(q_1, 1, G) = \\{(q_1, GG)\\} \\\\\n",
    "\\delta(q_1, c, R) = \\{(q_2, R)\\} \\hspace{1 cm} \\delta(q_1, c, B) = \\{(q_2, B)\\} \\\\\n",
    "\\delta(q_1, c, G) = \\{(q_2, G)\\} \\hspace{1 cm} \\delta(q_2, 0, B) = \\{(q_2, \\epsilon)\\} \\\\\n",
    "\\delta(q_2, 1, G) = \\{(q_2, \\epsilon)\\} \\hspace{1 cm} \\delta(q_2, \\epsilon, R) = \\{(q_2, \\epsilon)\\}$$\n",
    "\n",
    "![](../figuras/automata_pila_11.png)"
   ]
  },
  {
   "cell_type": "markdown",
   "metadata": {
    "slideshow": {
     "slide_type": "slide"
    }
   },
   "source": [
    "- $M = (\\{q_1, q_2\\}, \\{0, 1, c\\}, \\{R, B, G\\}, \\delta, q_1, R, \\emptyset)$\n",
    "\n",
    "$$\\delta(q_1, 0, R) = \\{(q_1, BR)\\} \\hspace{1 cm} \\delta(q_1, 1, R) = \\{(q_1, GR)\\} \\\\\n",
    "\\delta(q_1, 0, B) = \\{(q_1, BB)\\} \\hspace{1 cm} \\delta(q_1, 1, B) = \\{(q_1, GB)\\} \\\\\n",
    "\\delta(q_1, 0, G) = \\{(q_1, BG)\\} \\hspace{1 cm} \\delta(q_1, 1, G) = \\{(q_1, GG)\\} \\\\\n",
    "\\delta(q_1, c, R) = \\{(q_2, R)\\} \\hspace{1 cm} \\delta(q_1, c, B) = \\{(q_2, B)\\} \\\\\n",
    "\\delta(q_1, c, G) = \\{(q_2, G)\\} \\hspace{1 cm} \\delta(q_2, 0, B) = \\{(q_2, \\epsilon)\\} \\\\\n",
    "\\delta(q_2, 1, G) = \\{(q_2, \\epsilon)\\} \\hspace{1 cm} \\delta(q_2, \\epsilon, R) = \\{(q_2, \\epsilon)\\}$$\n",
    "\n",
    "![](../figuras/automata_pila_12.png)"
   ]
  },
  {
   "cell_type": "markdown",
   "metadata": {
    "slideshow": {
     "slide_type": "slide"
    }
   },
   "source": [
    "## Lenguaje Aceptado\n",
    "\n",
    "- Se llama descripción instantánea o configuración de un autómata con pila a una tripleta\n",
    "\n",
    "$$(q, u, \\alpha) \\in Q \\times A^* \\times B^*$$  \n",
    "\n",
    "- en la que $q$ es el estado en el se encuentra el autómata, $u$ es la parte de la cadena de entrada que queda por leer y $\\alpha$ el contenido de la pila (el primer símbolo es el tope de la pila)."
   ]
  },
  {
   "cell_type": "markdown",
   "metadata": {
    "slideshow": {
     "slide_type": "subslide"
    }
   },
   "source": [
    "- Se dice que de la configuración $(q, au, Z\\alpha)$ se puede llegar mediante un paso de cálculo a la configuración $(p, u, \\beta \\alpha)$ y se escribe $(q, au, Z\\alpha) \\vdash (p, u, \\beta \\alpha)$ si y solo si $(p, \\beta) \\in \\delta(q, a, Z)$ donde a puede ser cualquier símbolo de entrada o la cadena vacía"
   ]
  },
  {
   "cell_type": "markdown",
   "metadata": {
    "slideshow": {
     "slide_type": "subslide"
    }
   },
   "source": [
    "- Si $C_1$ y $C_2$ son dos configuraciones, se dice que se puede llegar de $C_1$ a $C_2$ mediante una sucesión de pasos de cálculo y se escribe $C_1 \\vdash^* C_2$ si y solo si existe una sucesión de configuraciones $T_1, \\cdots, T_n$ tales que\n",
    "\n",
    "$$C_1 = T_1 \\vdash  T_2 \\vdash \\cdots \\vdash T_{n-1} \\vdash T_n = C_2$$\n",
    "\n",
    "- Si $M$ es un $APND$ y $u \\in A$ se llama configuración inicial correspondiente a esta entrada a $(q_0, u, Z_0)$ donde $q_0$ es el estado inicial y $Z_0$ el símbolo inicial de la pila"
   ]
  },
  {
   "cell_type": "markdown",
   "metadata": {
    "slideshow": {
     "slide_type": "subslide"
    }
   },
   "source": [
    "- En el caso del autómata con pila del ejemplo anterior tenemos\n",
    "\n",
    "$$(q_1, 011c110, R) \\vdash (q_1, 11c110, BR) \\\\\n",
    "\\vdash (q_1, 1c110, GBR) \\vdash (q_1, c110, GGBR) \\\\\n",
    "\\vdash (q_2, 110, GGBR) \\vdash (q_2, 10, GBR) \\vdash (q_2, 0, BR) \\\\\n",
    "\\vdash (q_2, \\epsilon, R) \\vdash (q_2, \\epsilon, \\epsilon)$$"
   ]
  },
  {
   "cell_type": "markdown",
   "metadata": {
    "slideshow": {
     "slide_type": "subslide"
    }
   },
   "source": [
    "- Existen dos criterios para determinar el lenguaje aceptado por un APND:\n",
    "    - Lenguaje aceptado por estados finales\n",
    "$$L(M) = \\{w \\in A^* : (q_0, w, Z_0) \\vdash^* (p, \\epsilon, \\Upsilon), p \\in F, \\Upsilon \\in B^*\\}$$\n",
    "    - Lenguaje aceptado por la pila vacía\n",
    "$$N(M) = \\{w \\in A^* : (q_0, w, Z_0) \\vdash^* (p, \\epsilon, \\epsilon), p \\in Q\\}$$"
   ]
  },
  {
   "cell_type": "markdown",
   "metadata": {
    "slideshow": {
     "slide_type": "slide"
    }
   },
   "source": [
    "## Construir Autómatas con Pila\n",
    "\n",
    "$$L = \\{0^i1^i : i \\ge 0\\} \\hspace{0.5 cm} \\text{por pila vacía}$$\n",
    "- $M = (\\{q_1, q_2\\}, \\{0, 1\\}, \\{R, X\\}, \\delta, q_1, R, \\emptyset)$\n",
    "    - $\\delta(q_1, 0, R) = \\{(q_1, XR)\\}$\n",
    "    - $\\delta(q_1, 0, X) = \\{(q_1, XX)\\}$\n",
    "    - $\\delta(q_1, \\epsilon, R) = \\{(q_1, \\epsilon)\\}$\n",
    "    - $\\delta(q_1, 1, X) = \\{(q_2, \\epsilon)\\}$\n",
    "    - $\\delta(q_2, 1, X) = \\{(q_2, \\epsilon)\\}$\n",
    "    - $\\delta(q_2, \\epsilon, R) = \\{(q_1, \\epsilon)\\}$"
   ]
  },
  {
   "cell_type": "markdown",
   "metadata": {
    "slideshow": {
     "slide_type": "slide"
    }
   },
   "source": [
    "$$L = \\{0^i1^i : i \\ge 0\\} \\hspace{0.5 cm} \\text{por estados finales}$$\n",
    "- $M = (\\{q_1, q_2, q_3\\}, \\{0, 1\\}, \\{R, X\\}, \\delta, q_1, R, \\{q_3\\})$\n",
    "    - $\\delta(q_1, 0, R) = \\{(q_1, XR)\\}$\n",
    "    - $\\delta(q_1, 0, X) = \\{(q_1, XX)\\}$\n",
    "    - $\\delta(q_1, \\epsilon, R) = \\{(q_3, \\epsilon)\\}$\n",
    "    - $\\delta(q_1, 1, X) = \\{(q_2, \\epsilon)\\}$\n",
    "    - $\\delta(q_2, 1, X) = \\{(q_2, \\epsilon)\\}$\n",
    "    - $\\delta(q_2, \\epsilon, R) = \\{(q_3, \\epsilon)\\}$"
   ]
  },
  {
   "cell_type": "markdown",
   "metadata": {
    "slideshow": {
     "slide_type": "slide"
    }
   },
   "source": [
    "$$L = \\{0^i1^j : i \\ge j \\ge 0\\} \\hspace{0.5 cm} \\text{por pila vacía}$$\n",
    "- $M = (\\{q_1, q_2\\}, \\{0, 1\\}, \\{R, X\\}, \\delta, q_1, R, \\emptyset)$\n",
    "    - $\\delta(q_1, 0, R) = \\{(q_1, XR)\\}$\n",
    "    - $\\delta(q_1, 0, X) = \\{(q_1, XX)\\}$\n",
    "    - $\\delta(q_1, \\epsilon, R) = \\{(q_1, \\epsilon)\\}$\n",
    "    - $\\delta(q_1, 1, X) = \\{(q_2, \\epsilon)\\}$\n",
    "    - $\\delta(q_2, 1, X) = \\{(q_2, \\epsilon)\\}$\n",
    "    - $\\delta(q_2, \\epsilon, R) = \\{(q_2, \\epsilon)\\}$\n",
    "    - $\\delta(q_2, \\epsilon, X) = \\{(q_2, \\epsilon)\\}$"
   ]
  },
  {
   "cell_type": "markdown",
   "metadata": {
    "slideshow": {
     "slide_type": "slide"
    }
   },
   "source": [
    "$$L = \\{wcw^{-1} : w \\in \\{0, 1\\}^*\\}\\hspace{0.5 cm} \\text{por pila vacía}$$\n",
    "- $M = (\\{q_1, q_2\\}, \\{0, 1, c\\}, \\{B, R, G\\}, \\delta, q_1, R, \\emptyset)$\n",
    "    - $\\delta(q_1, 0, R) = \\{(q_1, BR)\\}$\n",
    "    - $\\delta(q_1, 0, B) = \\{(q_1, BB)\\}$\n",
    "    - $\\delta(q_1, 0, G) = \\{(q_1, BG)\\}$\n",
    "    - $\\delta(q_1, c, R) = \\{(q_2, R)\\}$\n",
    "    - $\\delta(q_1, c, G) = \\{(q_2, G)\\}$\n",
    "    - $\\delta(q_2, 1, G) = \\{(q_2, \\epsilon)\\}$\n",
    "    - $\\delta(q_1, 1, R) = \\{(q_1, GR)\\}$\n",
    "    - $\\delta(q_1, 1, B) = \\{(q_1, GB)\\}$\n",
    "    - $\\delta(q_1, 1, G) = \\{(q_1, GG)\\}$\n",
    "    - $\\delta(q_1, c, B) = \\{(q_2, B)\\}$\n",
    "    - $\\delta(q_2, 0, B) = \\{(q_2, \\epsilon)\\}$\n",
    "    - $\\delta(q_2, \\epsilon, R) = \\{(q_2, \\epsilon)\\}$\n"
   ]
  },
  {
   "cell_type": "markdown",
   "metadata": {
    "slideshow": {
     "slide_type": "slide"
    }
   },
   "source": [
    "### cantidad de 0 = cantidad de 1,  por pila vacía\n",
    "\n",
    "- $M = (\\{q_1\\}, \\{0, 1\\}, \\{R, X, Y\\}, \\delta, q_1, R, \\emptyset)$\n",
    "\n",
    "    - $\\delta(q_1, 0, R) = \\{(q_1, XR)\\}$\n",
    "    - $\\delta(q_1, 0, X) = \\{(q_1, XX)\\}$\n",
    "    - $\\delta(q_1, 1, R) = \\{(q_1, YR)\\}$\n",
    "    - $\\delta(q_1, 1, Y) = \\{(q_1, YY)\\}$\n",
    "    - $\\delta(q_1, 1, X) = \\{(q_1, \\epsilon)\\}$\n",
    "    - $\\delta(q_1, 0, Y) = \\{(q_1, \\epsilon)\\}$\n",
    "    - $\\delta(q_1, \\epsilon, R) = \\{(q_1, \\epsilon)\\}$"
   ]
  },
  {
   "cell_type": "markdown",
   "metadata": {
    "slideshow": {
     "slide_type": "slide"
    }
   },
   "source": [
    "### cantidad de 0 $\\le$ cantidad de 1,  por pila vacía\n",
    "\n",
    "- $M = (\\{q_1\\}, \\{0, 1\\}, \\{R, X, Y\\}, \\delta, q_1, R, \\emptyset)$\n",
    "    - $\\delta(q_1, 0, R) = \\{(q_1, XR)\\}$\n",
    "    - $\\delta(q_1, 0, X) = \\{(q_1, XX)\\}$\n",
    "    - $\\delta(q_1, 1, R) = \\{(q_1, YR)\\}$\n",
    "    - $\\delta(q_1, 1, Y) = \\{(q_1, YY)\\}$\n",
    "    - $\\delta(q_1, 1, X) = \\{(q_1, \\epsilon)\\}$     \n",
    "    - $\\delta(q_1, 0, Y) = \\{(q_1, \\epsilon)\\}$           \n",
    "    - $\\delta(q_1, \\epsilon, R) = \\{(q_1, \\epsilon)\\}$       \n",
    "    - $\\delta(q_1, \\epsilon, Y) = \\{(q_1, \\epsilon)\\}$"
   ]
  },
  {
   "cell_type": "markdown",
   "metadata": {
    "slideshow": {
     "slide_type": "slide"
    }
   },
   "source": [
    "## De Pila Vacía a Estado Final\n",
    "\n",
    "El conjunto de los lenguajes que son aceptados por algún autómata a pila por estado final es el mismo que el conjunto de los lenguajes que son aceptados por algún autómata a pila por vaciado de pila.\n",
    "\n",
    "![](../figuras/pila_a_final.png)"
   ]
  },
  {
   "cell_type": "markdown",
   "metadata": {
    "slideshow": {
     "slide_type": "slide"
    }
   },
   "source": [
    "## Nuevo Autómata a Pila por Estado Final\n",
    "\n",
    "- La especificación del autómata a pila por estado final $P_F$  es como sigue:\n",
    "$$P_F = ( Q \\cup \\{p_0, p_f\\},  A, B \\cup \\{X_0\\}, \\delta_f, p_0, X_0, \\{p_f\\}$$\n",
    "- Donde $\\delta_f$  es igual a $\\delta$ mas:\n",
    "    - $\\delta_f(p_0, \\epsilon, X_0) = \\{(q_0, Z_0X_0)\\}$\n",
    "    - $\\delta_f(q, \\epsilon, X_0)$ contiene $(p_f, \\epsilon)$ para todo estado $q \\in Q$"
   ]
  },
  {
   "cell_type": "markdown",
   "metadata": {
    "slideshow": {
     "slide_type": "slide"
    }
   },
   "source": [
    "## De Estado Final a Pila Vacía \n",
    "\n",
    "- Tomamos un autómata a pila $P_F$ que acepta un lenguaje $L$ por estado final, y construimos otro autómata a pila $P_N$ que acepta $L$ por pila vacía.\n",
    "\n",
    "![](../figuras/final_a_pila.png)"
   ]
  },
  {
   "cell_type": "markdown",
   "metadata": {},
   "source": [
    "## Nuevo Autómata a Pila por Pila Vacía\n",
    "\n",
    "- La especificación del autómata a pila por pila vacia $P_N$  es como sigue:\n",
    "$$P_N = ( Q \\cup \\{p_0, p\\},  A, B \\cup \\{X_0\\}, \\delta, p_0, X_0, \\emptyset)$$\n",
    "- Donde $\\delta_n$  es igual a $\\delta$ mas:\n",
    "    - $\\delta_f(p_0, \\epsilon, X_0) = \\{(q_0, Z_0X_0)\\}$\n",
    "    - Para todos los estados de aceptación $q \\in F$ y símbolos de pila $Y \\in B$ o $Y = X_0$, $\\delta_n(q, \\epsilon, Y)$ contiene $(p, \\epsilon)$\n",
    "    - Para todos los símbolos de pila $Y \\in B$ o $Y = X_0$, $\\delta_n(p, \\epsilon, Y) = \\{(p, \\epsilon)\\}$"
   ]
  },
  {
   "cell_type": "markdown",
   "metadata": {},
   "source": [
    "## De Gramática a Autómata a Pila\n",
    "\n",
    "- Dada una gramática $G = (V, T, P, S)$, construimos el autómata a pila $P$ que acepta $L(G)$ por pila vacía como sigue:\n",
    "$$P = (\\{q\\}, T, V \\cup T, \\delta, q, S)$$\n",
    "- donde la función de transición $\\delta$ se define mediante:\n",
    "    - Para cada variable $A$,  \n",
    "    $\\delta(q, \\epsilon, A) = \\{(q, \\beta)\\} ⎮ A \\in \\beta$ es una producción de $P$ }\n",
    "    - Para cada símbolo terminal $a$, $\\delta(q, a, a) = \\{(q, \\epsilon)\\}$"
   ]
  },
  {
   "cell_type": "markdown",
   "metadata": {},
   "source": [
    "## Ejemplo\n",
    "\n",
    "- Dada $G = (\\{E, I\\}, T, P, E)$, donde\n",
    "- $T = \\{+, *, (, ), a, b, 0, 1\\}$, y \n",
    "- $P$ es\n",
    "$$I \\to a ⎮ b ⎮ Ia ⎮ Ib ⎮ I0 ⎮ I1 \\\\\n",
    "E \\to I ⎮ E * E ⎮ E + E ⎮ (E)$$\n",
    "- δ es\n",
    "    - $\\delta(q, ε, I) = \\{(q, a), (q, b), (q, Ia), (q, Ib), (q, I0), (q, I1)\\}$\n",
    "    - $\\delta(q, ε, E) = \\{(q, I), (q, E * E), (q, E + E), (q, (E))\\}$\n",
    "    - $\\delta(q, a, a) = \\{(q, ε)\\}; \\hspace{0.5 cm} \\delta(q, b, b) = \\{(q, ε)\\} \\hspace{0.5 cm} \\delta(q, 0, 0) = \\{(q, ε)\\};$\n",
    "    - $\\delta(q, 1, 1) = \\{(q, ε)\\}; \\hspace{0.5 cm} \\delta(q, (, () = {(q, ε)}; \\hspace{0.5 cm} \\delta(q, ), )) = {(q, ε)}; $\n",
    "    - $\\delta(q, +, +) = \\{(q, ε)\\}; \\hspace{0.5 cm} \\delta(q, *, *) = \\{(q, ε)\\};$"
   ]
  },
  {
   "cell_type": "markdown",
   "metadata": {},
   "source": [
    "## De Autómata a Pila a Gramática\n",
    "\n",
    "- Dado un Autómata a Pila  $M = (Q, A, B, \\delta, q_0, Z_0, \\emptyset)$ cuyo lenguaje aceptado por vaciado de pila es $L(M)$ existe una Gramática de Contexo Libre $G = (V, T, P, S)$ que genera $L(M)$:\n",
    "    - Si $(p, \\epsilon) \\in \\delta(q, a, X)$, se añade la producción $[pXq] \\to a$\n",
    "    - Si $(p, \\epsilon) \\in \\delta(q, \\epsilon, X)$, se añade la producción $[pXq] \\to \\epsilon$\n",
    "    - Si $(r, Y_1Y_2 \\cdots Y_k) \\in \\delta(q, a, X)$, con $a \\in A \\cup \\{\\epsilon\\}$ y $k \\ge 1$, se añaden todas las producciones de la forma  \n",
    "$$[qXr_k] \\to a[r_1Y_1r_2][r_2Y_2r_3] \\cdots [r_{k-1}Y_kr_k] \\in P$$\n",
    "para todas las secuencias posibles $r_1, r_2, \\cdots , r_{k-1}$ de estados de $Q$.\n",
    "    - $S \\to [q_0Z_0p] \\in P$ para todo $p \\in Q$"
   ]
  },
  {
   "cell_type": "markdown",
   "metadata": {},
   "source": [
    "## Ejemplo\n",
    "\n",
    "![](../figuras/automata_gramatica.png)"
   ]
  },
  {
   "cell_type": "code",
   "execution_count": null,
   "metadata": {},
   "outputs": [],
   "source": []
  }
 ],
 "metadata": {
  "celltoolbar": "Slideshow",
  "kernelspec": {
   "display_name": "Python 3",
   "language": "python",
   "name": "python3"
  },
  "language_info": {
   "codemirror_mode": {
    "name": "ipython",
    "version": 3
   },
   "file_extension": ".py",
   "mimetype": "text/x-python",
   "name": "python",
   "nbconvert_exporter": "python",
   "pygments_lexer": "ipython3",
   "version": "3.7.6"
  }
 },
 "nbformat": 4,
 "nbformat_minor": 2
}
