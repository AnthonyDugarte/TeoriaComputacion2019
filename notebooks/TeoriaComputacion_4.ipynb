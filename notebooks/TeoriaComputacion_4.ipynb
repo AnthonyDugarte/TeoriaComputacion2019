{
 "cells": [
  {
   "cell_type": "markdown",
   "metadata": {
    "slideshow": {
     "slide_type": "slide"
    }
   },
   "source": [
    "<center>\n",
    "    <h1>Teoría de la Computación</h1>\n",
    "    <h1>Autómatas Finitos No Determinísticos</h1>\n",
    "    <h1></h1>\n",
    "    <h5>Prof. Wladimir Rodriguez</h5>\n",
    "    <h5>wladimir.rodriguez@outlook.com</h5>\n",
    "    <h5>Departamento de Computación</h5>\n",
    "</center>"
   ]
  },
  {
   "cell_type": "markdown",
   "metadata": {
    "slideshow": {
     "slide_type": "slide"
    }
   },
   "source": [
    "# Autómatas Finitos No Determinísticos\n",
    "\n",
    "- Un Autómata Finito no Determinísticos es una quíntupla $M = (Q, A, \\delta, q_0, F)$ donde\n",
    "- $Q$ es un conjunto finito llamado conjunto de estados\n",
    "- $A$ es un alfabeto llamado alfabeto de entrada\n",
    "- $\\delta$ es una aplicación llamada función de transición\n",
    "$$\\delta : Q \\times A \\to \\vartheta(Q)$$\n",
    "- $q_0$ es un elemento de $Q$ llamado estado inicial\n",
    "- $F$ es un subconjunto de $Q$, llamado estados finales"
   ]
  },
  {
   "cell_type": "markdown",
   "metadata": {
    "slideshow": {
     "slide_type": "slide"
    }
   },
   "source": [
    "La interpretación intuitiva es que ahora el autómata, ante una entrada y un estado dado, puede evolucionar a varios estados posibles (incluyendo un solo estado o ninguno si $\\delta(q,a)=\\emptyset$)."
   ]
  },
  {
   "cell_type": "markdown",
   "metadata": {
    "slideshow": {
     "slide_type": "slide"
    }
   },
   "source": [
    "### Ejemplos:\n",
    "\n",
    "- Automata finito no determinísticos que acepta el lenguaje:\n",
    "    - $L=\\{u \\in \\{a,b,c\\}^* | u=ab^ic, i \\geq 0$\n",
    "    \n",
    "![](../figuras/afnd_2.pdf)"
   ]
  },
  {
   "cell_type": "markdown",
   "metadata": {
    "slideshow": {
     "slide_type": "subslide"
    }
   },
   "source": [
    "![](../figuras/afnd_3.pdf)"
   ]
  },
  {
   "cell_type": "markdown",
   "metadata": {
    "slideshow": {
     "slide_type": "slide"
    }
   },
   "source": [
    "- Automata finito no determinísticos que reconoce la cadena $010010$\n",
    "\n",
    "\n",
    "![](../figuras/afnd_1.pdf)"
   ]
  },
  {
   "cell_type": "markdown",
   "metadata": {
    "slideshow": {
     "slide_type": "slide"
    }
   },
   "source": [
    "- Automata finito no determinísticos que reconoce constantes reales\n",
    "\n",
    "![](../figuras/afnd_4.pdf)"
   ]
  },
  {
   "cell_type": "markdown",
   "metadata": {
    "slideshow": {
     "slide_type": "slide"
    }
   },
   "source": [
    "# Proceso de Cálculo\n",
    "\n",
    "- Autómata no determinista $M = (Q, A, \\delta, q_0, F)$\n",
    "    - Descripción Instantánea o Configuración:\n",
    "    - Un elemento de $Q \\times A^*: (q, u)$\n",
    "    - Configuración Inicial para $u \\in A^*: (q_0, u)$\n",
    "    - Relación paso de cálculo entre dos configuraciones\n",
    "$$((q, u) \\vdash (p, v)) \\Leftrightarrow ((u = av) \\hspace{6 mm}y \\hspace{6 mm} p \\in \\delta(q, a))$$\n",
    "    - De una configuración sólo se puede pasar varias configuraciones distintas en un paso de cálculo, e incluso a ninguna"
   ]
  },
  {
   "cell_type": "markdown",
   "metadata": {
    "slideshow": {
     "slide_type": "subslide"
    }
   },
   "source": [
    "- Relación de cálculo entre dos configuraciones:\n",
    "- $((q, u) \\vdash^* (p, v))$ si y sólo si existe una sucesión de configuraciones $C_0, \\cdots , C_n$ tales que\n",
    "- $C_0 = (q, u), C_n = (p,v) \\hspace{6 mm}y\\hspace{6 mm} \\forall i \\leq n - 1, C_i \\vdash C_{i+1}$  \n",
    "\n",
    "- Lenguaje Aceptado por un AF no-determinista\n",
    "\n",
    "$$L(M) = \\{u \\in A^* : \\exists q \\in F, (q0, u) \\vdash^* (q, \\epsilon), \\}$$\n",
    "\n",
    "- Las palabras de L(M) se dicen aceptadas por el autómata"
   ]
  },
  {
   "cell_type": "markdown",
   "metadata": {
    "slideshow": {
     "slide_type": "slide"
    }
   },
   "source": [
    "# Equivalencia de Automatas Determinísticos y No Determinísticos\n",
    "\n",
    "- Dado un AFND $M = (Q, A, \\delta, q_0, F)$ se llama autómata determinístico asociado o equivalente a $M$, al autómata $M' = (Q', A', \\delta', q_0', F')$ dado por\n",
    "- $Q' = \\zeta(Q)$\n",
    "- $q_0' = \\{q_0\\}$\n",
    "- $\\delta'(B,a) = \\delta^*(B,a) = \\cup_{q\\in B} \\delta(q,a)$\n",
    "- $F' = {B \\in \\zeta(Q) \\hspace{2 mm} | \\hspace{2 mm} B \\cap F \\neq \\emptyset}$"
   ]
  },
  {
   "cell_type": "markdown",
   "metadata": {
    "slideshow": {
     "slide_type": "slide"
    }
   },
   "source": [
    "## Ejemplo:\n",
    "\n",
    "### Paso 1:\n",
    "\n",
    "![](../figuras/afnd_afd_1.pdf)"
   ]
  },
  {
   "cell_type": "markdown",
   "metadata": {
    "slideshow": {
     "slide_type": "subslide"
    }
   },
   "source": [
    "### Paso 2:\n",
    "\n",
    "![](../figuras/afnd_afd_2.pdf)"
   ]
  },
  {
   "cell_type": "markdown",
   "metadata": {
    "slideshow": {
     "slide_type": "subslide"
    }
   },
   "source": [
    "### Paso 3:\n",
    "\n",
    "![](../figuras/afnd_afd_3.pdf)"
   ]
  },
  {
   "cell_type": "markdown",
   "metadata": {
    "slideshow": {
     "slide_type": "subslide"
    }
   },
   "source": [
    "### Paso 4:\n",
    "\n",
    "![](../figuras/afnd_afd_4.pdf)"
   ]
  },
  {
   "cell_type": "markdown",
   "metadata": {
    "slideshow": {
     "slide_type": "subslide"
    }
   },
   "source": [
    "### Paso 5:\n",
    "\n",
    "![](../figuras/afnd_afd_5.pdf)"
   ]
  },
  {
   "cell_type": "markdown",
   "metadata": {
    "slideshow": {
     "slide_type": "subslide"
    }
   },
   "source": [
    "### Paso 6:\n",
    "\n",
    "![](../figuras/afnd_afd_6.pdf)"
   ]
  },
  {
   "cell_type": "markdown",
   "metadata": {
    "slideshow": {
     "slide_type": "subslide"
    }
   },
   "source": [
    "### Paso 7:\n",
    "\n",
    "![](../figuras/afnd_afd_7.pdf)"
   ]
  },
  {
   "cell_type": "markdown",
   "metadata": {
    "slideshow": {
     "slide_type": "subslide"
    }
   },
   "source": [
    "### Paso 8:\n",
    "\n",
    "\n",
    "![](../figuras/afnd_afd_8.pdf)"
   ]
  },
  {
   "cell_type": "markdown",
   "metadata": {
    "slideshow": {
     "slide_type": "subslide"
    }
   },
   "source": [
    "### Paso 9:\n",
    "\n",
    "![](../figuras/afnd_afd_9.pdf)"
   ]
  },
  {
   "cell_type": "markdown",
   "metadata": {
    "slideshow": {
     "slide_type": "subslide"
    }
   },
   "source": [
    "### Paso 10:\n",
    "\n",
    "![](../figuras/afnd_afd_10.pdf)"
   ]
  },
  {
   "cell_type": "markdown",
   "metadata": {
    "slideshow": {
     "slide_type": "subslide"
    }
   },
   "source": [
    "### Paso 11:\n",
    "\n",
    "![](../figuras/afnd_afd_11.pdf)"
   ]
  },
  {
   "cell_type": "markdown",
   "metadata": {
    "slideshow": {
     "slide_type": "subslide"
    }
   },
   "source": [
    "### Paso 12:\n",
    "\n",
    "![](../figuras/afnd_afd_12.pdf)"
   ]
  },
  {
   "cell_type": "markdown",
   "metadata": {
    "slideshow": {
     "slide_type": "subslide"
    }
   },
   "source": [
    "### Paso 13:\n",
    "\n",
    "![](../figuras/afnd_afd_13.pdf)"
   ]
  },
  {
   "cell_type": "markdown",
   "metadata": {
    "slideshow": {
     "slide_type": "subslide"
    }
   },
   "source": [
    "### Paso 14:\n",
    "\n",
    "![](../figuras/afnd_afd_14.pdf)"
   ]
  },
  {
   "cell_type": "markdown",
   "metadata": {
    "slideshow": {
     "slide_type": "subslide"
    }
   },
   "source": [
    "### Paso 15:\n",
    "\n",
    "![](../figuras/afnd_afd_15.pdf)"
   ]
  },
  {
   "cell_type": "markdown",
   "metadata": {
    "slideshow": {
     "slide_type": "subslide"
    }
   },
   "source": [
    "### Paso 16:\n",
    "\n",
    "![](../figuras/afnd_afd_16.pdf)"
   ]
  },
  {
   "cell_type": "markdown",
   "metadata": {
    "slideshow": {
     "slide_type": "subslide"
    }
   },
   "source": [
    "### Paso 17:\n",
    "\n",
    "![](../figuras/afnd_afd_17.pdf)"
   ]
  },
  {
   "cell_type": "markdown",
   "metadata": {
    "slideshow": {
     "slide_type": "subslide"
    }
   },
   "source": [
    "### Paso 18:\n",
    "\n",
    "![](../figuras/afnd_afd_18.pdf)"
   ]
  },
  {
   "cell_type": "markdown",
   "metadata": {
    "slideshow": {
     "slide_type": "subslide"
    }
   },
   "source": [
    "### Paso 19:\n",
    "\n",
    "![](../figuras/afnd_afd_19.pdf)"
   ]
  },
  {
   "cell_type": "markdown",
   "metadata": {
    "slideshow": {
     "slide_type": "subslide"
    }
   },
   "source": [
    "### Paso 20:\n",
    "\n",
    "![](../figuras/afnd_afd_20.pdf)"
   ]
  },
  {
   "cell_type": "markdown",
   "metadata": {
    "slideshow": {
     "slide_type": "subslide"
    }
   },
   "source": [
    "### Paso 21:\n",
    "\n",
    "![](../figuras/afnd_afd_21.pdf)"
   ]
  },
  {
   "cell_type": "markdown",
   "metadata": {
    "slideshow": {
     "slide_type": "subslide"
    }
   },
   "source": [
    "### Paso 22:\n",
    "\n",
    "![](../figuras/afnd_afd_22.pdf)"
   ]
  },
  {
   "cell_type": "markdown",
   "metadata": {
    "slideshow": {
     "slide_type": "subslide"
    }
   },
   "source": [
    "### Paso 23:\n",
    "\n",
    "![](../figuras/afnd_afd_23.pdf)"
   ]
  },
  {
   "cell_type": "markdown",
   "metadata": {
    "slideshow": {
     "slide_type": "slide"
    }
   },
   "source": [
    "# Autómatas Finitos No-determinísticos con Transiciones Nulas"
   ]
  },
  {
   "cell_type": "markdown",
   "metadata": {
    "slideshow": {
     "slide_type": "subslide"
    }
   },
   "source": [
    "- Un Autómata Finito no Determinísticos con Transiciones Nulas es una quíntupla $M = (Q, A, \\delta, q_0, F)$ donde\n",
    "- $Q$ es un conjunto finito llamado conjunto de estados\n",
    "- $A$ es un alfabeto llamado alfabeto de entrada\n",
    "- $\\delta$ es una aplicación llamada función de transición\n",
    "$$\\delta : Q \\times (A \\cup \\{\\epsilon\\}) \\to \\vartheta(Q)$$\n",
    "- $q_0$ es un elemento de $Q$ llamado estado inicial\n",
    "- $F$ es un subconjunto de $Q$, llamado estados finales"
   ]
  },
  {
   "cell_type": "markdown",
   "metadata": {
    "slideshow": {
     "slide_type": "slide"
    }
   },
   "source": [
    "# Opciones\n",
    "\n",
    "\n",
    "![](../figuras/afndtn_1.pdf)"
   ]
  },
  {
   "cell_type": "markdown",
   "metadata": {
    "slideshow": {
     "slide_type": "slide"
    }
   },
   "source": [
    "# Ejemplos\n",
    "\n",
    "![](../figuras/afndtn_2.pdf)"
   ]
  },
  {
   "cell_type": "markdown",
   "metadata": {
    "slideshow": {
     "slide_type": "slide"
    }
   },
   "source": [
    "# Utilidad\n",
    "\n",
    "- Conjunto de palabras que tienen a 0110 o a 1000 como subcadena.\n",
    "\n",
    "![](../figuras/afndtn_3.pdf)"
   ]
  },
  {
   "cell_type": "markdown",
   "metadata": {
    "slideshow": {
     "slide_type": "subslide"
    }
   },
   "source": [
    "![](../figuras/afndtn_4.pdf)"
   ]
  },
  {
   "cell_type": "markdown",
   "metadata": {
    "slideshow": {
     "slide_type": "subslide"
    }
   },
   "source": [
    "![](../figuras/afndtn_5.pdf)"
   ]
  },
  {
   "cell_type": "markdown",
   "metadata": {
    "slideshow": {
     "slide_type": "slide"
    }
   },
   "source": [
    "# Equivalencia entre un Automáta Finito Determinístico y un Autómata Finito no Determinísticos con Transiciones Nulas\n",
    "\n",
    "- Dado un autómata finito determinístico $M$ existe un autómata finito no determinístico con transiciones nulas $M'$ que acepta el mismo lenguaje: $L(M) = L(M')$\n",
    "- Es inmediato: sería un autómata en el que para cada símbolo del alfabeto de entrada hay siempre una opción y para cada estado  $\\delta(q,\\epsilon) \\neq \\emptyset$\n",
    "- Dado un autómata finito no determinista con transiciones nulas $M$ existe un autómata finito determinista  $M'$ que acepta el mismo lenguaje: $L(M) = L(M')$"
   ]
  },
  {
   "cell_type": "markdown",
   "metadata": {
    "slideshow": {
     "slide_type": "slide"
    }
   },
   "source": [
    "# Ejemplo\n",
    "\n",
    "![](../figuras/afndtn_afd_1.pdf)"
   ]
  },
  {
   "cell_type": "markdown",
   "metadata": {
    "slideshow": {
     "slide_type": "subslide"
    }
   },
   "source": [
    "### Paso 1:\n",
    "\n",
    "![](../figuras/afndtn_afd_2.pdf)"
   ]
  },
  {
   "cell_type": "markdown",
   "metadata": {
    "slideshow": {
     "slide_type": "subslide"
    }
   },
   "source": [
    "### Paso 2:\n",
    "\n",
    "![](../figuras/afndtn_afd_3.pdf)"
   ]
  },
  {
   "cell_type": "markdown",
   "metadata": {
    "slideshow": {
     "slide_type": "subslide"
    }
   },
   "source": [
    "### Paso 3:\n",
    "\n",
    "![](../figuras/afndtn_afd_4.pdf)"
   ]
  },
  {
   "cell_type": "markdown",
   "metadata": {
    "slideshow": {
     "slide_type": "subslide"
    }
   },
   "source": [
    "### Paso 4:\n",
    "\n",
    "![](../figuras/afndtn_afd_5.pdf)"
   ]
  },
  {
   "cell_type": "markdown",
   "metadata": {
    "slideshow": {
     "slide_type": "subslide"
    }
   },
   "source": [
    "### Paso 5:\n",
    "\n",
    "![](../figuras/afndtn_afd_6.pdf)"
   ]
  },
  {
   "cell_type": "markdown",
   "metadata": {
    "slideshow": {
     "slide_type": "subslide"
    }
   },
   "source": [
    "### Paso 6:\n",
    "\n",
    "![](../figuras/afndtn_afd_7.pdf)"
   ]
  },
  {
   "cell_type": "markdown",
   "metadata": {
    "slideshow": {
     "slide_type": "subslide"
    }
   },
   "source": [
    "### Paso 7:\n",
    "\n",
    "![](../figuras/afndtn_afd_8.pdf)"
   ]
  },
  {
   "cell_type": "markdown",
   "metadata": {
    "slideshow": {
     "slide_type": "subslide"
    }
   },
   "source": [
    "### Paso 8:\n",
    "\n",
    "![](../figuras/afndtn_afd_9.pdf)"
   ]
  },
  {
   "cell_type": "markdown",
   "metadata": {
    "slideshow": {
     "slide_type": "subslide"
    }
   },
   "source": [
    "### Paso 9:\n",
    "\n",
    "![](../figuras/afndtn_afd_10.pdf)"
   ]
  },
  {
   "cell_type": "markdown",
   "metadata": {
    "slideshow": {
     "slide_type": "slide"
    }
   },
   "source": [
    "# $\\epsilon$-Clausura de un Estado\n",
    "\n",
    "- Para construir $M'$ a partir de $M$ se requiere la noción de $\\epsilon$-clausura de un estado. Para un estado $q \\in Q$, la $\\epsilon$-clausura de $q$, notada $\\epsilon[q]$. es el conjunto de estados de $M$ a los que se puede llegar desde $q$ por $0$, $1$ o más transiciones $\\epsilon$. Nótese que,  en general, $\\epsilon[q] \\neq \\Delta(q, \\epsilon)$. - La, $q \\in \\epsilon[q]$. la ε-clausura de un conjunto de estados $\\{q_1, \\cdots , q_n\\}$ se define por:\n",
    "$$\\epsilon[\\{q_1, \\cdots , q_n\\}] := \\epsilon[q1] \\cup \\cdots \\cup \\epsilon[qn]$$"
   ]
  },
  {
   "cell_type": "markdown",
   "metadata": {
    "slideshow": {
     "slide_type": "slide"
    }
   },
   "source": [
    "# Ejemplo\n",
    "\n",
    "### Paso 1:\n",
    "\n",
    "![](../figuras/afndtn_afd_11.pdf)"
   ]
  },
  {
   "cell_type": "markdown",
   "metadata": {
    "slideshow": {
     "slide_type": "subslide"
    }
   },
   "source": [
    "### Paso 2:\n",
    "\n",
    "![](../figuras/afndtn_afd_12.pdf)"
   ]
  },
  {
   "cell_type": "markdown",
   "metadata": {
    "slideshow": {
     "slide_type": "subslide"
    }
   },
   "source": [
    "### Paso 3:\n",
    "\n",
    "![](../figuras/afndtn_afd_13.pdf)"
   ]
  },
  {
   "cell_type": "markdown",
   "metadata": {
    "slideshow": {
     "slide_type": "subslide"
    }
   },
   "source": [
    "### Paso 4:\n",
    "\n",
    "![](../figuras/afndtn_afd_14.pdf)"
   ]
  },
  {
   "cell_type": "markdown",
   "metadata": {
    "slideshow": {
     "slide_type": "subslide"
    }
   },
   "source": [
    "### Paso 5:\n",
    "\n",
    "![](../figuras/afndtn_afd_15.pdf)"
   ]
  },
  {
   "cell_type": "markdown",
   "metadata": {
    "slideshow": {
     "slide_type": "subslide"
    }
   },
   "source": [
    "### Paso 6:\n",
    "\n",
    "![](../figuras/afndtn_afd_16.pdf)"
   ]
  },
  {
   "cell_type": "markdown",
   "metadata": {
    "slideshow": {
     "slide_type": "subslide"
    }
   },
   "source": [
    "### Paso 7:\n",
    "\n",
    "![](../figuras/afndtn_afd_17.pdf)"
   ]
  },
  {
   "cell_type": "markdown",
   "metadata": {
    "slideshow": {
     "slide_type": "subslide"
    }
   },
   "source": [
    "### Paso 8:\n",
    "\n",
    "![](../figuras/afndtn_afd_18.pdf)"
   ]
  },
  {
   "cell_type": "markdown",
   "metadata": {
    "slideshow": {
     "slide_type": "subslide"
    }
   },
   "source": [
    "### Paso 9:\n",
    "\n",
    "![](../figuras/afndtn_afd_19.pdf)"
   ]
  },
  {
   "cell_type": "markdown",
   "metadata": {
    "slideshow": {
     "slide_type": "subslide"
    }
   },
   "source": [
    "### Paso 10:\n",
    "\n",
    "![](../figuras/afndtn_afd_20.pdf)"
   ]
  },
  {
   "cell_type": "markdown",
   "metadata": {
    "slideshow": {
     "slide_type": "subslide"
    }
   },
   "source": [
    "### Paso 11:\n",
    "\n",
    "![](../figuras/afndtn_afd_21.pdf)"
   ]
  }
 ],
 "metadata": {
  "celltoolbar": "Slideshow",
  "kernelspec": {
   "display_name": "Python 3",
   "language": "python",
   "name": "python3"
  },
  "language_info": {
   "codemirror_mode": {
    "name": "ipython",
    "version": 3
   },
   "file_extension": ".py",
   "mimetype": "text/x-python",
   "name": "python",
   "nbconvert_exporter": "python",
   "pygments_lexer": "ipython3",
   "version": "3.7.5"
  }
 },
 "nbformat": 4,
 "nbformat_minor": 4
}
